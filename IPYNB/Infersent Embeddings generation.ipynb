{
 "cells": [
  {
   "cell_type": "code",
   "execution_count": 1,
   "metadata": {
    "ExecuteTime": {
     "end_time": "2019-01-19T15:33:03.146208Z",
     "start_time": "2019-01-19T15:33:00.917826Z"
    }
   },
   "outputs": [
    {
     "name": "stderr",
     "output_type": "stream",
     "text": [
      "Using TensorFlow backend.\n"
     ]
    }
   ],
   "source": [
    "#This code is for adaptive GPU usage\n",
    "import keras.backend as K\n",
    "cfg = K.tf.ConfigProto()\n",
    "cfg.gpu_options.allow_growth = True\n",
    "K.set_session(K.tf.Session(config=cfg))"
   ]
  },
  {
   "cell_type": "code",
   "execution_count": 1,
   "metadata": {
    "ExecuteTime": {
     "end_time": "2019-01-20T13:27:38.440388Z",
     "start_time": "2019-01-20T13:27:37.044154Z"
    }
   },
   "outputs": [],
   "source": [
    "from InferSent.models import InferSent\n",
    "import time\n",
    "import torch\n",
    "import pandas as pd\n",
    "import numpy as np\n",
    "from sklearn.decomposition import PCA\n",
    "\n",
    "V = 2\n",
    "MODEL_PATH = './InferSent/encoder/infersent%s.pkl' % V\n",
    "params_model = {'bsize': 64, 'word_emb_dim': 300, 'enc_lstm_dim': 2048,\n",
    "                'pool_type': 'max', 'dpout_model': 0.0, 'version': V}\n",
    "infersent = InferSent(params_model)\n",
    "infersent.load_state_dict(torch.load(MODEL_PATH))\n",
    "\n",
    "W2V_PATH = './InferSent/dataset/GloVe/glove.840B.300d.txt'\n",
    "infersent.set_w2v_path(W2V_PATH)"
   ]
  },
  {
   "cell_type": "code",
   "execution_count": 3,
   "metadata": {
    "ExecuteTime": {
     "end_time": "2019-01-19T15:33:04.286989Z",
     "start_time": "2019-01-19T15:33:04.129866Z"
    }
   },
   "outputs": [],
   "source": [
    "data = pd.read_csv(\"SemEval Full Data.csv\")\n",
    "# data2 = pd.read_csv(\"Tree_Model/Data/Test/clean_test2_elmo.csv\")\n",
    "# data.columns = ['queryID','query','response','labelID']"
   ]
  },
  {
   "cell_type": "code",
   "execution_count": 4,
   "metadata": {
    "ExecuteTime": {
     "end_time": "2019-01-19T15:33:04.411085Z",
     "start_time": "2019-01-19T15:33:04.288981Z"
    }
   },
   "outputs": [
    {
     "data": {
      "text/html": [
       "<div>\n",
       "<style scoped>\n",
       "    .dataframe tbody tr th:only-of-type {\n",
       "        vertical-align: middle;\n",
       "    }\n",
       "\n",
       "    .dataframe tbody tr th {\n",
       "        vertical-align: top;\n",
       "    }\n",
       "\n",
       "    .dataframe thead th {\n",
       "        text-align: right;\n",
       "    }\n",
       "</style>\n",
       "<table border=\"1\" class=\"dataframe\">\n",
       "  <thead>\n",
       "    <tr style=\"text-align: right;\">\n",
       "      <th></th>\n",
       "      <th>qid</th>\n",
       "      <th>ref_id</th>\n",
       "      <th>category</th>\n",
       "      <th>question</th>\n",
       "      <th>reference_ans</th>\n",
       "      <th>student_ans</th>\n",
       "      <th>acccuracy</th>\n",
       "    </tr>\n",
       "  </thead>\n",
       "  <tbody>\n",
       "    <tr>\n",
       "      <th>0</th>\n",
       "      <td>BULB_C_VOLTAGE_EXPLAIN_WHY1</td>\n",
       "      <td>answer204</td>\n",
       "      <td>BEST</td>\n",
       "      <td>Explain why you got a voltage reading of 1.5 f...</td>\n",
       "      <td>Terminal 1 and the positive terminal are separ...</td>\n",
       "      <td>The positive battery terminal is separated by ...</td>\n",
       "      <td>correct</td>\n",
       "    </tr>\n",
       "    <tr>\n",
       "      <th>1</th>\n",
       "      <td>BULB_C_VOLTAGE_EXPLAIN_WHY1</td>\n",
       "      <td>answer204</td>\n",
       "      <td>BEST</td>\n",
       "      <td>Explain why you got a voltage reading of 1.5 f...</td>\n",
       "      <td>Terminal 1 and the positive terminal are separ...</td>\n",
       "      <td>terminal one was positive</td>\n",
       "      <td>incorrect</td>\n",
       "    </tr>\n",
       "    <tr>\n",
       "      <th>2</th>\n",
       "      <td>BULB_C_VOLTAGE_EXPLAIN_WHY1</td>\n",
       "      <td>answer204</td>\n",
       "      <td>BEST</td>\n",
       "      <td>Explain why you got a voltage reading of 1.5 f...</td>\n",
       "      <td>Terminal 1 and the positive terminal are separ...</td>\n",
       "      <td>terminal 1 is positive</td>\n",
       "      <td>incorrect</td>\n",
       "    </tr>\n",
       "    <tr>\n",
       "      <th>3</th>\n",
       "      <td>BULB_C_VOLTAGE_EXPLAIN_WHY1</td>\n",
       "      <td>answer204</td>\n",
       "      <td>BEST</td>\n",
       "      <td>Explain why you got a voltage reading of 1.5 f...</td>\n",
       "      <td>Terminal 1 and the positive terminal are separ...</td>\n",
       "      <td>i have absolutely no idea</td>\n",
       "      <td>incorrect</td>\n",
       "    </tr>\n",
       "    <tr>\n",
       "      <th>4</th>\n",
       "      <td>BULB_C_VOLTAGE_EXPLAIN_WHY1</td>\n",
       "      <td>answer204</td>\n",
       "      <td>BEST</td>\n",
       "      <td>Explain why you got a voltage reading of 1.5 f...</td>\n",
       "      <td>Terminal 1 and the positive terminal are separ...</td>\n",
       "      <td>the terminal is separated from the positive ba...</td>\n",
       "      <td>correct</td>\n",
       "    </tr>\n",
       "  </tbody>\n",
       "</table>\n",
       "</div>"
      ],
      "text/plain": [
       "                           qid     ref_id category  \\\n",
       "0  BULB_C_VOLTAGE_EXPLAIN_WHY1  answer204     BEST   \n",
       "1  BULB_C_VOLTAGE_EXPLAIN_WHY1  answer204     BEST   \n",
       "2  BULB_C_VOLTAGE_EXPLAIN_WHY1  answer204     BEST   \n",
       "3  BULB_C_VOLTAGE_EXPLAIN_WHY1  answer204     BEST   \n",
       "4  BULB_C_VOLTAGE_EXPLAIN_WHY1  answer204     BEST   \n",
       "\n",
       "                                            question  \\\n",
       "0  Explain why you got a voltage reading of 1.5 f...   \n",
       "1  Explain why you got a voltage reading of 1.5 f...   \n",
       "2  Explain why you got a voltage reading of 1.5 f...   \n",
       "3  Explain why you got a voltage reading of 1.5 f...   \n",
       "4  Explain why you got a voltage reading of 1.5 f...   \n",
       "\n",
       "                                       reference_ans  \\\n",
       "0  Terminal 1 and the positive terminal are separ...   \n",
       "1  Terminal 1 and the positive terminal are separ...   \n",
       "2  Terminal 1 and the positive terminal are separ...   \n",
       "3  Terminal 1 and the positive terminal are separ...   \n",
       "4  Terminal 1 and the positive terminal are separ...   \n",
       "\n",
       "                                         student_ans  acccuracy  \n",
       "0  The positive battery terminal is separated by ...    correct  \n",
       "1                          terminal one was positive  incorrect  \n",
       "2                             terminal 1 is positive  incorrect  \n",
       "3                          i have absolutely no idea  incorrect  \n",
       "4  the terminal is separated from the positive ba...    correct  "
      ]
     },
     "execution_count": 4,
     "metadata": {},
     "output_type": "execute_result"
    }
   ],
   "source": [
    "data.head()"
   ]
  },
  {
   "cell_type": "code",
   "execution_count": 5,
   "metadata": {
    "ExecuteTime": {
     "end_time": "2019-01-19T15:33:04.640701Z",
     "start_time": "2019-01-19T15:33:04.412937Z"
    }
   },
   "outputs": [],
   "source": [
    "data['question'] = data['question'].astype(str)\n",
    "data['reference_ans'] = data['reference_ans'].astype(str)\n",
    "data['student_ans'] = data['student_ans'].astype(str)"
   ]
  },
  {
   "cell_type": "code",
   "execution_count": 6,
   "metadata": {
    "ExecuteTime": {
     "end_time": "2019-01-19T15:33:31.361302Z",
     "start_time": "2019-01-19T15:33:04.643577Z"
    }
   },
   "outputs": [
    {
     "name": "stdout",
     "output_type": "stream",
     "text": [
      "Found 1390(/1406) words with w2v vectors\n",
      "Vocab size : 1390\n"
     ]
    }
   ],
   "source": [
    "infersent.build_vocab(data['question'], tokenize=True)"
   ]
  },
  {
   "cell_type": "code",
   "execution_count": 7,
   "metadata": {
    "ExecuteTime": {
     "end_time": "2019-01-19T15:33:47.158314Z",
     "start_time": "2019-01-19T15:33:31.363392Z"
    }
   },
   "outputs": [
    {
     "name": "stdout",
     "output_type": "stream",
     "text": [
      "Found 318(/323) words with w2v vectors\n",
      "New vocab size : 1708 (added 318 words)\n"
     ]
    }
   ],
   "source": [
    "infersent.update_vocab(data['reference_ans'], tokenize=True)"
   ]
  },
  {
   "cell_type": "code",
   "execution_count": 8,
   "metadata": {
    "ExecuteTime": {
     "end_time": "2019-01-19T15:34:01.375634Z",
     "start_time": "2019-01-19T15:33:47.160209Z"
    }
   },
   "outputs": [
    {
     "name": "stdout",
     "output_type": "stream",
     "text": [
      "Found 2846(/3010) words with w2v vectors\n",
      "New vocab size : 4554 (added 2846 words)\n"
     ]
    }
   ],
   "source": [
    "infersent.update_vocab(data['student_ans'], tokenize=True)"
   ]
  },
  {
   "cell_type": "code",
   "execution_count": 9,
   "metadata": {
    "ExecuteTime": {
     "end_time": "2019-01-19T15:34:03.802192Z",
     "start_time": "2019-01-19T15:34:01.377340Z"
    }
   },
   "outputs": [],
   "source": [
    "infersent = infersent.cuda()"
   ]
  },
  {
   "cell_type": "code",
   "execution_count": 11,
   "metadata": {
    "ExecuteTime": {
     "end_time": "2019-01-19T15:34:06.168076Z",
     "start_time": "2019-01-19T15:34:06.156499Z"
    }
   },
   "outputs": [],
   "source": [
    "def get_embeddings(data, batch_size, ltype):\n",
    "    prev = time.time()\n",
    "    for i in range(0,data.shape[0],batch_size):\n",
    "        print(i)\n",
    "        print(\"Time : \", time.time()-prev)\n",
    "        prev = time.time()\n",
    "        \n",
    "        qem = np.float16(infersent.encode(data['question'].values[i:i+batch_size], tokenize=True))\n",
    "        rem = np.float16(infersent.encode(data['reference_ans'].values[i:i+batch_size], tokenize=True))\n",
    "        sem = np.float16(infersent.encode(data['student_ans'].values[i:i+batch_size], tokenize=True))\n",
    "        \n",
    "        torch.cuda.empty_cache()\n",
    "        \n",
    "        if(i == 0):\n",
    "            q_embed = pd.DataFrame(qem)\n",
    "            r_embed = pd.DataFrame(rem)\n",
    "            s_embed = pd.DataFrame(sem)\n",
    "        else:\n",
    "            q_embed = pd.concat([q_embed,pd.DataFrame(qem)],axis=0)\n",
    "            r_embed = pd.concat([r_embed,pd.DataFrame(rem)],axis=0)\n",
    "            s_embed = pd.concat([s_embed,pd.DataFrame(sem)],axis=0)\n",
    "\n",
    "        print(q_embed.shape, r_embed.shape, s_embed.shape)\n",
    "\n",
    "    return q_embed, r_embed, s_embed"
   ]
  },
  {
   "cell_type": "code",
   "execution_count": 12,
   "metadata": {
    "ExecuteTime": {
     "end_time": "2019-01-19T15:39:32.372659Z",
     "start_time": "2019-01-19T15:34:08.202536Z"
    },
    "scrolled": true
   },
   "outputs": [
    {
     "name": "stdout",
     "output_type": "stream",
     "text": [
      "0\n",
      "Time :  0.0001347064971923828\n",
      "(500, 4096) (500, 4096) (500, 4096)\n",
      "500\n",
      "Time :  2.3983142375946045\n",
      "(1000, 4096) (1000, 4096) (1000, 4096)\n",
      "1000\n",
      "Time :  2.1294097900390625\n",
      "(1500, 4096) (1500, 4096) (1500, 4096)\n",
      "1500\n",
      "Time :  3.2153069972991943\n",
      "(2000, 4096) (2000, 4096) (2000, 4096)\n",
      "2000\n",
      "Time :  4.707529067993164\n",
      "(2500, 4096) (2500, 4096) (2500, 4096)\n",
      "2500\n",
      "Time :  4.334707975387573\n",
      "(3000, 4096) (3000, 4096) (3000, 4096)\n",
      "3000\n",
      "Time :  2.417628288269043\n",
      "(3500, 4096) (3500, 4096) (3500, 4096)\n",
      "3500\n",
      "Time :  2.780672311782837\n",
      "(4000, 4096) (4000, 4096) (4000, 4096)\n",
      "4000\n",
      "Time :  2.897702217102051\n",
      "(4500, 4096) (4500, 4096) (4500, 4096)\n",
      "4500\n",
      "Time :  2.8903608322143555\n",
      "(5000, 4096) (5000, 4096) (5000, 4096)\n",
      "5000\n",
      "Time :  2.895291328430176\n",
      "(5500, 4096) (5500, 4096) (5500, 4096)\n",
      "5500\n",
      "Time :  3.7608535289764404\n",
      "(6000, 4096) (6000, 4096) (6000, 4096)\n",
      "6000\n",
      "Time :  3.514214038848877\n",
      "(6500, 4096) (6500, 4096) (6500, 4096)\n",
      "6500\n",
      "Time :  3.575150489807129\n",
      "(7000, 4096) (7000, 4096) (7000, 4096)\n",
      "7000\n",
      "Time :  3.828817367553711\n",
      "(7500, 4096) (7500, 4096) (7500, 4096)\n",
      "7500\n",
      "Time :  2.414248466491699\n",
      "(8000, 4096) (8000, 4096) (8000, 4096)\n",
      "8000\n",
      "Time :  2.2798235416412354\n",
      "(8500, 4096) (8500, 4096) (8500, 4096)\n",
      "8500\n",
      "Time :  2.5381126403808594\n",
      "(9000, 4096) (9000, 4096) (9000, 4096)\n",
      "9000\n",
      "Time :  4.1228437423706055\n",
      "(9500, 4096) (9500, 4096) (9500, 4096)\n",
      "9500\n",
      "Time :  5.378195762634277\n",
      "(10000, 4096) (10000, 4096) (10000, 4096)\n",
      "10000\n",
      "Time :  2.898650646209717\n",
      "(10500, 4096) (10500, 4096) (10500, 4096)\n",
      "10500\n",
      "Time :  2.5455527305603027\n",
      "(11000, 4096) (11000, 4096) (11000, 4096)\n",
      "11000\n",
      "Time :  3.219008207321167\n",
      "(11500, 4096) (11500, 4096) (11500, 4096)\n",
      "11500\n",
      "Time :  3.0840530395507812\n",
      "(12000, 4096) (12000, 4096) (12000, 4096)\n",
      "12000\n",
      "Time :  2.7788171768188477\n",
      "(12500, 4096) (12500, 4096) (12500, 4096)\n",
      "12500\n",
      "Time :  3.5247976779937744\n",
      "(13000, 4096) (13000, 4096) (13000, 4096)\n",
      "13000\n",
      "Time :  3.573333501815796\n",
      "(13500, 4096) (13500, 4096) (13500, 4096)\n",
      "13500\n",
      "Time :  4.00713324546814\n",
      "(14000, 4096) (14000, 4096) (14000, 4096)\n",
      "14000\n",
      "Time :  3.610907554626465\n",
      "(14500, 4096) (14500, 4096) (14500, 4096)\n",
      "14500\n",
      "Time :  2.9853689670562744\n",
      "(15000, 4096) (15000, 4096) (15000, 4096)\n",
      "15000\n",
      "Time :  2.303229331970215\n",
      "(15500, 4096) (15500, 4096) (15500, 4096)\n",
      "15500\n",
      "Time :  1.811814785003662\n",
      "(16000, 4096) (16000, 4096) (16000, 4096)\n",
      "16000\n",
      "Time :  2.3360729217529297\n",
      "(16500, 4096) (16500, 4096) (16500, 4096)\n",
      "16500\n",
      "Time :  2.0685105323791504\n",
      "(17000, 4096) (17000, 4096) (17000, 4096)\n",
      "17000\n",
      "Time :  1.656644582748413\n",
      "(17500, 4096) (17500, 4096) (17500, 4096)\n",
      "17500\n",
      "Time :  1.7877891063690186\n",
      "(18000, 4096) (18000, 4096) (18000, 4096)\n",
      "18000\n",
      "Time :  1.6687629222869873\n",
      "(18500, 4096) (18500, 4096) (18500, 4096)\n",
      "18500\n",
      "Time :  3.0336854457855225\n",
      "(19000, 4096) (19000, 4096) (19000, 4096)\n",
      "19000\n",
      "Time :  4.056489706039429\n",
      "(19500, 4096) (19500, 4096) (19500, 4096)\n",
      "19500\n",
      "Time :  3.683203935623169\n",
      "(20000, 4096) (20000, 4096) (20000, 4096)\n",
      "20000\n",
      "Time :  3.660571813583374\n",
      "(20500, 4096) (20500, 4096) (20500, 4096)\n",
      "20500\n",
      "Time :  5.580596446990967\n",
      "(21000, 4096) (21000, 4096) (21000, 4096)\n",
      "21000\n",
      "Time :  3.598220109939575\n",
      "(21500, 4096) (21500, 4096) (21500, 4096)\n",
      "21500\n",
      "Time :  3.6008713245391846\n",
      "(22000, 4096) (22000, 4096) (22000, 4096)\n",
      "22000\n",
      "Time :  5.405931234359741\n",
      "(22500, 4096) (22500, 4096) (22500, 4096)\n",
      "22500\n",
      "Time :  4.041762113571167\n",
      "(23000, 4096) (23000, 4096) (23000, 4096)\n",
      "23000\n",
      "Time :  3.437913179397583\n",
      "(23500, 4096) (23500, 4096) (23500, 4096)\n",
      "23500\n",
      "Time :  2.639554738998413\n",
      "(24000, 4096) (24000, 4096) (24000, 4096)\n",
      "24000\n",
      "Time :  2.3609142303466797\n",
      "(24500, 4096) (24500, 4096) (24500, 4096)\n",
      "24500\n",
      "Time :  2.029916763305664\n",
      "(25000, 4096) (25000, 4096) (25000, 4096)\n",
      "25000\n",
      "Time :  2.551602363586426\n",
      "(25500, 4096) (25500, 4096) (25500, 4096)\n",
      "25500\n",
      "Time :  2.1132538318634033\n",
      "(26000, 4096) (26000, 4096) (26000, 4096)\n",
      "26000\n",
      "Time :  1.7126872539520264\n",
      "(26500, 4096) (26500, 4096) (26500, 4096)\n",
      "26500\n",
      "Time :  1.9405078887939453\n",
      "(27000, 4096) (27000, 4096) (27000, 4096)\n",
      "27000\n",
      "Time :  1.8523445129394531\n",
      "(27500, 4096) (27500, 4096) (27500, 4096)\n",
      "27500\n",
      "Time :  3.7199177742004395\n",
      "(28000, 4096) (28000, 4096) (28000, 4096)\n",
      "28000\n",
      "Time :  3.8674473762512207\n",
      "(28500, 4096) (28500, 4096) (28500, 4096)\n",
      "28500\n",
      "Time :  4.4675211906433105\n",
      "(29000, 4096) (29000, 4096) (29000, 4096)\n",
      "29000\n",
      "Time :  4.091390132904053\n",
      "(29500, 4096) (29500, 4096) (29500, 4096)\n",
      "29500\n",
      "Time :  5.022014379501343\n",
      "(30000, 4096) (30000, 4096) (30000, 4096)\n",
      "30000\n",
      "Time :  3.8356003761291504\n",
      "(30500, 4096) (30500, 4096) (30500, 4096)\n",
      "30500\n",
      "Time :  4.112303733825684\n",
      "(31000, 4096) (31000, 4096) (31000, 4096)\n",
      "31000\n",
      "Time :  5.505465030670166\n",
      "(31500, 4096) (31500, 4096) (31500, 4096)\n",
      "31500\n",
      "Time :  3.41485595703125\n",
      "(32000, 4096) (32000, 4096) (32000, 4096)\n",
      "32000\n",
      "Time :  4.198560953140259\n",
      "(32500, 4096) (32500, 4096) (32500, 4096)\n",
      "32500\n",
      "Time :  2.7169103622436523\n",
      "(33000, 4096) (33000, 4096) (33000, 4096)\n",
      "33000\n",
      "Time :  2.6414268016815186\n",
      "(33500, 4096) (33500, 4096) (33500, 4096)\n",
      "33500\n",
      "Time :  2.1358606815338135\n",
      "(34000, 4096) (34000, 4096) (34000, 4096)\n",
      "34000\n",
      "Time :  2.4894399642944336\n",
      "(34500, 4096) (34500, 4096) (34500, 4096)\n",
      "34500\n",
      "Time :  2.1869914531707764\n",
      "(35000, 4096) (35000, 4096) (35000, 4096)\n",
      "35000\n",
      "Time :  2.5903141498565674\n",
      "(35500, 4096) (35500, 4096) (35500, 4096)\n",
      "35500\n",
      "Time :  2.4213106632232666\n",
      "(36000, 4096) (36000, 4096) (36000, 4096)\n",
      "36000\n",
      "Time :  1.971304178237915\n",
      "(36500, 4096) (36500, 4096) (36500, 4096)\n",
      "36500\n",
      "Time :  2.033432960510254\n",
      "(37000, 4096) (37000, 4096) (37000, 4096)\n",
      "37000\n",
      "Time :  1.8869340419769287\n",
      "(37500, 4096) (37500, 4096) (37500, 4096)\n",
      "37500\n",
      "Time :  3.2268779277801514\n",
      "(38000, 4096) (38000, 4096) (38000, 4096)\n",
      "38000\n",
      "Time :  4.692573308944702\n",
      "(38500, 4096) (38500, 4096) (38500, 4096)\n",
      "38500\n",
      "Time :  5.854594707489014\n",
      "(39000, 4096) (39000, 4096) (39000, 4096)\n",
      "39000\n",
      "Time :  3.5037498474121094\n",
      "(39500, 4096) (39500, 4096) (39500, 4096)\n",
      "39500\n",
      "Time :  2.5736074447631836\n",
      "(40000, 4096) (40000, 4096) (40000, 4096)\n",
      "40000\n",
      "Time :  3.6971516609191895\n",
      "(40500, 4096) (40500, 4096) (40500, 4096)\n",
      "40500\n",
      "Time :  3.558520555496216\n",
      "(41000, 4096) (41000, 4096) (41000, 4096)\n",
      "41000\n",
      "Time :  2.973261594772339\n",
      "(41500, 4096) (41500, 4096) (41500, 4096)\n",
      "41500\n",
      "Time :  3.688668966293335\n",
      "(42000, 4096) (42000, 4096) (42000, 4096)\n",
      "42000\n",
      "Time :  4.213220119476318\n",
      "(42500, 4096) (42500, 4096) (42500, 4096)\n",
      "42500\n",
      "Time :  4.467254877090454\n",
      "(43000, 4096) (43000, 4096) (43000, 4096)\n",
      "43000\n",
      "Time :  3.8540143966674805\n",
      "(43500, 4096) (43500, 4096) (43500, 4096)\n",
      "43500\n",
      "Time :  4.223151683807373\n",
      "(44000, 4096) (44000, 4096) (44000, 4096)\n",
      "44000\n",
      "Time :  4.47760272026062\n",
      "(44500, 4096) (44500, 4096) (44500, 4096)\n",
      "44500\n",
      "Time :  3.906675100326538\n",
      "(45000, 4096) (45000, 4096) (45000, 4096)\n",
      "45000\n",
      "Time :  4.026479721069336\n",
      "(45500, 4096) (45500, 4096) (45500, 4096)\n",
      "45500\n",
      "Time :  5.591541767120361\n",
      "(46000, 4096) (46000, 4096) (46000, 4096)\n",
      "46000\n",
      "Time :  4.441183805465698\n",
      "(46500, 4096) (46500, 4096) (46500, 4096)\n",
      "46500\n",
      "Time :  3.7779335975646973\n",
      "(47000, 4096) (47000, 4096) (47000, 4096)\n",
      "47000\n",
      "Time :  5.2127556800842285\n",
      "(47500, 4096) (47500, 4096) (47500, 4096)\n",
      "47500\n",
      "Time :  5.170160293579102\n",
      "(48000, 4096) (48000, 4096) (48000, 4096)\n",
      "48000\n",
      "Time :  3.0677101612091064\n",
      "(48249, 4096) (48249, 4096) (48249, 4096)\n"
     ]
    }
   ],
   "source": [
    "q_embed, r_embed, s_embed = get_embeddings(data,500,'Train_3rd')"
   ]
  },
  {
   "cell_type": "code",
   "execution_count": 13,
   "metadata": {
    "ExecuteTime": {
     "end_time": "2019-01-19T15:39:32.385840Z",
     "start_time": "2019-01-19T15:39:32.374604Z"
    }
   },
   "outputs": [
    {
     "data": {
      "text/plain": [
       "((48249, 4096), (48249, 4096), (48249, 4096))"
      ]
     },
     "execution_count": 13,
     "metadata": {},
     "output_type": "execute_result"
    }
   ],
   "source": [
    "q_embed.shape, r_embed.shape, s_embed.shape"
   ]
  },
  {
   "cell_type": "code",
   "execution_count": 14,
   "metadata": {
    "ExecuteTime": {
     "end_time": "2019-01-19T15:45:00.381087Z",
     "start_time": "2019-01-19T15:41:27.901014Z"
    }
   },
   "outputs": [],
   "source": [
    "q_embed.to_csv(\"SemEval_Question_Infersent_Embeddings.csv\",sep=',',index=None)"
   ]
  },
  {
   "cell_type": "code",
   "execution_count": 15,
   "metadata": {
    "ExecuteTime": {
     "end_time": "2019-01-19T15:48:32.703872Z",
     "start_time": "2019-01-19T15:45:00.383222Z"
    }
   },
   "outputs": [],
   "source": [
    "r_embed.to_csv(\"SemEval_Ref_Ans_Infersent_Embeddings.csv\",sep=',',index=None)"
   ]
  },
  {
   "cell_type": "code",
   "execution_count": 16,
   "metadata": {
    "ExecuteTime": {
     "end_time": "2019-01-19T15:52:12.091518Z",
     "start_time": "2019-01-19T15:48:32.705720Z"
    }
   },
   "outputs": [],
   "source": [
    "s_embed.to_csv(\"SemEval_Stu_Ans_Infersent_Embeddings.csv\",sep=',',index=None)"
   ]
  },
  {
   "cell_type": "code",
   "execution_count": null,
   "metadata": {},
   "outputs": [],
   "source": []
  }
 ],
 "metadata": {
  "kernelspec": {
   "display_name": "Python 3",
   "language": "python",
   "name": "python3"
  },
  "language_info": {
   "codemirror_mode": {
    "name": "ipython",
    "version": 3
   },
   "file_extension": ".py",
   "mimetype": "text/x-python",
   "name": "python",
   "nbconvert_exporter": "python",
   "pygments_lexer": "ipython3",
   "version": "3.6.6"
  },
  "latex_envs": {
   "LaTeX_envs_menu_present": true,
   "autoclose": false,
   "autocomplete": true,
   "bibliofile": "biblio.bib",
   "cite_by": "apalike",
   "current_citInitial": 1,
   "eqLabelWithNumbers": true,
   "eqNumInitial": 1,
   "hotkeys": {
    "equation": "Ctrl-E",
    "itemize": "Ctrl-I"
   },
   "labels_anchors": false,
   "latex_user_defs": false,
   "report_style_numbering": false,
   "user_envs_cfg": false
  }
 },
 "nbformat": 4,
 "nbformat_minor": 2
}

{
 "cells": [
  {
   "cell_type": "code",
   "execution_count": 1,
   "metadata": {
    "ExecuteTime": {
     "end_time": "2018-12-29T06:50:30.233924Z",
     "start_time": "2018-12-29T06:50:26.085333Z"
    }
   },
   "outputs": [
    {
     "name": "stderr",
     "output_type": "stream",
     "text": [
      "Using TensorFlow backend.\n"
     ]
    }
   ],
   "source": [
    "#This code is for adaptive GPU usage\n",
    "import keras.backend as K\n",
    "cfg = K.tf.ConfigProto()\n",
    "cfg.gpu_options.allow_growth = True\n",
    "K.set_session(K.tf.Session(config=cfg))"
   ]
  },
  {
   "cell_type": "code",
   "execution_count": 1,
   "metadata": {
    "ExecuteTime": {
     "end_time": "2018-12-29T14:13:48.392807Z",
     "start_time": "2018-12-29T14:13:43.580486Z"
    },
    "colab": {},
    "colab_type": "code",
    "id": "OKLfxufHRlPt"
   },
   "outputs": [
    {
     "name": "stderr",
     "output_type": "stream",
     "text": [
      "Using TensorFlow backend.\n"
     ]
    }
   ],
   "source": [
    "import warnings\n",
    "warnings.filterwarnings(\"ignore\")\n",
    "\n",
    "import os\n",
    "import nltk\n",
    "import random\n",
    "import numpy as np\n",
    "import pandas as pd\n",
    "import keras.layers as L\n",
    "import keras.models as M\n",
    "from keras.optimizers import Adam, Adamax, Nadam, Adagrad\n",
    "from sklearn.ensemble import RandomForestClassifier, ExtraTreesClassifier, GradientBoostingClassifier"
   ]
  },
  {
   "cell_type": "code",
   "execution_count": 26,
   "metadata": {
    "ExecuteTime": {
     "end_time": "2018-12-29T14:24:15.346714Z",
     "start_time": "2018-12-29T14:23:53.553114Z"
    }
   },
   "outputs": [],
   "source": [
    "d = pd.read_csv(\"All_Features_Sorted.csv\",sep=',')"
   ]
  },
  {
   "cell_type": "code",
   "execution_count": 27,
   "metadata": {
    "ExecuteTime": {
     "end_time": "2018-12-29T14:24:21.807694Z",
     "start_time": "2018-12-29T14:24:21.173046Z"
    }
   },
   "outputs": [],
   "source": [
    "lid = d[d['label']==1]['labelID'].tolist()"
   ]
  },
  {
   "cell_type": "code",
   "execution_count": 28,
   "metadata": {
    "ExecuteTime": {
     "end_time": "2018-12-29T14:24:26.253005Z",
     "start_time": "2018-12-29T14:24:24.984348Z"
    }
   },
   "outputs": [],
   "source": [
    "p = [([i]*10) for i in lid]"
   ]
  },
  {
   "cell_type": "code",
   "execution_count": 29,
   "metadata": {
    "ExecuteTime": {
     "end_time": "2018-12-29T14:24:31.484017Z",
     "start_time": "2018-12-29T14:24:30.832371Z"
    }
   },
   "outputs": [],
   "source": [
    "p = np.array(p).ravel()"
   ]
  },
  {
   "cell_type": "code",
   "execution_count": 30,
   "metadata": {
    "ExecuteTime": {
     "end_time": "2018-12-29T14:24:32.877888Z",
     "start_time": "2018-12-29T14:24:32.839661Z"
    }
   },
   "outputs": [],
   "source": [
    "d['correct_labelID'] = p"
   ]
  },
  {
   "cell_type": "code",
   "execution_count": 31,
   "metadata": {
    "ExecuteTime": {
     "end_time": "2018-12-29T14:27:34.608295Z",
     "start_time": "2018-12-29T14:24:53.802391Z"
    }
   },
   "outputs": [],
   "source": [
    "d.to_csv(\"All_Features_Sorted.csv\",sep=',',index=None)"
   ]
  },
  {
   "cell_type": "markdown",
   "metadata": {
    "colab_type": "text",
    "id": "N6faHJbsphCn"
   },
   "source": [
    "# Data Loading"
   ]
  },
  {
   "cell_type": "code",
   "execution_count": 3,
   "metadata": {
    "ExecuteTime": {
     "end_time": "2018-12-29T06:50:48.056434Z",
     "start_time": "2018-12-29T06:50:30.805278Z"
    }
   },
   "outputs": [],
   "source": [
    "raw_data = pd.read_csv(\"All_TrainFeatures.csv\",sep=',')"
   ]
  },
  {
   "cell_type": "code",
   "execution_count": 4,
   "metadata": {
    "ExecuteTime": {
     "end_time": "2018-12-29T06:50:48.062151Z",
     "start_time": "2018-12-29T06:50:48.058148Z"
    }
   },
   "outputs": [
    {
     "name": "stdout",
     "output_type": "stream",
     "text": [
      "3669230\n"
     ]
    }
   ],
   "source": [
    "features = ['Cosine','Jaccard','BM25','Tfidf','Rouge P','Rouge R','BLEU 1','BLEU 2','DSSM','CDSSM',\n",
    "                   'q_word_count','q_char_count','q_avg_word','r_word_count','r_char_count','r_avg_word']\n",
    "\n",
    "split = int(10*((raw_data.shape[0]*0.7)//10))\n",
    "print(split)"
   ]
  },
  {
   "cell_type": "code",
   "execution_count": 5,
   "metadata": {
    "ExecuteTime": {
     "end_time": "2018-12-29T06:50:48.512587Z",
     "start_time": "2018-12-29T06:50:48.063829Z"
    }
   },
   "outputs": [],
   "source": [
    "y = raw_data['label']\n",
    "x = raw_data[features]\n",
    "\n",
    "x_test = x.iloc[split:]\n",
    "y_test = y.iloc[split:]"
   ]
  },
  {
   "cell_type": "code",
   "execution_count": 6,
   "metadata": {
    "ExecuteTime": {
     "end_time": "2018-12-29T06:50:48.660956Z",
     "start_time": "2018-12-29T06:50:48.514302Z"
    }
   },
   "outputs": [
    {
     "data": {
      "text/plain": [
       "((1572540, 16), (1572540,))"
      ]
     },
     "execution_count": 6,
     "metadata": {},
     "output_type": "execute_result"
    }
   ],
   "source": [
    "x_test.shape,y_test.shape"
   ]
  },
  {
   "cell_type": "code",
   "execution_count": 7,
   "metadata": {
    "ExecuteTime": {
     "end_time": "2018-12-29T06:50:48.793198Z",
     "start_time": "2018-12-29T06:50:48.663603Z"
    }
   },
   "outputs": [
    {
     "data": {
      "text/plain": [
       "(3669230, 18)"
      ]
     },
     "execution_count": 7,
     "metadata": {},
     "output_type": "execute_result"
    }
   ],
   "source": [
    "d = raw_data.iloc[:split]\n",
    "d.shape"
   ]
  },
  {
   "cell_type": "code",
   "execution_count": 8,
   "metadata": {
    "ExecuteTime": {
     "end_time": "2018-12-29T06:50:49.746649Z",
     "start_time": "2018-12-29T06:50:48.796347Z"
    },
    "colab": {
     "base_uri": "https://localhost:8080/",
     "height": 34
    },
    "colab_type": "code",
    "executionInfo": {
     "elapsed": 32352,
     "status": "ok",
     "timestamp": 1544434261291,
     "user": {
      "displayName": "Nithish Balachandar",
      "photoUrl": "",
      "userId": "11673492507565107492"
     },
     "user_tz": -330
    },
    "id": "95rSA5WSj8xZ",
    "outputId": "96dd4107-816f-42c9-e275-c4da3ce81d68"
   },
   "outputs": [],
   "source": [
    "tr_data = d[d['label'] == 1].reset_index(drop=True)\n",
    "fl_data = d[d['label'] == 0].reset_index(drop=True)"
   ]
  },
  {
   "cell_type": "code",
   "execution_count": 9,
   "metadata": {
    "ExecuteTime": {
     "end_time": "2018-12-29T06:50:49.752095Z",
     "start_time": "2018-12-29T06:50:49.748303Z"
    },
    "colab": {},
    "colab_type": "code",
    "id": "iwLGxMftg4AW"
   },
   "outputs": [
    {
     "data": {
      "text/plain": [
       "((366923, 18), (3302307, 18))"
      ]
     },
     "execution_count": 9,
     "metadata": {},
     "output_type": "execute_result"
    }
   ],
   "source": [
    "tr_data.shape, fl_data.shape"
   ]
  },
  {
   "cell_type": "code",
   "execution_count": 10,
   "metadata": {
    "ExecuteTime": {
     "end_time": "2018-12-29T06:50:51.282061Z",
     "start_time": "2018-12-29T06:50:49.753695Z"
    }
   },
   "outputs": [],
   "source": [
    "tr_ind = random.sample(range(0,tr_data.shape[0]),tr_data.shape[0])\n",
    "fl_ind = random.sample(range(0,fl_data.shape[0]),tr_data.shape[0]*2)"
   ]
  },
  {
   "cell_type": "code",
   "execution_count": 15,
   "metadata": {
    "ExecuteTime": {
     "end_time": "2018-12-29T06:56:21.871082Z",
     "start_time": "2018-12-29T06:56:20.684090Z"
    }
   },
   "outputs": [],
   "source": [
    "train = pd.concat([tr_data.iloc[tr_ind],fl_data.iloc[fl_ind]],axis=0).sample(frac=1).reset_index( drop = True )\n",
    "\n",
    "x_train = train[features]\n",
    "\n",
    "y_train = train['label']"
   ]
  },
  {
   "cell_type": "code",
   "execution_count": 16,
   "metadata": {
    "ExecuteTime": {
     "end_time": "2018-12-29T06:56:21.877916Z",
     "start_time": "2018-12-29T06:56:21.873197Z"
    },
    "colab": {
     "base_uri": "https://localhost:8080/",
     "height": 34
    },
    "colab_type": "code",
    "executionInfo": {
     "elapsed": 29677,
     "status": "ok",
     "timestamp": 1544434261769,
     "user": {
      "displayName": "Nithish Balachandar",
      "photoUrl": "",
      "userId": "11673492507565107492"
     },
     "user_tz": -330
    },
    "id": "41SygwENkgWP",
    "outputId": "9f53291d-0ccc-424a-b572-e21c5855dea5"
   },
   "outputs": [
    {
     "data": {
      "text/plain": [
       "((1100769, 16), (1100769,), (1572540, 16), (1572540,))"
      ]
     },
     "execution_count": 16,
     "metadata": {},
     "output_type": "execute_result"
    }
   ],
   "source": [
    "x_train.shape, y_train.shape, x_test.shape, y_test.shape"
   ]
  },
  {
   "cell_type": "markdown",
   "metadata": {
    "colab_type": "text",
    "heading_collapsed": true,
    "id": "FWGt72DKckYs"
   },
   "source": [
    "# Tree Based Classifier Models"
   ]
  },
  {
   "cell_type": "code",
   "execution_count": 112,
   "metadata": {
    "ExecuteTime": {
     "end_time": "2018-12-26T14:08:30.642933Z",
     "start_time": "2018-12-26T14:08:30.631284Z"
    },
    "hidden": true
   },
   "outputs": [],
   "source": [
    "# hyperparams = {\n",
    "#     \"trees\":{\n",
    "#         \"criterions\" : [\"gini\",\"entropy\"],\n",
    "#         \"max_features\": [\"log2\",\"sqrt\"], \n",
    "#         \"max_depth\":[7],\n",
    "#         \"n_estimators\": [50,120,200]}, \n",
    "#     \"gbc\":{\n",
    "#         \"loss\" : [\"deviance\",\"exponential\"],\n",
    "#         \"learning_rate\" : [0.01,0.1,1.0],\n",
    "#         \"n_estimators\" : [40,80,120],\n",
    "#         \"max_depth\":[7],\n",
    "#         \"max_features\" : [\"log2\",\"sqrt\"]},\n",
    "#     \"nn\":{\n",
    "#         \"learning_rate\" : [0.1,0.01,0.05,0.001,0.005],\n",
    "#         \"optim\" : [\"Adam\",\"Adamax\",\"Adagrad\",\"Nadam\"], \n",
    "#         \"activation\": [\"tanh\",\"sigmoid\",\"relu\",\"linear\"]}\n",
    "#     }\n",
    "\n",
    "# results = {}\n",
    "# # results['RFC'] = {}\n",
    "\n",
    "# # for cr in hyperparams[\"trees\"][\"criterions\"]:\n",
    "# #     results['RFC'][str(cr)] = {}\n",
    "# #     for dep in hyperparams[\"trees\"][\"max_depth\"]:\n",
    "# #         results['RFC'][str(cr)][str(dep)] = {}\n",
    "# #         for feat in hyperparams[\"trees\"][\"max_features\"]:\n",
    "# #             results['RFC'][str(cr)][str(dep)][str(feat)] = {}\n",
    "# #             for est in hyperparams[\"trees\"][\"n_estimators\"]:\n",
    "# #                 results['RFC'][str(cr)][str(dep)][str(feat)][str(est)] = {}\n",
    "# #                 print(\"Hyperparameters used\")\n",
    "# #                 print(\"Criterion : \",cr)\n",
    "# #                 print(\"Maximum Depth : \",dep)\n",
    "# #                 print(\"Maximum Features : \",feat)\n",
    "# #                 print(\"Number of Estimators : \",est)\n",
    "# #                 model = RandomForestClassifier(n_estimators=est,\n",
    "# #                                               criterion=cr,\n",
    "# #                                               max_features=feat,\n",
    "# #                                               verbose=3,\n",
    "# #                                               )\n",
    "                \n",
    "# #                 model.fit(x_train,y_train)\n",
    "# #                 y_pred = model.predict(x_test)\n",
    "# #                 imp = model.feature_importances_\n",
    "# #                 score = model.score(x_test,y_test)\n",
    "# #                 print(score)\n",
    "# #                 results['RFC'][str(cr)][str(dep)][str(feat)][str(est)][\"score\"] = score\n",
    "                \n",
    "# #                 f = pd.DataFrame(np.column_stack((features,imp)))\n",
    "# #                 f.columns = ['feature','importance']\n",
    "# #                 print(f.sort_values(by=['importance'],ascending=False))\n",
    "# #                 results['RFC'][str(cr)][str(dep)][str(feat)][str(est)][\"f_imp\"] = f\n",
    "\n",
    "# results['ETC'] = {}\n",
    "\n",
    "# for cr in hyperparams[\"trees\"][\"criterions\"]:\n",
    "#     results['ETC'][str(cr)] = {}\n",
    "#     for dep in hyperparams[\"trees\"][\"max_depth\"]:\n",
    "#         results['ETC'][str(cr)][str(dep)] = {}\n",
    "#         for feat in hyperparams[\"trees\"][\"max_features\"]:\n",
    "#             results['ETC'][str(cr)][str(dep)][str(feat)] = {}\n",
    "#             for est in hyperparams[\"trees\"][\"n_estimators\"]:\n",
    "#                 results['ETC'][str(cr)][str(dep)][str(feat)][str(est)] = {}\n",
    "#                 print(\"Hyperparameters used\")\n",
    "#                 print(\"Criterion : \",cr)\n",
    "#                 print(\"Maximum Depth : \",dep)\n",
    "#                 print(\"Maximum Features : \",feat)\n",
    "#                 print(\"Number of Estimators : \",est)\n",
    "#                 model = ExtraTreesClassifier(n_estimators=est,\n",
    "#                                               criterion=cr,\n",
    "#                                               max_features=feat,\n",
    "#                                               verbose=3,\n",
    "#                                               warm_start=True,\n",
    "#                                               )\n",
    "                \n",
    "#                 model.fit(x_train,y_train)\n",
    "#                 y_pred = model.predict(x_test)\n",
    "#                 imp = model.feature_importances_\n",
    "#                 score = model.score(x_test,y_test)\n",
    "#                 print(score)\n",
    "#                 results['ETC'][str(cr)][str(dep)][str(feat)][str(est)][\"score\"] = score\n",
    "                \n",
    "#                 f = pd.DataFrame(np.column_stack((features,imp)))\n",
    "#                 f.columns = ['feature','importance']\n",
    "#                 print(f.sort_values(by=['importance'],ascending=False))\n",
    "#                 results['ETC'][str(cr)][str(dep)][str(feat)][str(est)][\"f_imp\"] = f\n",
    "\n",
    "# # results['GBC'] = {}\n",
    "\n",
    "# # for ls in hyperparams[\"gbc\"][\"loss\"]:\n",
    "# #     results['GBC'][str(ls)] = {}\n",
    "# #     for lr in hyperparams[\"gbc\"][\"learning_rate\"]:\n",
    "# #         results['GBC'][str(ls)][str(lr)] = {}\n",
    "# #         for est in hyperparams[\"gbc\"][\"n_estimators\"]:\n",
    "# #             results['GBC'][str(ls)][str(lr)][str(est)] = {}\n",
    "# #             for feat in hyperparams[\"gbc\"][\"max_features\"]:\n",
    "# #                 results['GBC'][str(ls)][str(lr)][str(est)][str(feat)] = {}\n",
    "# #                 for dep in hyperparams[\"gbc\"][\"max_depth\"]:\n",
    "# #                     results['GBC'][str(ls)][str(lr)][str(est)][str(feat)][str(dep)] = {}\n",
    "# #                     print(\"Hyperparameters used\")\n",
    "# #                     print(\"Loss : \",ls)\n",
    "# #                     print(\"Learning rate : \",lr)\n",
    "# #                     print(\"Number of Estimators : \",est)\n",
    "# #                     print(\"Maximum Features : \",feat)\n",
    "# #                     print(\"Maximum Depth : \",dep)\n",
    "# #                     model = GradientBoostingClassifier(loss=ls,\n",
    "# #                                                        learning_rate=lr,\n",
    "# #                                                        n_estimators=est,\n",
    "# #                                                        max_features=feat,\n",
    "# #                                                        verbose=3)\n",
    "\n",
    "# #                     model.fit(x_train,y_train)\n",
    "# #                     y_pred = model.predict(x_test)\n",
    "# #                     imp = model.feature_importances_\n",
    "# #                     score = model.score(x_test,y_test)\n",
    "# #                     print(score)\n",
    "# #                     results['GBC'][str(ls)][str(lr)][str(est)][str(feat)][str(dep)][\"score\"] = score\n",
    "\n",
    "# #                     f = pd.DataFrame(np.column_stack((features,imp)))\n",
    "# #                     f.columns = ['feature','importance']\n",
    "# #                     print(f.sort_values(by=['importance'],ascending=False))\n",
    "# #                     results['GBC'][str(ls)][str(lr)][str(est)][str(feat)][str(dep)][\"f_imp\"] = f\n",
    "\n"
   ]
  },
  {
   "cell_type": "code",
   "execution_count": 113,
   "metadata": {
    "ExecuteTime": {
     "end_time": "2018-12-26T14:08:35.397057Z",
     "start_time": "2018-12-26T14:08:35.391643Z"
    },
    "hidden": true
   },
   "outputs": [],
   "source": [
    "# # tree models tabulation\n",
    "# columns = [\"model type\",\"criterion\",\"learning rate\",\"max features\",\"max depth\",\"# of estimators\",\"score\"]\n",
    "# l = []\n",
    "# for mdl in results.keys():\n",
    "#     if(mdl != \"GBC\"):\n",
    "#         for crt in results[mdl].keys():\n",
    "#             for mfeat in results[mdl][crt].keys():\n",
    "#                 for mdep in results[mdl][crt][mfeat].keys():\n",
    "#                     for nest in results[mdl][crt][mfeat][mdep].keys():\n",
    "#                         score = results[mdl][crt][mfeat][mdep][nest][\"score\"]\n",
    "#                         l.append([mdl,crt,None,mfeat,mdep,nest,score])\n",
    "#     else:\n",
    "#         for crt in results[mdl].keys():\n",
    "#             for lr in results[mdl][crt].keys():\n",
    "#                 for nest in results[mdl][crt][lr].keys():\n",
    "#                     for mfeat in results[mdl][crt][lr][nest].keys():\n",
    "#                         for mdep in results[mdl][crt][lr][nest][mfeat].keys():\n",
    "#                             score = results[mdl][crt][lr][nest][mfeat][mdep][\"score\"]\n",
    "#                             l.append([mdl,crt,lr,mfeat,mdep,nest,score])\n",
    "\n",
    "# res = pd.DataFrame(l,columns=columns)\n",
    "# res = res.sort_values(by=['score'],ascending=False).reset_index(drop=True)\n",
    "\n",
    "# res.to_csv(\"ETree_Hyper.csv\",sep=',',index=None)\n",
    "\n",
    "# rs=pd.read_csv(\"ETree_Hyper.csv\")\n",
    "\n",
    "# rs"
   ]
  },
  {
   "cell_type": "code",
   "execution_count": 116,
   "metadata": {
    "ExecuteTime": {
     "end_time": "2018-12-26T14:09:09.966818Z",
     "start_time": "2018-12-26T14:09:09.941255Z"
    },
    "hidden": true
   },
   "outputs": [
    {
     "data": {
      "text/html": [
       "<div>\n",
       "<style scoped>\n",
       "    .dataframe tbody tr th:only-of-type {\n",
       "        vertical-align: middle;\n",
       "    }\n",
       "\n",
       "    .dataframe tbody tr th {\n",
       "        vertical-align: top;\n",
       "    }\n",
       "\n",
       "    .dataframe thead th {\n",
       "        text-align: right;\n",
       "    }\n",
       "</style>\n",
       "<table border=\"1\" class=\"dataframe\">\n",
       "  <thead>\n",
       "    <tr style=\"text-align: right;\">\n",
       "      <th></th>\n",
       "      <th>model type</th>\n",
       "      <th>criterion</th>\n",
       "      <th>learning rate</th>\n",
       "      <th>max features</th>\n",
       "      <th>max depth</th>\n",
       "      <th># of estimators</th>\n",
       "      <th>score</th>\n",
       "    </tr>\n",
       "  </thead>\n",
       "  <tbody>\n",
       "    <tr>\n",
       "      <th>0</th>\n",
       "      <td>ETC</td>\n",
       "      <td>gini</td>\n",
       "      <td>NaN</td>\n",
       "      <td>7</td>\n",
       "      <td>log2</td>\n",
       "      <td>200</td>\n",
       "      <td>0.683685</td>\n",
       "    </tr>\n",
       "    <tr>\n",
       "      <th>1</th>\n",
       "      <td>ETC</td>\n",
       "      <td>entropy</td>\n",
       "      <td>NaN</td>\n",
       "      <td>7</td>\n",
       "      <td>log2</td>\n",
       "      <td>200</td>\n",
       "      <td>0.683229</td>\n",
       "    </tr>\n",
       "    <tr>\n",
       "      <th>2</th>\n",
       "      <td>ETC</td>\n",
       "      <td>gini</td>\n",
       "      <td>NaN</td>\n",
       "      <td>7</td>\n",
       "      <td>sqrt</td>\n",
       "      <td>200</td>\n",
       "      <td>0.683223</td>\n",
       "    </tr>\n",
       "    <tr>\n",
       "      <th>3</th>\n",
       "      <td>ETC</td>\n",
       "      <td>entropy</td>\n",
       "      <td>NaN</td>\n",
       "      <td>7</td>\n",
       "      <td>sqrt</td>\n",
       "      <td>200</td>\n",
       "      <td>0.683210</td>\n",
       "    </tr>\n",
       "    <tr>\n",
       "      <th>4</th>\n",
       "      <td>ETC</td>\n",
       "      <td>gini</td>\n",
       "      <td>NaN</td>\n",
       "      <td>7</td>\n",
       "      <td>sqrt</td>\n",
       "      <td>120</td>\n",
       "      <td>0.682365</td>\n",
       "    </tr>\n",
       "    <tr>\n",
       "      <th>5</th>\n",
       "      <td>ETC</td>\n",
       "      <td>entropy</td>\n",
       "      <td>NaN</td>\n",
       "      <td>7</td>\n",
       "      <td>sqrt</td>\n",
       "      <td>120</td>\n",
       "      <td>0.682225</td>\n",
       "    </tr>\n",
       "    <tr>\n",
       "      <th>6</th>\n",
       "      <td>ETC</td>\n",
       "      <td>entropy</td>\n",
       "      <td>NaN</td>\n",
       "      <td>7</td>\n",
       "      <td>log2</td>\n",
       "      <td>120</td>\n",
       "      <td>0.682127</td>\n",
       "    </tr>\n",
       "    <tr>\n",
       "      <th>7</th>\n",
       "      <td>ETC</td>\n",
       "      <td>gini</td>\n",
       "      <td>NaN</td>\n",
       "      <td>7</td>\n",
       "      <td>log2</td>\n",
       "      <td>120</td>\n",
       "      <td>0.681966</td>\n",
       "    </tr>\n",
       "    <tr>\n",
       "      <th>8</th>\n",
       "      <td>ETC</td>\n",
       "      <td>gini</td>\n",
       "      <td>NaN</td>\n",
       "      <td>7</td>\n",
       "      <td>log2</td>\n",
       "      <td>50</td>\n",
       "      <td>0.678873</td>\n",
       "    </tr>\n",
       "    <tr>\n",
       "      <th>9</th>\n",
       "      <td>ETC</td>\n",
       "      <td>entropy</td>\n",
       "      <td>NaN</td>\n",
       "      <td>7</td>\n",
       "      <td>log2</td>\n",
       "      <td>50</td>\n",
       "      <td>0.678568</td>\n",
       "    </tr>\n",
       "    <tr>\n",
       "      <th>10</th>\n",
       "      <td>ETC</td>\n",
       "      <td>entropy</td>\n",
       "      <td>NaN</td>\n",
       "      <td>7</td>\n",
       "      <td>sqrt</td>\n",
       "      <td>50</td>\n",
       "      <td>0.678452</td>\n",
       "    </tr>\n",
       "    <tr>\n",
       "      <th>11</th>\n",
       "      <td>ETC</td>\n",
       "      <td>gini</td>\n",
       "      <td>NaN</td>\n",
       "      <td>7</td>\n",
       "      <td>sqrt</td>\n",
       "      <td>50</td>\n",
       "      <td>0.677561</td>\n",
       "    </tr>\n",
       "  </tbody>\n",
       "</table>\n",
       "</div>"
      ],
      "text/plain": [
       "   model type criterion  learning rate  max features max depth  \\\n",
       "0         ETC      gini            NaN             7      log2   \n",
       "1         ETC   entropy            NaN             7      log2   \n",
       "2         ETC      gini            NaN             7      sqrt   \n",
       "3         ETC   entropy            NaN             7      sqrt   \n",
       "4         ETC      gini            NaN             7      sqrt   \n",
       "5         ETC   entropy            NaN             7      sqrt   \n",
       "6         ETC   entropy            NaN             7      log2   \n",
       "7         ETC      gini            NaN             7      log2   \n",
       "8         ETC      gini            NaN             7      log2   \n",
       "9         ETC   entropy            NaN             7      log2   \n",
       "10        ETC   entropy            NaN             7      sqrt   \n",
       "11        ETC      gini            NaN             7      sqrt   \n",
       "\n",
       "    # of estimators     score  \n",
       "0               200  0.683685  \n",
       "1               200  0.683229  \n",
       "2               200  0.683223  \n",
       "3               200  0.683210  \n",
       "4               120  0.682365  \n",
       "5               120  0.682225  \n",
       "6               120  0.682127  \n",
       "7               120  0.681966  \n",
       "8                50  0.678873  \n",
       "9                50  0.678568  \n",
       "10               50  0.678452  \n",
       "11               50  0.677561  "
      ]
     },
     "execution_count": 116,
     "metadata": {},
     "output_type": "execute_result"
    }
   ],
   "source": [
    "rs"
   ]
  },
  {
   "cell_type": "code",
   "execution_count": 114,
   "metadata": {
    "ExecuteTime": {
     "end_time": "2018-12-26T14:08:38.534877Z",
     "start_time": "2018-12-26T14:08:38.530039Z"
    },
    "hidden": true
   },
   "outputs": [],
   "source": [
    "# from sklearn.multiclass import OneVsRestClassifier\n",
    "# from sklearn.svm import SVC\n",
    "# from sklearn.grid_search import GridSearchCV\n",
    "# from sklearn.metrics import f1_score\n",
    "\n",
    "# model_to_set = OneVsRestClassifier(SVC(kernel=\"poly\"))\n",
    "\n",
    "# parameters = {\n",
    "#     \"estimator__C\": [1,2,4,8],\n",
    "#     \"estimator__kernel\": [\"poly\",\"rbf\"],\n",
    "#     \"estimator__degree\":[1, 2, 3, 4],\n",
    "# }\n",
    "\n",
    "# model_tunning = GridSearchCV(model_to_set, param_grid=parameters,\n",
    "#                              score_func=f1_score)\n",
    "\n",
    "# model_tunning.fit(x_train,y_train)\n",
    "\n",
    "# print (model_tunning.best_score_)\n",
    "# print (model_tunning.best_params_)"
   ]
  },
  {
   "cell_type": "code",
   "execution_count": 115,
   "metadata": {
    "ExecuteTime": {
     "end_time": "2018-12-26T14:08:42.426523Z",
     "start_time": "2018-12-26T14:08:42.422237Z"
    },
    "hidden": true
   },
   "outputs": [],
   "source": [
    "# from sklearn import datasets\n",
    "# from sklearn.multiclass import OneVsRestClassifier\n",
    "# from sklearn.svm import SVC\n",
    "# model1 = OneVsRestClassifier(SVC(kernel = 'poly')).fit(x_train, y_train)\n",
    "# y_pred = model1.predict(x_test)\n",
    "# #imp = model1.feature_importances_\n",
    "# score = model1.score(x_test,y_test)\n",
    "# print(score)\n",
    "\n",
    "# #pd.DataFrame(np.column_stack((features,imp)))"
   ]
  },
  {
   "cell_type": "code",
   "execution_count": 117,
   "metadata": {
    "ExecuteTime": {
     "end_time": "2018-12-26T14:10:08.318742Z",
     "start_time": "2018-12-26T14:10:08.311358Z"
    },
    "hidden": true
   },
   "outputs": [],
   "source": [
    "#model type,criterion,learning rate,max features,max depth,# of estimators,score\n",
    "#GBC,exponential,0.1,log2,7,100,0.900060606060606\n",
    "#RFC,gini,,10,auto,80,0.6947878787878788\n",
    "cr = \"gini\"\n",
    "ls = 'exponential'\n",
    "lr = 0.1\n",
    "est = 100\n",
    "feat = \"log2\"\n",
    "dep = 7"
   ]
  },
  {
   "cell_type": "code",
   "execution_count": 118,
   "metadata": {
    "ExecuteTime": {
     "end_time": "2018-12-26T14:13:07.374009Z",
     "start_time": "2018-12-26T14:10:12.594726Z"
    },
    "hidden": true
   },
   "outputs": [
    {
     "name": "stdout",
     "output_type": "stream",
     "text": [
      "building tree 1 of 100\n"
     ]
    },
    {
     "name": "stderr",
     "output_type": "stream",
     "text": [
      "[Parallel(n_jobs=1)]: Done   1 out of   1 | elapsed:    1.5s remaining:    0.0s\n"
     ]
    },
    {
     "name": "stdout",
     "output_type": "stream",
     "text": [
      "building tree 2 of 100\n"
     ]
    },
    {
     "name": "stderr",
     "output_type": "stream",
     "text": [
      "[Parallel(n_jobs=1)]: Done   2 out of   2 | elapsed:    2.9s remaining:    0.0s\n"
     ]
    },
    {
     "name": "stdout",
     "output_type": "stream",
     "text": [
      "building tree 3 of 100\n",
      "building tree 4 of 100\n",
      "building tree 5 of 100\n",
      "building tree 6 of 100\n",
      "building tree 7 of 100\n",
      "building tree 8 of 100\n",
      "building tree 9 of 100\n",
      "building tree 10 of 100\n",
      "building tree 11 of 100\n",
      "building tree 12 of 100\n",
      "building tree 13 of 100\n",
      "building tree 14 of 100\n",
      "building tree 15 of 100\n",
      "building tree 16 of 100\n",
      "building tree 17 of 100\n",
      "building tree 18 of 100\n",
      "building tree 19 of 100\n",
      "building tree 20 of 100\n",
      "building tree 21 of 100\n",
      "building tree 22 of 100\n",
      "building tree 23 of 100\n",
      "building tree 24 of 100\n",
      "building tree 25 of 100\n",
      "building tree 26 of 100\n",
      "building tree 27 of 100\n",
      "building tree 28 of 100\n",
      "building tree 29 of 100\n",
      "building tree 30 of 100\n",
      "building tree 31 of 100\n",
      "building tree 32 of 100\n",
      "building tree 33 of 100\n",
      "building tree 34 of 100\n",
      "building tree 35 of 100\n",
      "building tree 36 of 100\n",
      "building tree 37 of 100\n",
      "building tree 38 of 100\n",
      "building tree 39 of 100\n",
      "building tree 40 of 100\n",
      "building tree 41 of 100\n",
      "building tree 42 of 100\n",
      "building tree 43 of 100\n",
      "building tree 44 of 100\n",
      "building tree 45 of 100\n",
      "building tree 46 of 100\n",
      "building tree 47 of 100\n",
      "building tree 48 of 100\n",
      "building tree 49 of 100\n",
      "building tree 50 of 100\n",
      "building tree 51 of 100\n",
      "building tree 52 of 100\n",
      "building tree 53 of 100\n",
      "building tree 54 of 100\n",
      "building tree 55 of 100\n",
      "building tree 56 of 100\n",
      "building tree 57 of 100\n",
      "building tree 58 of 100\n",
      "building tree 59 of 100\n",
      "building tree 60 of 100\n",
      "building tree 61 of 100\n",
      "building tree 62 of 100\n",
      "building tree 63 of 100\n",
      "building tree 64 of 100\n",
      "building tree 65 of 100\n",
      "building tree 66 of 100\n",
      "building tree 67 of 100\n",
      "building tree 68 of 100\n",
      "building tree 69 of 100\n",
      "building tree 70 of 100\n",
      "building tree 71 of 100\n",
      "building tree 72 of 100\n",
      "building tree 73 of 100\n",
      "building tree 74 of 100\n",
      "building tree 75 of 100\n",
      "building tree 76 of 100\n",
      "building tree 77 of 100\n",
      "building tree 78 of 100\n",
      "building tree 79 of 100\n",
      "building tree 80 of 100\n",
      "building tree 81 of 100\n",
      "building tree 82 of 100\n",
      "building tree 83 of 100\n",
      "building tree 84 of 100\n",
      "building tree 85 of 100\n",
      "building tree 86 of 100\n",
      "building tree 87 of 100\n",
      "building tree 88 of 100\n",
      "building tree 89 of 100\n",
      "building tree 90 of 100\n",
      "building tree 91 of 100\n",
      "building tree 92 of 100\n",
      "building tree 93 of 100\n",
      "building tree 94 of 100\n",
      "building tree 95 of 100\n",
      "building tree 96 of 100\n",
      "building tree 97 of 100\n",
      "building tree 98 of 100\n",
      "building tree 99 of 100\n",
      "building tree 100 of 100\n"
     ]
    },
    {
     "name": "stderr",
     "output_type": "stream",
     "text": [
      "[Parallel(n_jobs=1)]: Done 100 out of 100 | elapsed:  2.4min finished\n",
      "[Parallel(n_jobs=1)]: Done   1 out of   1 | elapsed:    0.7s remaining:    0.0s\n",
      "[Parallel(n_jobs=1)]: Done   2 out of   2 | elapsed:    0.9s remaining:    0.0s\n",
      "[Parallel(n_jobs=1)]: Done 100 out of 100 | elapsed:   16.1s finished\n",
      "[Parallel(n_jobs=1)]: Done   1 out of   1 | elapsed:    0.1s remaining:    0.0s\n",
      "[Parallel(n_jobs=1)]: Done   2 out of   2 | elapsed:    0.3s remaining:    0.0s\n"
     ]
    },
    {
     "name": "stdout",
     "output_type": "stream",
     "text": [
      "0.5747020743510499\n"
     ]
    },
    {
     "name": "stderr",
     "output_type": "stream",
     "text": [
      "[Parallel(n_jobs=1)]: Done 100 out of 100 | elapsed:   15.7s finished\n"
     ]
    },
    {
     "data": {
      "text/html": [
       "<div>\n",
       "<style scoped>\n",
       "    .dataframe tbody tr th:only-of-type {\n",
       "        vertical-align: middle;\n",
       "    }\n",
       "\n",
       "    .dataframe tbody tr th {\n",
       "        vertical-align: top;\n",
       "    }\n",
       "\n",
       "    .dataframe thead th {\n",
       "        text-align: right;\n",
       "    }\n",
       "</style>\n",
       "<table border=\"1\" class=\"dataframe\">\n",
       "  <thead>\n",
       "    <tr style=\"text-align: right;\">\n",
       "      <th></th>\n",
       "      <th>0</th>\n",
       "      <th>1</th>\n",
       "    </tr>\n",
       "  </thead>\n",
       "  <tbody>\n",
       "    <tr>\n",
       "      <th>0</th>\n",
       "      <td>Cosine</td>\n",
       "      <td>0.039076942139835064</td>\n",
       "    </tr>\n",
       "    <tr>\n",
       "      <th>1</th>\n",
       "      <td>Jaccard</td>\n",
       "      <td>0.07726737852295316</td>\n",
       "    </tr>\n",
       "    <tr>\n",
       "      <th>2</th>\n",
       "      <td>BM25</td>\n",
       "      <td>0.03786488545134396</td>\n",
       "    </tr>\n",
       "    <tr>\n",
       "      <th>3</th>\n",
       "      <td>Tfidf</td>\n",
       "      <td>0.0036924020853997936</td>\n",
       "    </tr>\n",
       "    <tr>\n",
       "      <th>4</th>\n",
       "      <td>Rouge P</td>\n",
       "      <td>0.32572457622177126</td>\n",
       "    </tr>\n",
       "    <tr>\n",
       "      <th>5</th>\n",
       "      <td>Rouge R</td>\n",
       "      <td>0.07073764665963952</td>\n",
       "    </tr>\n",
       "    <tr>\n",
       "      <th>6</th>\n",
       "      <td>BLEU 1</td>\n",
       "      <td>0.01035201997671064</td>\n",
       "    </tr>\n",
       "    <tr>\n",
       "      <th>7</th>\n",
       "      <td>BLEU 2</td>\n",
       "      <td>0.008352925429210999</td>\n",
       "    </tr>\n",
       "    <tr>\n",
       "      <th>8</th>\n",
       "      <td>DSSM</td>\n",
       "      <td>0.17154048806411593</td>\n",
       "    </tr>\n",
       "    <tr>\n",
       "      <th>9</th>\n",
       "      <td>CDSSM</td>\n",
       "      <td>0.21725754219180346</td>\n",
       "    </tr>\n",
       "    <tr>\n",
       "      <th>10</th>\n",
       "      <td>q_word_count</td>\n",
       "      <td>0.0072572408368833784</td>\n",
       "    </tr>\n",
       "    <tr>\n",
       "      <th>11</th>\n",
       "      <td>q_char_count</td>\n",
       "      <td>0.006915409188631664</td>\n",
       "    </tr>\n",
       "    <tr>\n",
       "      <th>12</th>\n",
       "      <td>q_avg_word</td>\n",
       "      <td>0.0007695540612578365</td>\n",
       "    </tr>\n",
       "    <tr>\n",
       "      <th>13</th>\n",
       "      <td>r_word_count</td>\n",
       "      <td>0.0066064964691887485</td>\n",
       "    </tr>\n",
       "    <tr>\n",
       "      <th>14</th>\n",
       "      <td>r_char_count</td>\n",
       "      <td>0.014131028172383866</td>\n",
       "    </tr>\n",
       "    <tr>\n",
       "      <th>15</th>\n",
       "      <td>r_avg_word</td>\n",
       "      <td>0.002453464528870829</td>\n",
       "    </tr>\n",
       "  </tbody>\n",
       "</table>\n",
       "</div>"
      ],
      "text/plain": [
       "               0                      1\n",
       "0         Cosine   0.039076942139835064\n",
       "1        Jaccard    0.07726737852295316\n",
       "2           BM25    0.03786488545134396\n",
       "3          Tfidf  0.0036924020853997936\n",
       "4        Rouge P    0.32572457622177126\n",
       "5        Rouge R    0.07073764665963952\n",
       "6         BLEU 1    0.01035201997671064\n",
       "7         BLEU 2   0.008352925429210999\n",
       "8           DSSM    0.17154048806411593\n",
       "9          CDSSM    0.21725754219180346\n",
       "10  q_word_count  0.0072572408368833784\n",
       "11  q_char_count   0.006915409188631664\n",
       "12    q_avg_word  0.0007695540612578365\n",
       "13  r_word_count  0.0066064964691887485\n",
       "14  r_char_count   0.014131028172383866\n",
       "15    r_avg_word   0.002453464528870829"
      ]
     },
     "execution_count": 118,
     "metadata": {},
     "output_type": "execute_result"
    }
   ],
   "source": [
    "RF = RandomForestClassifier(n_estimators=est,criterion=cr,max_features=feat,max_depth=dep,verbose=3)#,class_weight=\"balanced_subsample\")\n",
    "RF.fit(x_train,y_train)\n",
    "\n",
    "y_pred = RF.predict(x_test)\n",
    "imp = RF.feature_importances_\n",
    "score = RF.score(x_test,y_test)\n",
    "print(score)\n",
    "\n",
    "pd.DataFrame(np.column_stack((features,imp)))"
   ]
  },
  {
   "cell_type": "code",
   "execution_count": 28,
   "metadata": {
    "ExecuteTime": {
     "end_time": "2018-12-26T04:57:42.974744Z",
     "start_time": "2018-12-26T04:32:51.717841Z"
    },
    "hidden": true
   },
   "outputs": [
    {
     "name": "stdout",
     "output_type": "stream",
     "text": [
      "      Iter       Train Loss   Remaining Time \n",
      "         1           0.9328           27.77m\n",
      "         2           0.9247           28.05m\n",
      "         3           0.9175           27.01m\n",
      "         4           0.9106           27.55m\n",
      "         5           0.9049           27.03m\n",
      "         6           0.8999           26.94m\n",
      "         7           0.8958           26.58m\n",
      "         8           0.8923           26.12m\n",
      "         9           0.8893           24.81m\n",
      "        10           0.8866           23.44m\n",
      "        11           0.8843           22.14m\n",
      "        12           0.8823           20.92m\n",
      "        13           0.8806           19.88m\n",
      "        14           0.8791           18.69m\n",
      "        15           0.8778           18.69m\n",
      "        16           0.8767           18.73m\n",
      "        17           0.8758           18.78m\n",
      "        18           0.8748           18.76m\n",
      "        19           0.8740           18.76m\n",
      "        20           0.8734           18.90m\n",
      "        21           0.8728           18.85m\n",
      "        22           0.8722           18.78m\n",
      "        23           0.8717           18.59m\n",
      "        24           0.8713           18.50m\n",
      "        25           0.8708           18.34m\n",
      "        26           0.8704           18.22m\n",
      "        27           0.8701           18.04m\n",
      "        28           0.8698           17.84m\n",
      "        29           0.8695           17.72m\n",
      "        30           0.8692           17.55m\n",
      "        31           0.8689           17.37m\n",
      "        32           0.8687           17.17m\n",
      "        33           0.8684           16.96m\n",
      "        34           0.8682           16.74m\n",
      "        35           0.8680           16.53m\n",
      "        36           0.8678           16.29m\n",
      "        37           0.8676           16.03m\n",
      "        38           0.8675           15.83m\n",
      "        39           0.8673           15.62m\n",
      "        40           0.8672           15.32m\n",
      "        41           0.8670           15.06m\n",
      "        42           0.8668           14.81m\n",
      "        43           0.8667           14.60m\n",
      "        44           0.8665           14.36m\n",
      "        45           0.8664           14.14m\n",
      "        46           0.8663           13.87m\n",
      "        47           0.8662           13.63m\n",
      "        48           0.8660           13.43m\n",
      "        49           0.8659           13.15m\n",
      "        50           0.8657           12.91m\n",
      "        51           0.8656           12.63m\n",
      "        52           0.8655           12.39m\n",
      "        53           0.8654           12.15m\n",
      "        54           0.8653           11.89m\n",
      "        55           0.8653           11.64m\n",
      "        56           0.8652           11.37m\n",
      "        57           0.8651           11.11m\n",
      "        58           0.8650           10.89m\n",
      "        59           0.8649           10.62m\n",
      "        60           0.8648           10.37m\n",
      "        61           0.8647           10.09m\n",
      "        62           0.8646            9.82m\n",
      "        63           0.8645            9.56m\n",
      "        64           0.8645            9.30m\n",
      "        65           0.8644            9.03m\n",
      "        66           0.8644            8.75m\n",
      "        67           0.8643            8.49m\n",
      "        68           0.8642            8.25m\n",
      "        69           0.8641            7.97m\n",
      "        70           0.8641            7.72m\n",
      "        71           0.8640            7.46m\n",
      "        72           0.8639            7.19m\n",
      "        73           0.8638            6.91m\n",
      "        74           0.8638            6.61m\n",
      "        75           0.8637            6.31m\n",
      "        76           0.8637            6.01m\n",
      "        77           0.8636            5.73m\n",
      "        78           0.8635            5.44m\n",
      "        79           0.8634            5.14m\n",
      "        80           0.8634            4.90m\n",
      "        81           0.8633            4.65m\n",
      "        82           0.8632            4.40m\n",
      "        83           0.8632            4.16m\n",
      "        84           0.8631            3.92m\n",
      "        85           0.8630            3.69m\n",
      "        86           0.8630            3.43m\n",
      "        87           0.8629            3.19m\n",
      "        88           0.8629            2.94m\n",
      "        89           0.8628            2.70m\n",
      "        90           0.8627            2.46m\n",
      "        91           0.8626            2.21m\n",
      "        92           0.8626            1.96m\n",
      "        93           0.8625            1.72m\n",
      "        94           0.8624            1.48m\n",
      "        95           0.8623            1.23m\n",
      "        96           0.8622           59.22s\n",
      "        97           0.8622           44.39s\n",
      "        98           0.8621           29.60s\n",
      "        99           0.8621           14.76s\n",
      "       100           0.8620            0.00s\n",
      "0.6886347112203001\n"
     ]
    },
    {
     "data": {
      "text/html": [
       "<div>\n",
       "<style scoped>\n",
       "    .dataframe tbody tr th:only-of-type {\n",
       "        vertical-align: middle;\n",
       "    }\n",
       "\n",
       "    .dataframe tbody tr th {\n",
       "        vertical-align: top;\n",
       "    }\n",
       "\n",
       "    .dataframe thead th {\n",
       "        text-align: right;\n",
       "    }\n",
       "</style>\n",
       "<table border=\"1\" class=\"dataframe\">\n",
       "  <thead>\n",
       "    <tr style=\"text-align: right;\">\n",
       "      <th></th>\n",
       "      <th>0</th>\n",
       "      <th>1</th>\n",
       "    </tr>\n",
       "  </thead>\n",
       "  <tbody>\n",
       "    <tr>\n",
       "      <th>0</th>\n",
       "      <td>Cosine</td>\n",
       "      <td>0.05783912763326635</td>\n",
       "    </tr>\n",
       "    <tr>\n",
       "      <th>1</th>\n",
       "      <td>Jaccard</td>\n",
       "      <td>0.058568248858870124</td>\n",
       "    </tr>\n",
       "    <tr>\n",
       "      <th>2</th>\n",
       "      <td>BM25</td>\n",
       "      <td>0.09650918205001954</td>\n",
       "    </tr>\n",
       "    <tr>\n",
       "      <th>3</th>\n",
       "      <td>Tfidf</td>\n",
       "      <td>0.06301857709699635</td>\n",
       "    </tr>\n",
       "    <tr>\n",
       "      <th>4</th>\n",
       "      <td>Rouge P</td>\n",
       "      <td>0.09728945162175587</td>\n",
       "    </tr>\n",
       "    <tr>\n",
       "      <th>5</th>\n",
       "      <td>Rouge R</td>\n",
       "      <td>0.05300642988405758</td>\n",
       "    </tr>\n",
       "    <tr>\n",
       "      <th>6</th>\n",
       "      <td>BLEU 1</td>\n",
       "      <td>0.028148281062211403</td>\n",
       "    </tr>\n",
       "    <tr>\n",
       "      <th>7</th>\n",
       "      <td>BLEU 2</td>\n",
       "      <td>0.027359404471580674</td>\n",
       "    </tr>\n",
       "    <tr>\n",
       "      <th>8</th>\n",
       "      <td>DSSM</td>\n",
       "      <td>0.09795387735263995</td>\n",
       "    </tr>\n",
       "    <tr>\n",
       "      <th>9</th>\n",
       "      <td>CDSSM</td>\n",
       "      <td>0.10538927571037605</td>\n",
       "    </tr>\n",
       "    <tr>\n",
       "      <th>10</th>\n",
       "      <td>q_word_count</td>\n",
       "      <td>0.029505693213460887</td>\n",
       "    </tr>\n",
       "    <tr>\n",
       "      <th>11</th>\n",
       "      <td>q_char_count</td>\n",
       "      <td>0.0489910628308126</td>\n",
       "    </tr>\n",
       "    <tr>\n",
       "      <th>12</th>\n",
       "      <td>q_avg_word</td>\n",
       "      <td>0.0467351250156711</td>\n",
       "    </tr>\n",
       "    <tr>\n",
       "      <th>13</th>\n",
       "      <td>r_word_count</td>\n",
       "      <td>0.04841130180585813</td>\n",
       "    </tr>\n",
       "    <tr>\n",
       "      <th>14</th>\n",
       "      <td>r_char_count</td>\n",
       "      <td>0.07014345796923195</td>\n",
       "    </tr>\n",
       "    <tr>\n",
       "      <th>15</th>\n",
       "      <td>r_avg_word</td>\n",
       "      <td>0.07113150342319136</td>\n",
       "    </tr>\n",
       "  </tbody>\n",
       "</table>\n",
       "</div>"
      ],
      "text/plain": [
       "               0                     1\n",
       "0         Cosine   0.05783912763326635\n",
       "1        Jaccard  0.058568248858870124\n",
       "2           BM25   0.09650918205001954\n",
       "3          Tfidf   0.06301857709699635\n",
       "4        Rouge P   0.09728945162175587\n",
       "5        Rouge R   0.05300642988405758\n",
       "6         BLEU 1  0.028148281062211403\n",
       "7         BLEU 2  0.027359404471580674\n",
       "8           DSSM   0.09795387735263995\n",
       "9          CDSSM   0.10538927571037605\n",
       "10  q_word_count  0.029505693213460887\n",
       "11  q_char_count    0.0489910628308126\n",
       "12    q_avg_word    0.0467351250156711\n",
       "13  r_word_count   0.04841130180585813\n",
       "14  r_char_count   0.07014345796923195\n",
       "15    r_avg_word   0.07113150342319136"
      ]
     },
     "execution_count": 28,
     "metadata": {},
     "output_type": "execute_result"
    }
   ],
   "source": [
    "\n",
    "\n",
    "\n",
    "GB = GradientBoostingClassifier(loss=ls, learning_rate=lr,n_estimators=est,max_features=feat,max_depth=dep,verbose=3)\n",
    "\n",
    "GB.fit(x_train,y_train)\n",
    "\n",
    "y_pred = GB.predict(x_test)\n",
    "imp = GB.feature_importances_\n",
    "score = GB.score(x_test,y_test)\n",
    "print(score)\n",
    "\n",
    "pd.DataFrame(np.column_stack((features,imp)))"
   ]
  },
  {
   "cell_type": "code",
   "execution_count": 17,
   "metadata": {
    "ExecuteTime": {
     "end_time": "2018-12-29T07:00:14.614194Z",
     "start_time": "2018-12-29T06:56:49.887670Z"
    },
    "hidden": true
   },
   "outputs": [
    {
     "name": "stdout",
     "output_type": "stream",
     "text": [
      "0.8464757653223447\n"
     ]
    },
    {
     "data": {
      "text/html": [
       "<div>\n",
       "<style scoped>\n",
       "    .dataframe tbody tr th:only-of-type {\n",
       "        vertical-align: middle;\n",
       "    }\n",
       "\n",
       "    .dataframe tbody tr th {\n",
       "        vertical-align: top;\n",
       "    }\n",
       "\n",
       "    .dataframe thead th {\n",
       "        text-align: right;\n",
       "    }\n",
       "</style>\n",
       "<table border=\"1\" class=\"dataframe\">\n",
       "  <thead>\n",
       "    <tr style=\"text-align: right;\">\n",
       "      <th></th>\n",
       "      <th>0</th>\n",
       "      <th>1</th>\n",
       "    </tr>\n",
       "  </thead>\n",
       "  <tbody>\n",
       "    <tr>\n",
       "      <th>0</th>\n",
       "      <td>Cosine</td>\n",
       "      <td>0.05604296887956996</td>\n",
       "    </tr>\n",
       "    <tr>\n",
       "      <th>1</th>\n",
       "      <td>Jaccard</td>\n",
       "      <td>0.05472447135990491</td>\n",
       "    </tr>\n",
       "    <tr>\n",
       "      <th>2</th>\n",
       "      <td>BM25</td>\n",
       "      <td>0.05483435007815442</td>\n",
       "    </tr>\n",
       "    <tr>\n",
       "      <th>3</th>\n",
       "      <td>Tfidf</td>\n",
       "      <td>0.022055150947591015</td>\n",
       "    </tr>\n",
       "    <tr>\n",
       "      <th>4</th>\n",
       "      <td>Rouge P</td>\n",
       "      <td>0.3500241074594282</td>\n",
       "    </tr>\n",
       "    <tr>\n",
       "      <th>5</th>\n",
       "      <td>Rouge R</td>\n",
       "      <td>0.04762252031700716</td>\n",
       "    </tr>\n",
       "    <tr>\n",
       "      <th>6</th>\n",
       "      <td>BLEU 1</td>\n",
       "      <td>0.01034909511921164</td>\n",
       "    </tr>\n",
       "    <tr>\n",
       "      <th>7</th>\n",
       "      <td>BLEU 2</td>\n",
       "      <td>0.01044784907797101</td>\n",
       "    </tr>\n",
       "    <tr>\n",
       "      <th>8</th>\n",
       "      <td>DSSM</td>\n",
       "      <td>0.1263283708406751</td>\n",
       "    </tr>\n",
       "    <tr>\n",
       "      <th>9</th>\n",
       "      <td>CDSSM</td>\n",
       "      <td>0.14885650057407168</td>\n",
       "    </tr>\n",
       "    <tr>\n",
       "      <th>10</th>\n",
       "      <td>q_word_count</td>\n",
       "      <td>0.015911570408234398</td>\n",
       "    </tr>\n",
       "    <tr>\n",
       "      <th>11</th>\n",
       "      <td>q_char_count</td>\n",
       "      <td>0.02208824625072844</td>\n",
       "    </tr>\n",
       "    <tr>\n",
       "      <th>12</th>\n",
       "      <td>q_avg_word</td>\n",
       "      <td>0.015585626960397735</td>\n",
       "    </tr>\n",
       "    <tr>\n",
       "      <th>13</th>\n",
       "      <td>r_word_count</td>\n",
       "      <td>0.020623248900021485</td>\n",
       "    </tr>\n",
       "    <tr>\n",
       "      <th>14</th>\n",
       "      <td>r_char_count</td>\n",
       "      <td>0.02760191781768968</td>\n",
       "    </tr>\n",
       "    <tr>\n",
       "      <th>15</th>\n",
       "      <td>r_avg_word</td>\n",
       "      <td>0.01690400500934311</td>\n",
       "    </tr>\n",
       "  </tbody>\n",
       "</table>\n",
       "</div>"
      ],
      "text/plain": [
       "               0                     1\n",
       "0         Cosine   0.05604296887956996\n",
       "1        Jaccard   0.05472447135990491\n",
       "2           BM25   0.05483435007815442\n",
       "3          Tfidf  0.022055150947591015\n",
       "4        Rouge P    0.3500241074594282\n",
       "5        Rouge R   0.04762252031700716\n",
       "6         BLEU 1   0.01034909511921164\n",
       "7         BLEU 2   0.01044784907797101\n",
       "8           DSSM    0.1263283708406751\n",
       "9          CDSSM   0.14885650057407168\n",
       "10  q_word_count  0.015911570408234398\n",
       "11  q_char_count   0.02208824625072844\n",
       "12    q_avg_word  0.015585626960397735\n",
       "13  r_word_count  0.020623248900021485\n",
       "14  r_char_count   0.02760191781768968\n",
       "15    r_avg_word   0.01690400500934311"
      ]
     },
     "execution_count": 17,
     "metadata": {},
     "output_type": "execute_result"
    }
   ],
   "source": [
    "from sklearn.multiclass import OneVsRestClassifier\n",
    "from pylightgbm.models import GBMRegressor\n",
    "from sklearn.ensemble import ExtraTreesClassifier\n",
    "\n",
    "ET = ExtraTreesClassifier(n_estimators=450, criterion='gini', verbose=0,n_jobs=-1, max_features='auto',min_samples_split=3, min_samples_leaf=20 )#, warm_start = True)\n",
    "\n",
    "\n",
    "ET.fit(x_train,y_train)\n",
    "\n",
    "y_pred = ET.predict(x_test)\n",
    "imp = ET.feature_importances_\n",
    "score = ET.score(x_test,y_test)\n",
    "print(score)\n",
    "\n",
    "pd.DataFrame(np.column_stack((features,imp)))"
   ]
  },
  {
   "cell_type": "code",
   "execution_count": null,
   "metadata": {
    "hidden": true
   },
   "outputs": [],
   "source": [
    "# from sklearn.gaussian_process import GaussianProcessClassifier\n",
    "# from sklearn.gaussian_process.kernels import RBF\n",
    "\n",
    "# kernel = 1.0 * RBF(1.0)\n",
    "# gpc = GaussianProcessClassifier(kernel=kernel,\n",
    "#         random_state=0).fit(x_train, y_train)\n",
    "\n",
    "# score = gpc.score(x_test, y_test) \n",
    "# print(score)\n",
    "\n",
    "# y_pred = ET.predict(x_test)\n",
    "# imp = ET.feature_importances_\n",
    "\n",
    "# pd.DataFrame(np.column_stack((features,imp)))"
   ]
  },
  {
   "cell_type": "markdown",
   "metadata": {
    "heading_collapsed": true,
    "hidden": true
   },
   "source": [
    "### Max Voting"
   ]
  },
  {
   "cell_type": "code",
   "execution_count": 35,
   "metadata": {
    "ExecuteTime": {
     "end_time": "2018-12-26T06:06:48.758334Z",
     "start_time": "2018-12-26T05:36:53.926076Z"
    },
    "hidden": true
   },
   "outputs": [
    {
     "name": "stdout",
     "output_type": "stream",
     "text": [
      "      Iter       Train Loss   Remaining Time \n",
      "         1           0.9332           26.91m\n",
      "         2           0.9249           28.00m\n",
      "         3           0.9172           27.38m\n",
      "         4           0.9107           27.03m\n",
      "         5           0.9054           26.72m\n",
      "         6           0.9006           26.70m\n",
      "         7           0.8966           26.18m\n",
      "         8           0.8931           25.79m\n",
      "         9           0.8901           25.44m\n",
      "        10           0.8876           25.83m\n",
      "        11           0.8852           25.47m\n",
      "        12           0.8830           25.03m\n",
      "        13           0.8813           24.74m\n",
      "        15           0.8784           24.13m\n",
      "        16           0.8772           23.79m\n",
      "        17           0.8761           23.51m\n",
      "        18           0.8751           23.18m\n",
      "        19           0.8743           22.96m\n",
      "        20           0.8736           22.71m\n",
      "        21           0.8729           22.39m\n",
      "        22           0.8723           22.07m\n",
      "        23           0.8718           21.64m\n",
      "        24           0.8712           20.90m\n",
      "        25           0.8708           20.13m\n",
      "        26           0.8704           19.48m\n",
      "        27           0.8701           18.85m\n",
      "        28           0.8698           18.13m\n",
      "        29           0.8695           17.98m\n",
      "        30           0.8692           17.76m\n",
      "        31           0.8689           17.49m\n",
      "        32           0.8687           17.25m\n",
      "        33           0.8685           17.02m\n",
      "        34           0.8682           16.76m\n",
      "        35           0.8680           16.51m\n",
      "        36           0.8679           16.26m\n",
      "        37           0.8676           15.99m\n",
      "        38           0.8675           15.80m\n",
      "        39           0.8673           15.58m\n",
      "        40           0.8672           15.33m\n",
      "        41           0.8670           15.09m\n",
      "        42           0.8669           14.88m\n",
      "        43           0.8667           14.64m\n",
      "        44           0.8666           14.36m\n",
      "        45           0.8665           14.10m\n",
      "        46           0.8663           13.87m\n",
      "        47           0.8662           13.65m\n",
      "        48           0.8661           13.38m\n",
      "        49           0.8660           13.13m\n",
      "        50           0.8658           12.87m\n",
      "        51           0.8657           12.66m\n",
      "        52           0.8656           12.40m\n",
      "        53           0.8655           12.13m\n",
      "        54           0.8653           11.87m\n",
      "        55           0.8653           11.60m\n",
      "        56           0.8651           11.37m\n",
      "        57           0.8651           11.10m\n",
      "        58           0.8649           10.85m\n",
      "        59           0.8649           10.57m\n",
      "        60           0.8648           10.31m\n",
      "        61           0.8647           10.05m\n",
      "        62           0.8646            9.80m\n",
      "        63           0.8646            9.52m\n",
      "        64           0.8645            9.26m\n",
      "        65           0.8644            9.03m\n",
      "        66           0.8643            8.73m\n",
      "        67           0.8643            8.45m\n",
      "        68           0.8642            8.20m\n",
      "        69           0.8641            7.91m\n",
      "        70           0.8641            7.65m\n",
      "        71           0.8640            7.41m\n",
      "        72           0.8639            7.16m\n",
      "        73           0.8638            6.89m\n",
      "        74           0.8637            6.62m\n",
      "        75           0.8637            6.37m\n",
      "        76           0.8636            6.12m\n",
      "        77           0.8635            5.87m\n",
      "        78           0.8634            5.61m\n",
      "        79           0.8633            5.36m\n",
      "        80           0.8632            5.11m\n",
      "        81           0.8631            4.84m\n",
      "        82           0.8631            4.58m\n",
      "        83           0.8630            4.32m\n",
      "        84           0.8629            4.07m\n",
      "        85           0.8629            3.80m\n",
      "        86           0.8629            3.52m\n",
      "        87           0.8628            3.26m\n",
      "        88           0.8627            2.99m\n",
      "        89           0.8627            2.72m\n",
      "        90           0.8626            2.46m\n",
      "        91           0.8625            2.20m\n",
      "        92           0.8624            1.96m\n",
      "        93           0.8624            1.72m\n",
      "        94           0.8623            1.47m\n",
      "        95           0.8623            1.22m\n",
      "        96           0.8622           58.77s\n",
      "        97           0.8621           44.09s\n",
      "        98           0.8621           29.39s\n",
      "        99           0.8620           14.68s\n",
      "       100           0.8619            0.00s\n"
     ]
    },
    {
     "name": "stderr",
     "output_type": "stream",
     "text": [
      "/opt/anaconda/lib/python3.6/site-packages/sklearn/preprocessing/label.py:151: DeprecationWarning: The truth value of an empty array is ambiguous. Returning False, but in future this will result in an error. Use `array.size > 0` to check that an array is not empty.\n",
      "  if diff:\n"
     ]
    },
    {
     "data": {
      "text/plain": [
       "0.6888360843732314"
      ]
     },
     "execution_count": 35,
     "metadata": {},
     "output_type": "execute_result"
    }
   ],
   "source": [
    "from sklearn.ensemble import VotingClassifier\n",
    "model = VotingClassifier(estimators=[('gradientboosting', GB), ('extratrees', ET)], voting='soft')\n",
    "model.fit(x_train,y_train)\n",
    "model.score(x_test,y_test)"
   ]
  },
  {
   "cell_type": "markdown",
   "metadata": {
    "heading_collapsed": true,
    "hidden": true
   },
   "source": [
    "### Stacking"
   ]
  },
  {
   "cell_type": "code",
   "execution_count": 44,
   "metadata": {
    "ExecuteTime": {
     "end_time": "2018-12-26T06:15:19.119880Z",
     "start_time": "2018-12-26T06:15:19.110766Z"
    },
    "hidden": true
   },
   "outputs": [],
   "source": [
    "from sklearn.model_selection import StratifiedKFold\n",
    "\n",
    "def Stacking(model,train,y,test,n_fold):\n",
    "        folds=StratifiedKFold(n_splits=n_fold,random_state=1)\n",
    "        test_pred=np.empty((test.shape[0],1),float)\n",
    "        train_pred=np.empty((0,1),float)\n",
    "        for train_indices,val_indices in folds.split(train,y.values):\n",
    "            x_train,x_val=train.iloc[train_indices],train.iloc[val_indices]\n",
    "            y_train,y_val=y.iloc[train_indices],y.iloc[val_indices]\n",
    "\n",
    "            model.fit(X=x_train,y=y_train)\n",
    "            train_pred=np.append(train_pred,model.predict(x_val))\n",
    "            test_pred=np.append(test_pred,model.predict(test))\n",
    "        return test_pred.reshape(-1,1),train_pred\n"
   ]
  },
  {
   "cell_type": "code",
   "execution_count": 45,
   "metadata": {
    "ExecuteTime": {
     "end_time": "2018-12-26T06:15:24.516481Z",
     "start_time": "2018-12-26T06:15:23.710652Z"
    },
    "hidden": true
   },
   "outputs": [
    {
     "ename": "AttributeError",
     "evalue": "'numpy.ndarray' object has no attribute 'values'",
     "output_type": "error",
     "traceback": [
      "\u001b[0;31m---------------------------------------------------------------------------\u001b[0m",
      "\u001b[0;31mAttributeError\u001b[0m                            Traceback (most recent call last)",
      "\u001b[0;32m<ipython-input-45-8a891d67695b>\u001b[0m in \u001b[0;36m<module>\u001b[0;34m()\u001b[0m\n\u001b[1;32m      1\u001b[0m \u001b[0mmodel1\u001b[0m \u001b[0;34m=\u001b[0m \u001b[0mET\u001b[0m\u001b[0;34m\u001b[0m\u001b[0m\n\u001b[1;32m      2\u001b[0m \u001b[0;34m\u001b[0m\u001b[0m\n\u001b[0;32m----> 3\u001b[0;31m \u001b[0mtest_pred1\u001b[0m \u001b[0;34m,\u001b[0m\u001b[0mtrain_pred1\u001b[0m\u001b[0;34m=\u001b[0m\u001b[0mStacking\u001b[0m\u001b[0;34m(\u001b[0m\u001b[0mmodel\u001b[0m\u001b[0;34m=\u001b[0m\u001b[0mmodel1\u001b[0m\u001b[0;34m,\u001b[0m\u001b[0mn_fold\u001b[0m\u001b[0;34m=\u001b[0m\u001b[0;36m10\u001b[0m\u001b[0;34m,\u001b[0m \u001b[0mtrain\u001b[0m\u001b[0;34m=\u001b[0m\u001b[0mx_train\u001b[0m\u001b[0;34m,\u001b[0m\u001b[0mtest\u001b[0m\u001b[0;34m=\u001b[0m\u001b[0mx_test\u001b[0m\u001b[0;34m,\u001b[0m\u001b[0my\u001b[0m\u001b[0;34m=\u001b[0m\u001b[0my_train\u001b[0m\u001b[0;34m)\u001b[0m\u001b[0;34m\u001b[0m\u001b[0m\n\u001b[0m\u001b[1;32m      4\u001b[0m \u001b[0;34m\u001b[0m\u001b[0m\n\u001b[1;32m      5\u001b[0m \u001b[0mtrain_pred1\u001b[0m\u001b[0;34m=\u001b[0m\u001b[0mpd\u001b[0m\u001b[0;34m.\u001b[0m\u001b[0mDataFrame\u001b[0m\u001b[0;34m(\u001b[0m\u001b[0mtrain_pred1\u001b[0m\u001b[0;34m)\u001b[0m\u001b[0;34m\u001b[0m\u001b[0m\n",
      "\u001b[0;32m<ipython-input-44-f207cc870b62>\u001b[0m in \u001b[0;36mStacking\u001b[0;34m(model, train, y, test, n_fold)\u001b[0m\n\u001b[1;32m      5\u001b[0m         \u001b[0mtest_pred\u001b[0m\u001b[0;34m=\u001b[0m\u001b[0mnp\u001b[0m\u001b[0;34m.\u001b[0m\u001b[0mempty\u001b[0m\u001b[0;34m(\u001b[0m\u001b[0;34m(\u001b[0m\u001b[0mtest\u001b[0m\u001b[0;34m.\u001b[0m\u001b[0mshape\u001b[0m\u001b[0;34m[\u001b[0m\u001b[0;36m0\u001b[0m\u001b[0;34m]\u001b[0m\u001b[0;34m,\u001b[0m\u001b[0;36m1\u001b[0m\u001b[0;34m)\u001b[0m\u001b[0;34m,\u001b[0m\u001b[0mfloat\u001b[0m\u001b[0;34m)\u001b[0m\u001b[0;34m\u001b[0m\u001b[0m\n\u001b[1;32m      6\u001b[0m         \u001b[0mtrain_pred\u001b[0m\u001b[0;34m=\u001b[0m\u001b[0mnp\u001b[0m\u001b[0;34m.\u001b[0m\u001b[0mempty\u001b[0m\u001b[0;34m(\u001b[0m\u001b[0;34m(\u001b[0m\u001b[0;36m0\u001b[0m\u001b[0;34m,\u001b[0m\u001b[0;36m1\u001b[0m\u001b[0;34m)\u001b[0m\u001b[0;34m,\u001b[0m\u001b[0mfloat\u001b[0m\u001b[0;34m)\u001b[0m\u001b[0;34m\u001b[0m\u001b[0m\n\u001b[0;32m----> 7\u001b[0;31m         \u001b[0;32mfor\u001b[0m \u001b[0mtrain_indices\u001b[0m\u001b[0;34m,\u001b[0m\u001b[0mval_indices\u001b[0m \u001b[0;32min\u001b[0m \u001b[0mfolds\u001b[0m\u001b[0;34m.\u001b[0m\u001b[0msplit\u001b[0m\u001b[0;34m(\u001b[0m\u001b[0mtrain\u001b[0m\u001b[0;34m,\u001b[0m\u001b[0my\u001b[0m\u001b[0;34m.\u001b[0m\u001b[0mvalues\u001b[0m\u001b[0;34m)\u001b[0m\u001b[0;34m:\u001b[0m\u001b[0;34m\u001b[0m\u001b[0m\n\u001b[0m\u001b[1;32m      8\u001b[0m             \u001b[0mx_train\u001b[0m\u001b[0;34m,\u001b[0m\u001b[0mx_val\u001b[0m\u001b[0;34m=\u001b[0m\u001b[0mtrain\u001b[0m\u001b[0;34m.\u001b[0m\u001b[0miloc\u001b[0m\u001b[0;34m[\u001b[0m\u001b[0mtrain_indices\u001b[0m\u001b[0;34m]\u001b[0m\u001b[0;34m,\u001b[0m\u001b[0mtrain\u001b[0m\u001b[0;34m.\u001b[0m\u001b[0miloc\u001b[0m\u001b[0;34m[\u001b[0m\u001b[0mval_indices\u001b[0m\u001b[0;34m]\u001b[0m\u001b[0;34m\u001b[0m\u001b[0m\n\u001b[1;32m      9\u001b[0m             \u001b[0my_train\u001b[0m\u001b[0;34m,\u001b[0m\u001b[0my_val\u001b[0m\u001b[0;34m=\u001b[0m\u001b[0my\u001b[0m\u001b[0;34m.\u001b[0m\u001b[0miloc\u001b[0m\u001b[0;34m[\u001b[0m\u001b[0mtrain_indices\u001b[0m\u001b[0;34m]\u001b[0m\u001b[0;34m,\u001b[0m\u001b[0my\u001b[0m\u001b[0;34m.\u001b[0m\u001b[0miloc\u001b[0m\u001b[0;34m[\u001b[0m\u001b[0mval_indices\u001b[0m\u001b[0;34m]\u001b[0m\u001b[0;34m\u001b[0m\u001b[0m\n",
      "\u001b[0;31mAttributeError\u001b[0m: 'numpy.ndarray' object has no attribute 'values'"
     ]
    }
   ],
   "source": [
    "model1 = ET\n",
    "\n",
    "test_pred1 ,train_pred1=Stacking(model=model1,n_fold=10, train=x_train,test=x_test,y=y_train)\n",
    "\n",
    "train_pred1=pd.DataFrame(train_pred1)\n",
    "test_pred1=pd.DataFrame(test_pred1)"
   ]
  },
  {
   "cell_type": "code",
   "execution_count": null,
   "metadata": {
    "hidden": true
   },
   "outputs": [],
   "source": [
    "model2 = GB\n",
    "\n",
    "test_pred2 ,train_pred2=Stacking(model=model2,n_fold=10,train=x_train,test=x_test,y=y_train)\n",
    "\n",
    "train_pred2=pd.DataFrame(train_pred2)\n",
    "test_pred2=pd.DataFrame(test_pred2)"
   ]
  },
  {
   "cell_type": "code",
   "execution_count": null,
   "metadata": {
    "hidden": true
   },
   "outputs": [],
   "source": [
    "df = pd.concat([train_pred1, train_pred2], axis=1)\n",
    "df_test = pd.concat([test_pred1, test_pred2], axis=1)\n",
    "\n",
    "model = LogisticRegression(random_state=1)\n",
    "model.fit(df,y_train)\n",
    "model.score(df_test, y_test)"
   ]
  },
  {
   "cell_type": "markdown",
   "metadata": {
    "heading_collapsed": true,
    "hidden": true
   },
   "source": [
    "### Blending\n"
   ]
  },
  {
   "cell_type": "code",
   "execution_count": null,
   "metadata": {
    "ExecuteTime": {
     "start_time": "2018-12-26T06:25:17.688Z"
    },
    "hidden": true
   },
   "outputs": [],
   "source": [
    "# model1 = ET\n",
    "# val_pred1=model1.predict(x_val)\n",
    "# test_pred1=model1.predict(x_test)\n",
    "# val_pred1=pd.DataFrame(val_pred1)\n",
    "# test_pred1=pd.DataFrame(test_pred1)\n",
    "\n",
    "# model2=GB\n",
    "# val_pred2=model2.predict(x_val)\n",
    "# test_pred2=model2.predict(x_test)\n",
    "# val_pred2=pd.DataFrame(val_pred2)\n",
    "# test_pred2=pd.DataFrame(test_pred2)"
   ]
  },
  {
   "cell_type": "code",
   "execution_count": null,
   "metadata": {
    "ExecuteTime": {
     "start_time": "2018-12-26T06:25:18.049Z"
    },
    "hidden": true
   },
   "outputs": [],
   "source": [
    "# df_val=pd.concat([x_val, val_pred1,val_pred2],axis=1)\n",
    "# df_test=pd.concat([x_test, test_pred1,test_pred2],axis=1)\n",
    "\n",
    "# model = LogisticRegression()\n",
    "# model.fit(df_val,y_val)\n",
    "# model.score(df_test,y_test)"
   ]
  },
  {
   "cell_type": "markdown",
   "metadata": {
    "heading_collapsed": true
   },
   "source": [
    "# Neural Network"
   ]
  },
  {
   "cell_type": "raw",
   "metadata": {
    "hidden": true
   },
   "source": [
    "results['nn'] = {}\n",
    "for optim in hyperparams['nn']['optim']:\n",
    "    results['nn'][str(optim)] = {}\n",
    "    for lr in hyperparams['nn']['learning_rate']:\n",
    "        results['nn'][str(optim)][str(lr)] = {}\n",
    "        for act in hyperparams['nn']['activation']:\n",
    "            print(\"Hyperparameter used\")\n",
    "            print(\"Optimizer : \",optim)\n",
    "            print(\"Learning rate : \",lr)\n",
    "            print(\"Activation : \",act)\n",
    "            results['nn'][str(optim)][str(lr)][str(act)] = {}\n",
    "            inp = L.Input(shape=(len(features),))\n",
    "            x = L.Dense(512, activation=act)(inp)\n",
    "            x = L.Dense(256, activation=act)(x)\n",
    "            x = L.Dense(128, activation=act)(x)\n",
    "            x = L.Dense(128, activation=act)(x)\n",
    "            x = L.Dense(64, activation=act)(x)\n",
    "            out = L.Dense(1, activation=\"sigmoid\")(x)\n",
    "            \n",
    "            model = M.Model(inputs=[inp],outputs=[out])\n",
    "            model.summary()\n",
    "            if optim == \"Adam\":\n",
    "                o = Adam(lr)\n",
    "            elif optim == \"Adagrad\":\n",
    "                o = Adagrad(lr)\n",
    "            elif optim == \"Adamax\":\n",
    "                o = Adamax(lr)\n",
    "            elif optim == \"Nadam\":\n",
    "                o = Nadam(lr)\n",
    "            model.compile(o,loss='binary_crossentropy',metrics=['accuracy'])\n",
    "            \n",
    "            model.fit(x_train,y_train,epochs=10)\n",
    "            score = model.evaluate(x_test,y_test)\n",
    "            y_pred = model.predict(x_test)\n",
    "            \n",
    "            results['nn'][str(optim)][str(lr)][str(act)][\"score\"] = score\n",
    "\n",
    "# tree models tabulation\n",
    "columns = [\"optimizer\",\"learning rate\",\"activation\",\"score\"]\n",
    "l = []\n",
    "for mdl in results.keys():\n",
    "    if(mdl == \"nn\"):\n",
    "        for optim in results[mdl].keys():\n",
    "            for lr in results[mdl][optim].keys():\n",
    "                for act in results[mdl][optim][lr].keys():\n",
    "                    score = results[mdl][optim][lr][act][\"score\"]\n",
    "                    l.append([optim,lr,act,score])\n",
    "\n",
    "res = pd.DataFrame(l,columns=columns)\n",
    "res[\"loss\"] = [s[0] for s in res[\"score\"]]\n",
    "res[\"score\"] = [s[1] for s in res[\"score\"]]\n",
    "\n",
    "res = res.sort_values(by=['score'],ascending=False).reset_index(drop=True)\n",
    "\n",
    "res\n",
    "\n",
    "res.to_csv(\"NN_Hyper.csv\",sep=',',index=None)"
   ]
  },
  {
   "cell_type": "raw",
   "metadata": {
    "ExecuteTime": {
     "end_time": "2018-12-24T01:06:01.653270Z",
     "start_time": "2018-12-24T01:06:01.650106Z"
    },
    "hidden": true
   },
   "source": [
    "# optimizer,learning rate,activation,score,loss\n",
    "# Adamax,0.1,tanh,0.8999999999711008,0.37295132941910714"
   ]
  },
  {
   "cell_type": "code",
   "execution_count": 87,
   "metadata": {
    "ExecuteTime": {
     "end_time": "2018-12-26T12:48:25.198304Z",
     "start_time": "2018-12-26T12:44:22.461978Z"
    },
    "hidden": true
   },
   "outputs": [
    {
     "name": "stdout",
     "output_type": "stream",
     "text": [
      "_________________________________________________________________\n",
      "Layer (type)                 Output Shape              Param #   \n",
      "=================================================================\n",
      "input_4 (InputLayer)         (None, 16)                0         \n",
      "_________________________________________________________________\n",
      "dense_13 (Dense)             (None, 128)               2176      \n",
      "_________________________________________________________________\n",
      "dense_14 (Dense)             (None, 256)               33024     \n",
      "_________________________________________________________________\n",
      "dense_15 (Dense)             (None, 64)                16448     \n",
      "_________________________________________________________________\n",
      "dense_16 (Dense)             (None, 1)                 65        \n",
      "=================================================================\n",
      "Total params: 51,713\n",
      "Trainable params: 51,713\n",
      "Non-trainable params: 0\n",
      "_________________________________________________________________\n",
      "Train on 733846 samples, validate on 1572540 samples\n",
      "Epoch 1/5\n",
      "733846/733846 [==============================] - 48s 66us/step - loss: 0.7028 - acc: 0.4995 - val_loss: 0.7112 - val_acc: 0.1000\n",
      "Epoch 2/5\n",
      "733846/733846 [==============================] - 47s 65us/step - loss: 0.7011 - acc: 0.4997 - val_loss: 0.5217 - val_acc: 0.9000\n",
      "Epoch 3/5\n",
      "733846/733846 [==============================] - 48s 65us/step - loss: 0.7012 - acc: 0.5002 - val_loss: 0.5712 - val_acc: 0.9000\n",
      "Epoch 4/5\n",
      "733846/733846 [==============================] - 49s 67us/step - loss: 0.7009 - acc: 0.4995 - val_loss: 0.5865 - val_acc: 0.9000\n",
      "Epoch 5/5\n",
      "733846/733846 [==============================] - 49s 67us/step - loss: 0.7010 - acc: 0.4988 - val_loss: 0.8561 - val_acc: 0.1000\n"
     ]
    },
    {
     "data": {
      "text/plain": [
       "<keras.callbacks.History at 0x7ff672987e80>"
      ]
     },
     "execution_count": 87,
     "metadata": {},
     "output_type": "execute_result"
    }
   ],
   "source": [
    "inp = L.Input(shape=(len(features),))\n",
    "x = L.Dense(128, activation='sigmoid')(inp)\n",
    "x = L.Dense(256, activation='sigmoid')(x)\n",
    "x = L.Dense(64, activation='sigmoid')(x)\n",
    "out = L.Dense(1, activation='sigmoid')(x)\n",
    "\n",
    "model = M.Model(inputs=[inp],outputs=[out])\n",
    "model.summary()\n",
    " \n",
    "o = Adamax(0.1)\n",
    "model.compile(optimizer=o,loss='binary_crossentropy',metrics=['accuracy'])\n",
    "\n",
    "model.fit(x_train,y_train,epochs=5,batch_size=128,validation_data=(x_test,y_test))"
   ]
  },
  {
   "cell_type": "code",
   "execution_count": 130,
   "metadata": {
    "ExecuteTime": {
     "end_time": "2018-12-26T14:29:21.779723Z",
     "start_time": "2018-12-26T14:29:02.724623Z"
    },
    "hidden": true
   },
   "outputs": [
    {
     "data": {
      "text/plain": [
       "5241770"
      ]
     },
     "execution_count": 130,
     "metadata": {},
     "output_type": "execute_result"
    }
   ],
   "source": [
    "nntrain_raw = pd.read_csv(\"../Clean_data_latest.csv\")\n",
    "len(nntrain_raw)"
   ]
  },
  {
   "cell_type": "code",
   "execution_count": 131,
   "metadata": {
    "ExecuteTime": {
     "end_time": "2018-12-26T14:29:47.710606Z",
     "start_time": "2018-12-26T14:29:47.691144Z"
    },
    "hidden": true
   },
   "outputs": [
    {
     "data": {
      "text/html": [
       "<div>\n",
       "<style scoped>\n",
       "    .dataframe tbody tr th:only-of-type {\n",
       "        vertical-align: middle;\n",
       "    }\n",
       "\n",
       "    .dataframe tbody tr th {\n",
       "        vertical-align: top;\n",
       "    }\n",
       "\n",
       "    .dataframe thead th {\n",
       "        text-align: right;\n",
       "    }\n",
       "</style>\n",
       "<table border=\"1\" class=\"dataframe\">\n",
       "  <thead>\n",
       "    <tr style=\"text-align: right;\">\n",
       "      <th></th>\n",
       "      <th>queryID</th>\n",
       "      <th>query</th>\n",
       "      <th>response</th>\n",
       "      <th>label</th>\n",
       "      <th>responseID</th>\n",
       "    </tr>\n",
       "  </thead>\n",
       "  <tbody>\n",
       "    <tr>\n",
       "      <th>0</th>\n",
       "      <td>131</td>\n",
       "      <td>. corporation ?</td>\n",
       "      <td>company incorporated specific nation , often w...</td>\n",
       "      <td>0</td>\n",
       "      <td>0</td>\n",
       "    </tr>\n",
       "    <tr>\n",
       "      <th>1</th>\n",
       "      <td>131</td>\n",
       "      <td>. corporation ?</td>\n",
       "      <td>today , growing community 2,100 certified b co...</td>\n",
       "      <td>0</td>\n",
       "      <td>1</td>\n",
       "    </tr>\n",
       "    <tr>\n",
       "      <th>2</th>\n",
       "      <td>131</td>\n",
       "      <td>. corporation ?</td>\n",
       "      <td>corporation definition , association individua...</td>\n",
       "      <td>0</td>\n",
       "      <td>2</td>\n",
       "    </tr>\n",
       "    <tr>\n",
       "      <th>3</th>\n",
       "      <td>131</td>\n",
       "      <td>. corporation ?</td>\n",
       "      <td>example corporation sentence . 1 work consulta...</td>\n",
       "      <td>0</td>\n",
       "      <td>3</td>\n",
       "    </tr>\n",
       "    <tr>\n",
       "      <th>4</th>\n",
       "      <td>131</td>\n",
       "      <td>. corporation ?</td>\n",
       "      <td>1 : government-owned corporation ( utility rai...</td>\n",
       "      <td>0</td>\n",
       "      <td>4</td>\n",
       "    </tr>\n",
       "  </tbody>\n",
       "</table>\n",
       "</div>"
      ],
      "text/plain": [
       "   queryID            query  \\\n",
       "0      131  . corporation ?   \n",
       "1      131  . corporation ?   \n",
       "2      131  . corporation ?   \n",
       "3      131  . corporation ?   \n",
       "4      131  . corporation ?   \n",
       "\n",
       "                                            response  label  responseID  \n",
       "0  company incorporated specific nation , often w...      0           0  \n",
       "1  today , growing community 2,100 certified b co...      0           1  \n",
       "2  corporation definition , association individua...      0           2  \n",
       "3  example corporation sentence . 1 work consulta...      0           3  \n",
       "4  1 : government-owned corporation ( utility rai...      0           4  "
      ]
     },
     "execution_count": 131,
     "metadata": {},
     "output_type": "execute_result"
    }
   ],
   "source": [
    "nntrain = nntrain_raw[:1000].copy(deep=True)\n",
    "nntrain.head()"
   ]
  },
  {
   "cell_type": "code",
   "execution_count": null,
   "metadata": {
    "hidden": true
   },
   "outputs": [],
   "source": [
    "def clean(df):\n",
    "    \n",
    "  column = 'query'\n",
    "  \n",
    "  #Split a-b into a and b\n",
    "  df[column] = df[column].str.replace('-',' ')\n",
    "  print(column+\": - Replaced\")\n",
    "  #Removing punctuations\n",
    "  df[column] = df[column].str.replace('[^\\w\\s]','')\n",
    "  print(column+\": Removed punctions \")\n",
    "  #Replacing numbers\n",
    "  df[column] = df[column].str.replace('[0-9]+','#')\n",
    "  print(column+\": Replaced Numbers \")\n",
    "  #Stemming\n",
    "  #df[column] = df[column].apply(lambda x: \" \".join([porter.stem(word) for word in x.split()]))\n",
    "  #print(column+\": Stemming done\")\n",
    "  \n",
    "  column = 'response'\n",
    "  #Split a-b into a and b\n",
    "  df[column] = df[column].str.replace('-',' ')\n",
    "  print(column+\": - Replaced\")\n",
    "  #Removing punctuations\n",
    "  df[column] = df[column].str.replace('[^\\w\\s]','')\n",
    "  print(column+\": Removed punctions \")\n",
    "  #Replacing numbers\n",
    "  df[column] = df[column].str.replace('[0-9]+','#')\n",
    "  print(column+\": Replaced Numbers \")\n",
    "  #Stemming\n",
    "  #df[column] = df[column].apply(lambda x: \" \".join([porter.stem(word) for word in x.split()]))\n",
    "  #print(column+\": Stemming done\")\n",
    "  \n",
    "  return df\n",
    "  "
   ]
  },
  {
   "cell_type": "markdown",
   "metadata": {
    "heading_collapsed": true
   },
   "source": [
    "# MRR"
   ]
  },
  {
   "cell_type": "code",
   "execution_count": 93,
   "metadata": {
    "ExecuteTime": {
     "end_time": "2018-12-26T14:04:30.407801Z",
     "start_time": "2018-12-26T14:04:29.254744Z"
    },
    "hidden": true
   },
   "outputs": [],
   "source": [
    "test_labelID = pd.read_csv(\"Train_labelID.csv\",sep=',',header=None).iloc[split:]\n",
    "test_queryID = pd.read_csv(\"Train_QueryID.csv\",sep=',',header=None).iloc[split:]"
   ]
  },
  {
   "cell_type": "code",
   "execution_count": 119,
   "metadata": {
    "ExecuteTime": {
     "end_time": "2018-12-26T14:14:54.463045Z",
     "start_time": "2018-12-26T14:14:38.542459Z"
    },
    "hidden": true
   },
   "outputs": [
    {
     "name": "stderr",
     "output_type": "stream",
     "text": [
      "[Parallel(n_jobs=1)]: Done   1 out of   1 | elapsed:    0.2s remaining:    0.0s\n",
      "[Parallel(n_jobs=1)]: Done   2 out of   2 | elapsed:    0.4s remaining:    0.0s\n",
      "[Parallel(n_jobs=1)]: Done 100 out of 100 | elapsed:   15.7s finished\n"
     ]
    }
   ],
   "source": [
    "#if NN\n",
    "#probs = model.predict(x_test).ravel()\n",
    "#else\n",
    "probs = RF.predict_proba(x_test)[:,1]"
   ]
  },
  {
   "cell_type": "code",
   "execution_count": 120,
   "metadata": {
    "ExecuteTime": {
     "end_time": "2018-12-26T14:14:56.505413Z",
     "start_time": "2018-12-26T14:14:54.465120Z"
    },
    "hidden": true
   },
   "outputs": [],
   "source": [
    "p = []\n",
    "for i in range(0,probs.shape[0],10):\n",
    "  l = []\n",
    "  v = probs[i:i+10].T\n",
    "  l.append(test_queryID.values[i][0])\n",
    "  l.extend(v)\n",
    "  p.append(l)\n",
    "\n",
    "p = np.array(p)\n",
    "y_pred = pd.DataFrame(p[:,1:],index=p[:,0].astype(int))"
   ]
  },
  {
   "cell_type": "code",
   "execution_count": 121,
   "metadata": {
    "ExecuteTime": {
     "end_time": "2018-12-26T14:14:58.296626Z",
     "start_time": "2018-12-26T14:14:56.507277Z"
    },
    "hidden": true
   },
   "outputs": [],
   "source": [
    "tmp=pd.DataFrame(test_labelID.values.ravel(),index=test_queryID.astype(int).values.ravel()).reset_index(drop=True)\n",
    "h = []\n",
    "for i in range(0,tmp.shape[0],10):\n",
    "  h.append(tmp.values[i])\n",
    "y_true = pd.DataFrame(h)"
   ]
  },
  {
   "cell_type": "code",
   "execution_count": 122,
   "metadata": {
    "ExecuteTime": {
     "end_time": "2018-12-26T14:14:58.302474Z",
     "start_time": "2018-12-26T14:14:58.298799Z"
    },
    "hidden": true
   },
   "outputs": [],
   "source": [
    "y_pred.columns = list(range(10))\n",
    "y_true.columns = ['labelID']"
   ]
  },
  {
   "cell_type": "code",
   "execution_count": 140,
   "metadata": {
    "ExecuteTime": {
     "end_time": "2018-12-26T14:39:04.846377Z",
     "start_time": "2018-12-26T14:39:04.839466Z"
    },
    "hidden": true
   },
   "outputs": [],
   "source": [
    "def MRR(sub,ref):\n",
    "      scores = []\n",
    "      for q_id in ref.index:\n",
    "        position = ref.iloc[q_id].values.ravel()\n",
    "        print(position)\n",
    "        rank = np.argsort(sub.iloc[q_id])[::-1].tolist().index(position)\n",
    "        rank +=1\n",
    "        scores.append(1.0/rank)\n",
    "        print(rank)\n",
    "      score = np.mean(scores)\n",
    "      print(score)"
   ]
  },
  {
   "cell_type": "code",
   "execution_count": 147,
   "metadata": {
    "ExecuteTime": {
     "end_time": "2018-12-26T14:41:58.798226Z",
     "start_time": "2018-12-26T14:41:58.794509Z"
    },
    "hidden": true
   },
   "outputs": [],
   "source": [
    "# y_pred[:2]"
   ]
  },
  {
   "cell_type": "code",
   "execution_count": 148,
   "metadata": {
    "ExecuteTime": {
     "end_time": "2018-12-26T14:42:02.915882Z",
     "start_time": "2018-12-26T14:42:02.912515Z"
    },
    "hidden": true
   },
   "outputs": [],
   "source": [
    "# y_true[:2]"
   ]
  },
  {
   "cell_type": "code",
   "execution_count": 149,
   "metadata": {
    "ExecuteTime": {
     "end_time": "2018-12-26T14:42:06.962313Z",
     "start_time": "2018-12-26T14:42:06.958709Z"
    },
    "hidden": true
   },
   "outputs": [],
   "source": [
    "MRR(y_pred,y_true)"
   ]
  },
  {
   "cell_type": "markdown",
   "metadata": {},
   "source": [
    "# MRR2"
   ]
  },
  {
   "cell_type": "code",
   "execution_count": 18,
   "metadata": {
    "ExecuteTime": {
     "end_time": "2018-12-29T07:01:03.313939Z",
     "start_time": "2018-12-29T07:01:01.032113Z"
    }
   },
   "outputs": [],
   "source": [
    "test_labelID = pd.read_csv(\"Train_labelID.csv\",sep=',').iloc[split:]\n",
    "test_queryID = pd.read_csv(\"Train_queryID.csv\",sep=',').iloc[split:]#pd.read_csv(\"Train_QueryID.csv\",sep=',',header=None).iloc[split:]"
   ]
  },
  {
   "cell_type": "code",
   "execution_count": 19,
   "metadata": {
    "ExecuteTime": {
     "end_time": "2018-12-29T07:01:30.961996Z",
     "start_time": "2018-12-29T07:01:03.315957Z"
    }
   },
   "outputs": [],
   "source": [
    "#if NN\n",
    "#probs = model.predict(x_test).ravel()\n",
    "#else\n",
    "probs = ET.predict_proba(x_test)[:,1]"
   ]
  },
  {
   "cell_type": "code",
   "execution_count": 20,
   "metadata": {
    "ExecuteTime": {
     "end_time": "2018-12-29T07:01:30.969672Z",
     "start_time": "2018-12-29T07:01:30.963976Z"
    }
   },
   "outputs": [],
   "source": [
    "def get_MRR_df(probs,test_queryID,test_labelID):\n",
    "  p = []\n",
    "  q = []\n",
    "  for i in range(0,probs.shape[0],10):\n",
    "    l = []\n",
    "    h = []    \n",
    "    l.append(int(test_queryID[i]))\n",
    "    h.append(int(test_queryID.ravel()[i]))\n",
    "    \n",
    "    v = probs[i:i+10].T\n",
    "    l.extend(v)\n",
    "    h.append(test_labelID.ravel()[i])\n",
    "    \n",
    "    p.append(l)\n",
    "    q.append(h)\n",
    "\n",
    "  y_pred = pd.DataFrame(p)\n",
    "  y_pred.columns = ['queryID']+list(range(10))\n",
    "  y_true = pd.DataFrame(q)\n",
    "  y_true.columns = ['queryID','labelID']\n",
    "  y_true = y_true.sort_values(by=['queryID']).reset_index(drop=True)\n",
    "  y_pred = y_pred.sort_values(by=['queryID']).reset_index(drop=True)\n",
    "  return y_pred, y_true"
   ]
  },
  {
   "cell_type": "code",
   "execution_count": 21,
   "metadata": {
    "ExecuteTime": {
     "end_time": "2018-12-29T07:01:33.498014Z",
     "start_time": "2018-12-29T07:01:30.971651Z"
    }
   },
   "outputs": [],
   "source": [
    "y_pred, y_true = get_MRR_df(probs,test_queryID.values,test_labelID.values)"
   ]
  },
  {
   "cell_type": "code",
   "execution_count": 22,
   "metadata": {
    "ExecuteTime": {
     "end_time": "2018-12-29T07:01:33.503805Z",
     "start_time": "2018-12-29T07:01:33.499788Z"
    }
   },
   "outputs": [],
   "source": [
    "def MRR(sub,ref):\n",
    "  scores = []\n",
    "  for i in range(ref.shape[0]):\n",
    "    position = ref['labelID'][i]\n",
    "#     print(position)\n",
    "    rank = np.argsort(sub.iloc[i])[::-1].tolist().index(position)\n",
    "#     print(rank)\n",
    "    rank +=1\n",
    "    scores.append(1.0/rank)\n",
    "\n",
    "  score = np.mean(scores)\n",
    "  print(score)"
   ]
  },
  {
   "cell_type": "code",
   "execution_count": 23,
   "metadata": {
    "ExecuteTime": {
     "end_time": "2018-12-29T07:02:47.327795Z",
     "start_time": "2018-12-29T07:01:33.505523Z"
    }
   },
   "outputs": [
    {
     "name": "stdout",
     "output_type": "stream",
     "text": [
      "0.3564009179384623\n"
     ]
    }
   ],
   "source": [
    "MRR(y_pred,y_true)"
   ]
  },
  {
   "cell_type": "markdown",
   "metadata": {
    "colab_type": "text",
    "id": "hitA26tT_EoL"
   },
   "source": [
    "# Evaluation Code"
   ]
  },
  {
   "cell_type": "code",
   "execution_count": 125,
   "metadata": {
    "ExecuteTime": {
     "end_time": "2018-12-26T14:16:59.377249Z",
     "start_time": "2018-12-26T14:16:58.937677Z"
    }
   },
   "outputs": [],
   "source": [
    "d2 = pd.read_csv(\"All_TestFeatures.csv\",sep=',')\n",
    "\n",
    "x_test_actual = d2[features]"
   ]
  },
  {
   "cell_type": "code",
   "execution_count": 38,
   "metadata": {
    "ExecuteTime": {
     "end_time": "2018-12-26T06:08:52.891328Z",
     "start_time": "2018-12-26T06:08:52.887461Z"
    }
   },
   "outputs": [],
   "source": [
    "#X_test = x_test_actual.fillna(x_train.mean())\n",
    "#d2.head(20)"
   ]
  },
  {
   "cell_type": "code",
   "execution_count": 89,
   "metadata": {
    "ExecuteTime": {
     "end_time": "2018-12-26T13:43:05.363338Z",
     "start_time": "2018-12-26T13:43:01.636547Z"
    }
   },
   "outputs": [],
   "source": [
    "# '''\n",
    "# IF Neural Net Model\n",
    "\n",
    "# '''\n",
    "# probs = model.predict(x_test_actual).ravel()\n",
    "\n",
    "# p = []\n",
    "# for i in range(0,d2.shape[0],10):\n",
    "#     l = []\n",
    "#     v = probs[i:i+10]\n",
    "#     l.append(d2['qid'][i])\n",
    "#     l.extend(v)\n",
    "#     p.append(l)\n",
    "\n",
    "# result = pd.DataFrame(p)\n",
    "\n",
    "# result.to_csv(\"answer.tsv\",sep='\\t',header=None,index=False)"
   ]
  },
  {
   "cell_type": "code",
   "execution_count": 127,
   "metadata": {
    "ExecuteTime": {
     "end_time": "2018-12-26T14:17:13.393720Z",
     "start_time": "2018-12-26T14:17:11.682317Z"
    }
   },
   "outputs": [
    {
     "name": "stderr",
     "output_type": "stream",
     "text": [
      "[Parallel(n_jobs=1)]: Done   1 out of   1 | elapsed:    0.0s remaining:    0.0s\n",
      "[Parallel(n_jobs=1)]: Done   2 out of   2 | elapsed:    0.0s remaining:    0.0s\n",
      "[Parallel(n_jobs=1)]: Done 100 out of 100 | elapsed:    1.2s finished\n"
     ]
    }
   ],
   "source": [
    "'''\n",
    "IF Tree Model\n",
    "\n",
    "'''\n",
    "probs = RF.predict_proba(x_test_actual)[:,1]\n",
    "\n",
    "p = []\n",
    "for i in range(0,d2.shape[0],10):\n",
    "    l = []\n",
    "    v = probs[i:i+10].T\n",
    "    l.append(d2['qid'][i])\n",
    "    l.extend(v)\n",
    "    p.append(l)\n",
    "\n",
    "result = pd.DataFrame(p)\n",
    "\n",
    "result.to_csv(\"answer.tsv\",sep='\\t',header=None,index=False)"
   ]
  },
  {
   "cell_type": "code",
   "execution_count": 41,
   "metadata": {
    "ExecuteTime": {
     "end_time": "2018-12-26T06:10:02.284088Z",
     "start_time": "2018-12-26T06:10:02.274471Z"
    }
   },
   "outputs": [],
   "source": [
    "# x_test_actual.head(30)"
   ]
  },
  {
   "cell_type": "code",
   "execution_count": 42,
   "metadata": {
    "ExecuteTime": {
     "end_time": "2018-12-26T06:10:02.997468Z",
     "start_time": "2018-12-26T06:10:02.987885Z"
    }
   },
   "outputs": [],
   "source": [
    "# x_test_new = pd.concat([x_test_actual,  pd.DataFrame({'DSSM':0, 'CDSSM':0}, index=[0]), x_test_actual.loc[1:]], ignore_index=True).copy(deep=True)\n",
    "# x_test_new.head()"
   ]
  },
  {
   "cell_type": "code",
   "execution_count": null,
   "metadata": {},
   "outputs": [],
   "source": []
  }
 ],
 "metadata": {
  "colab": {
   "name": "Models codes.ipynb",
   "provenance": [],
   "version": "0.3.2"
  },
  "kernelspec": {
   "display_name": "Python 3",
   "language": "python",
   "name": "python3"
  },
  "language_info": {
   "codemirror_mode": {
    "name": "ipython",
    "version": 3
   },
   "file_extension": ".py",
   "mimetype": "text/x-python",
   "name": "python",
   "nbconvert_exporter": "python",
   "pygments_lexer": "ipython3",
   "version": "3.6.6"
  },
  "latex_envs": {
   "LaTeX_envs_menu_present": true,
   "autoclose": false,
   "autocomplete": true,
   "bibliofile": "biblio.bib",
   "cite_by": "apalike",
   "current_citInitial": 1,
   "eqLabelWithNumbers": true,
   "eqNumInitial": 1,
   "hotkeys": {
    "equation": "Ctrl-E",
    "itemize": "Ctrl-I"
   },
   "labels_anchors": false,
   "latex_user_defs": false,
   "report_style_numbering": false,
   "user_envs_cfg": false
  }
 },
 "nbformat": 4,
 "nbformat_minor": 1
}

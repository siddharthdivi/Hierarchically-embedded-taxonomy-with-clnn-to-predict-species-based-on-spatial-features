{
 "cells": [
  {
   "cell_type": "code",
   "execution_count": null,
   "metadata": {},
   "outputs": [],
   "source": [
    "#This code is for adaptive GPU usage\n",
    "import keras.backend as K\n",
    "cfg = K.tf.ConfigProto()\n",
    "cfg.gpu_options.allow_growth = True\n",
    "K.set_session(K.tf.Session(config=cfg))"
   ]
  },
  {
   "cell_type": "code",
   "execution_count": 3,
   "metadata": {
    "ExecuteTime": {
     "end_time": "2018-12-25T17:30:01.626595Z",
     "start_time": "2018-12-25T17:30:01.615033Z"
    }
   },
   "outputs": [],
   "source": [
    "import keras.layers as L\n",
    "import keras.models as M\n",
    "import tensorflow as tf\n",
    "from keras.utils import Sequence\n",
    "import pandas as pd\n",
    "import numpy as np"
   ]
  },
  {
   "cell_type": "code",
   "execution_count": 2,
   "metadata": {
    "ExecuteTime": {
     "end_time": "2018-12-25T17:14:29.554754Z",
     "start_time": "2018-12-25T17:14:29.528738Z"
    }
   },
   "outputs": [],
   "source": [
    "class Data(Sequence):\n",
    "    def __init__(self,q_name,r_name,l_name=None,batch_size=50):\n",
    "        self.r_batch_size = batch_size\n",
    "        self.q_batch_size = int(batch_size/10)\n",
    "        self.qdf = pd.read_csv(q_name,header=None,sep=',')\n",
    "        self.rdf = pd.read_csv(r_name,header=None,sep=',')\n",
    "        self.labels = pd.read_csv(l_name,header=None,sep=',')\n",
    "        \n",
    "    def __len__(self):\n",
    "        return int(np.ceil(len(self.rdf) / float(self.batch_size)))\n",
    "    \n",
    "    def __getitem__(self, idx):\n",
    "        batch_q = self.qdf[idx * self.q_batch_size:(idx + 1) * self.q_batch_size]\n",
    "        batch_r = self.rdf[idx * self.r_batch_size:(idx + 1) * self.r_batch_size]\n",
    "        batch_y = self.labels[idx * self.r_batch_size:(idx + 1) * self.r_batch_size]\n",
    "        ratio = self.r_batch_size / self.q_batch_size\n",
    "        batch_q = np.array([np.array([q]*ratio) for q in batch_q])\n",
    "        \n",
    "        return [batch_q, batch_r],batch_y"
   ]
  },
  {
   "cell_type": "code",
   "execution_count": null,
   "metadata": {},
   "outputs": [],
   "source": [
    "train_seq = Data(\"Query_embeddings.csv\",\"Train_resp_embeddings.csv\",\"Train_labels.csv\",50)\n",
    "test_seq = Data(\"Query_test_embeddings.csv\",\"Test_resp_embeddings.csv\")"
   ]
  },
  {
   "cell_type": "code",
   "execution_count": 17,
   "metadata": {
    "ExecuteTime": {
     "end_time": "2018-12-25T19:44:10.834745Z",
     "start_time": "2018-12-25T19:44:10.793055Z"
    }
   },
   "outputs": [],
   "source": [
    "def model_create(q_inp_size, r_inp_size):\n",
    "    inp1 = tf.keras.layers.Input(shape=q_inp_size)\n",
    "    inp2 = tf.keras.layers.Input(shape=r_inp_size)\n",
    "    \n",
    "    f1 = tf.keras.layers.Add()([inp1,inp2])\n",
    "    f2 = tf.keras.layers.Dot(axes=1)([inp1,inp2])\n",
    "    f3 = tf.keras.layers.Multiply()([inp1,inp2])\n",
    "    f4 = tf.keras.layers.Subtract()([inp1,inp2])\n",
    "    \n",
    "    comb = tf.keras.layers.Concatenate()([inp1,inp2,f1,f2,f3,f4])\n",
    "    \n",
    "    x = tf.keras.layers.Dense(1024,activation='relu')(comb)\n",
    "    x = tf.keras.layers.Dense(512,activation='relu')(x)\n",
    "    x = tf.keras.layers.Dense(256,activation='relu')(x)\n",
    "    x = tf.keras.layers.Dense(128,activation='relu')(x)\n",
    "    out = tf.keras.layers.Dense(1,activation='sigmoid')(x)\n",
    "    \n",
    "    model = tf.keras.models.Model(inputs=[inp1,inp2],outputs=[out])\n",
    "    model.compile(optimizer=tf.train.AdamOptimizer(learning_rate=0.001),loss='binary_crossentropy',metrics=['accuracy'])\n",
    "    return model"
   ]
  },
  {
   "cell_type": "code",
   "execution_count": 18,
   "metadata": {
    "ExecuteTime": {
     "end_time": "2018-12-25T19:44:11.827318Z",
     "start_time": "2018-12-25T19:44:11.015152Z"
    }
   },
   "outputs": [
    {
     "name": "stdout",
     "output_type": "stream",
     "text": [
      "__________________________________________________________________________________________________\n",
      "Layer (type)                    Output Shape         Param #     Connected to                     \n",
      "==================================================================================================\n",
      "input_15 (InputLayer)           (None, 30)           0                                            \n",
      "__________________________________________________________________________________________________\n",
      "input_16 (InputLayer)           (None, 30)           0                                            \n",
      "__________________________________________________________________________________________________\n",
      "add_7 (Add)                     (None, 30)           0           input_15[0][0]                   \n",
      "                                                                 input_16[0][0]                   \n",
      "__________________________________________________________________________________________________\n",
      "dot_5 (Dot)                     (None, 1)            0           input_15[0][0]                   \n",
      "                                                                 input_16[0][0]                   \n",
      "__________________________________________________________________________________________________\n",
      "multiply (Multiply)             (None, 30)           0           input_15[0][0]                   \n",
      "                                                                 input_16[0][0]                   \n",
      "__________________________________________________________________________________________________\n",
      "subtract_3 (Subtract)           (None, 30)           0           input_15[0][0]                   \n",
      "                                                                 input_16[0][0]                   \n",
      "__________________________________________________________________________________________________\n",
      "concatenate_3 (Concatenate)     (None, 151)          0           input_15[0][0]                   \n",
      "                                                                 input_16[0][0]                   \n",
      "                                                                 add_7[0][0]                      \n",
      "                                                                 dot_5[0][0]                      \n",
      "                                                                 multiply[0][0]                   \n",
      "                                                                 subtract_3[0][0]                 \n",
      "__________________________________________________________________________________________________\n",
      "dense_13 (Dense)                (None, 1024)         155648      concatenate_3[0][0]              \n",
      "__________________________________________________________________________________________________\n",
      "dense_14 (Dense)                (None, 512)          524800      dense_13[0][0]                   \n",
      "__________________________________________________________________________________________________\n",
      "dense_15 (Dense)                (None, 256)          131328      dense_14[0][0]                   \n",
      "__________________________________________________________________________________________________\n",
      "dense_16 (Dense)                (None, 128)          32896       dense_15[0][0]                   \n",
      "__________________________________________________________________________________________________\n",
      "dense_17 (Dense)                (None, 1)            129         dense_16[0][0]                   \n",
      "==================================================================================================\n",
      "Total params: 844,801\n",
      "Trainable params: 844,801\n",
      "Non-trainable params: 0\n",
      "__________________________________________________________________________________________________\n"
     ]
    }
   ],
   "source": [
    "model = model_create((30,),(30,))\n",
    "model.summary()"
   ]
  },
  {
   "cell_type": "code",
   "execution_count": null,
   "metadata": {},
   "outputs": [],
   "source": [
    "model.fit_generator(train_seq,epochs=10,validation_data=test_seq)"
   ]
  }
 ],
 "metadata": {
  "kernelspec": {
   "display_name": "Python 3",
   "language": "python",
   "name": "python3"
  },
  "language_info": {
   "codemirror_mode": {
    "name": "ipython",
    "version": 3
   },
   "file_extension": ".py",
   "mimetype": "text/x-python",
   "name": "python",
   "nbconvert_exporter": "python",
   "pygments_lexer": "ipython3",
   "version": "3.6.6"
  }
 },
 "nbformat": 4,
 "nbformat_minor": 2
}

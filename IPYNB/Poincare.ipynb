{
 "cells": [
  {
   "cell_type": "code",
   "execution_count": 2,
   "metadata": {
    "ExecuteTime": {
     "end_time": "2018-05-23T08:59:02.504974Z",
     "start_time": "2018-05-23T08:59:02.432298Z"
    }
   },
   "outputs": [
    {
     "ename": "ImportError",
     "evalue": "cannot import name 'pplot'",
     "output_type": "error",
     "traceback": [
      "\u001b[0;31m---------------------------------------------------------------------------\u001b[0m",
      "\u001b[0;31mImportError\u001b[0m                               Traceback (most recent call last)",
      "\u001b[0;32m<ipython-input-2-df4379e864c6>\u001b[0m in \u001b[0;36m<module>\u001b[0;34m()\u001b[0m\n\u001b[1;32m      1\u001b[0m \u001b[0;32mimport\u001b[0m \u001b[0mrandom\u001b[0m\u001b[0;34m,\u001b[0m \u001b[0mnumpy\u001b[0m \u001b[0;32mas\u001b[0m \u001b[0mnp\u001b[0m\u001b[0;34m\u001b[0m\u001b[0m\n\u001b[1;32m      2\u001b[0m \u001b[0;32mimport\u001b[0m \u001b[0mtensorflow\u001b[0m \u001b[0;32mas\u001b[0m \u001b[0mtf\u001b[0m\u001b[0;34m\u001b[0m\u001b[0m\n\u001b[0;32m----> 3\u001b[0;31m \u001b[0;32mfrom\u001b[0m \u001b[0mutils\u001b[0m \u001b[0;32mimport\u001b[0m \u001b[0mpplot\u001b[0m\u001b[0;34m,\u001b[0m \u001b[0mPoincareBase\u001b[0m\u001b[0;34m\u001b[0m\u001b[0m\n\u001b[0m\u001b[1;32m      4\u001b[0m \u001b[0;34m\u001b[0m\u001b[0m\n\u001b[1;32m      5\u001b[0m \u001b[0;31m# caution! may not yield correct result.\u001b[0m\u001b[0;34m\u001b[0m\u001b[0;34m\u001b[0m\u001b[0m\n",
      "\u001b[0;31mImportError\u001b[0m: cannot import name 'pplot'"
     ]
    }
   ],
   "source": [
    "import random, numpy as np \n",
    "import tensorflow as tf\n",
    "from .utils import pplot, PoincareBase\n",
    "\n",
    "# caution! may not yield correct result.\n",
    "\n",
    "class PoincareTensor(PoincareBase):\n",
    "\teps = 1e-6\n",
    "\tdef __init__(self,num_iter=10,num_negs=10,lr1=0.2,lr2=0.001,dp='data/mammal_subtree.tsv'): # dim=2\n",
    "\t\tsuper(PoincareTensor,self).__init__(num_iter,num_negs,lr1,lr2,dp)\n",
    "\tdef proj(self,x):\n",
    "\t\treturn tf.clip_by_norm(x,1.-self.eps,axes=1)\n",
    "\tdef dists(self,u,v):\n",
    "\t\tuu, uv, vv = tf.norm(u)**2, tf.matmul(u,tf.transpose(v)), tf.norm(v)**2\n",
    "\t\talpha, beta = tf.maximum(1-uu,self.eps), tf.maximum(1-vv,self.eps)\n",
    "\t\tgamma = tf.maximum(1+2*(uu+vv-2*uv)/alpha/beta,1+self.eps)\n",
    "\t\treturn tf.acosh(gamma)\n",
    "\tdef train(self): # LEFT SAMPLING\n",
    "\t\tld = len(self.pdata); lp = list(range(len(self.pdict)))\n",
    "\t\tgraph = tf.Graph()\n",
    "\t\twith graph.as_default():\n",
    "\t\t\tstep = tf.Variable(0,trainable=False)\n",
    "\t\t\tpembs = tf.Variable(tf.random_uniform([len(self.pdict),self.dim],minval=-0.001,maxval=0.001))\n",
    "\t\t\tn1 = tf.placeholder(tf.int32,shape=(1,),name='n1')\n",
    "\t\t\tn2 = tf.placeholder(tf.int32,shape=(1,),name='n2')\n",
    "\t\t\tsp = tf.placeholder(tf.int32,shape=(self.num_negs,),name='sp')\n",
    "\t\t\tu,v,negs = [tf.nn.embedding_lookup(pembs,x) for x in [n1,n2,sp]]\n",
    "\t\t\tloss = -tf.log(tf.exp(-self.dists(u,v))/tf.reduce_sum(tf.exp(-self.dists(u,negs))))\n",
    "\t\t\tlearning_rate = tf.train.polynomial_decay(self.lr1,step,self.num_iter*ld,self.lr2)\n",
    "\t\t\toptimizer = tf.train.GradientDescentOptimizer(learning_rate)\n",
    "\t\t\tgrad_vars = optimizer.compute_gradients(loss)\n",
    "\t\t\trescaled = [(g*(1.-tf.reshape(tf.norm(v,axis=1),(-1,1))**2)**2/4.,v) for g,v in grad_vars]\n",
    "\t\t\ttrainstep = optimizer.apply_gradients(rescaled,global_step=step); pembs = self.proj(pembs)\n",
    "\t\t\tinit = tf.global_variables_initializer()\n",
    "\t\twith tf.Session(graph=graph) as session:\n",
    "\t\t\tinit.run()\n",
    "\t\t\tfor epoch in range(self.num_iter):\n",
    "\t\t\t\tprint(epoch); random.shuffle(self.pdata)\n",
    "\t\t\t\tfor w1,w2 in self.pdata:\n",
    "\t\t\t\t\ti1,i2 = self.pdict[w1], self.pdict[w2]\n",
    "\t\t\t\t\t_,self.pembs = session.run([trainstep,pembs],feed_dict=\\\n",
    "\t\t\t\t\t{n1:[i1],n2:[i2],sp:[random.choice(lp) for _ in range(self.num_negs)]})\n",
    "\t\tpplot(self.pdict,self.pembs,'mammal_tensor')\n",
    "\n",
    "if __name__ == '__main__':\n",
    "\tPoincareTensor(num_iter=100).train()"
   ]
  },
  {
   "cell_type": "code",
   "execution_count": null,
   "metadata": {},
   "outputs": [],
   "source": []
  }
 ],
 "metadata": {
  "kernelspec": {
   "display_name": "Python 3",
   "language": "python",
   "name": "python3"
  },
  "language_info": {
   "codemirror_mode": {
    "name": "ipython",
    "version": 3
   },
   "file_extension": ".py",
   "mimetype": "text/x-python",
   "name": "python",
   "nbconvert_exporter": "python",
   "pygments_lexer": "ipython3",
   "version": "3.5.2"
  }
 },
 "nbformat": 4,
 "nbformat_minor": 2
}

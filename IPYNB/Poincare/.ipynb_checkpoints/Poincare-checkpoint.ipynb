{
 "cells": [
  {
   "cell_type": "code",
   "execution_count": 2,
   "metadata": {
    "ExecuteTime": {
     "end_time": "2018-05-23T09:01:17.915947Z",
     "start_time": "2018-05-23T09:01:14.835053Z"
    }
   },
   "outputs": [
    {
     "name": "stderr",
     "output_type": "stream",
     "text": [
      "/usr/local/lib/python3.5/dist-packages/h5py/__init__.py:36: FutureWarning: Conversion of the second argument of issubdtype from `float` to `np.floating` is deprecated. In future, it will be treated as `np.float64 == np.dtype(float).type`.\n",
      "  from ._conv import register_converters as _register_converters\n"
     ]
    },
    {
     "ename": "NameError",
     "evalue": "name 'reduce' is not defined",
     "output_type": "error",
     "traceback": [
      "\u001b[0;31m---------------------------------------------------------------------------\u001b[0m",
      "\u001b[0;31mNameError\u001b[0m                                 Traceback (most recent call last)",
      "\u001b[0;32m<ipython-input-2-840c103bc436>\u001b[0m in \u001b[0;36m<module>\u001b[0;34m()\u001b[0m\n\u001b[1;32m     72\u001b[0m \u001b[0;34m\u001b[0m\u001b[0m\n\u001b[1;32m     73\u001b[0m \u001b[0;32mif\u001b[0m \u001b[0m__name__\u001b[0m \u001b[0;34m==\u001b[0m \u001b[0;34m'__main__'\u001b[0m\u001b[0;34m:\u001b[0m\u001b[0;34m\u001b[0m\u001b[0m\n\u001b[0;32m---> 74\u001b[0;31m     \u001b[0mPoincareTensor\u001b[0m\u001b[0;34m(\u001b[0m\u001b[0mnum_iter\u001b[0m\u001b[0;34m=\u001b[0m\u001b[0;36m100\u001b[0m\u001b[0;34m)\u001b[0m\u001b[0;34m.\u001b[0m\u001b[0mtrain\u001b[0m\u001b[0;34m(\u001b[0m\u001b[0;34m)\u001b[0m\u001b[0;34m\u001b[0m\u001b[0m\n\u001b[0m",
      "\u001b[0;32m<ipython-input-2-840c103bc436>\u001b[0m in \u001b[0;36m__init__\u001b[0;34m(self, num_iter, num_negs, lr1, lr2, dp)\u001b[0m\n\u001b[1;32m     17\u001b[0m                  \u001b[0mlr2\u001b[0m\u001b[0;34m=\u001b[0m\u001b[0;36m0.001\u001b[0m\u001b[0;34m,\u001b[0m\u001b[0;34m\u001b[0m\u001b[0m\n\u001b[1;32m     18\u001b[0m                  dp='data/mammal_subtree.tsv'):  # dim=2\n\u001b[0;32m---> 19\u001b[0;31m         \u001b[0msuper\u001b[0m\u001b[0;34m(\u001b[0m\u001b[0mPoincareTensor\u001b[0m\u001b[0;34m,\u001b[0m \u001b[0mself\u001b[0m\u001b[0;34m)\u001b[0m\u001b[0;34m.\u001b[0m\u001b[0m__init__\u001b[0m\u001b[0;34m(\u001b[0m\u001b[0mnum_iter\u001b[0m\u001b[0;34m,\u001b[0m \u001b[0mnum_negs\u001b[0m\u001b[0;34m,\u001b[0m \u001b[0mlr1\u001b[0m\u001b[0;34m,\u001b[0m \u001b[0mlr2\u001b[0m\u001b[0;34m,\u001b[0m \u001b[0mdp\u001b[0m\u001b[0;34m)\u001b[0m\u001b[0;34m\u001b[0m\u001b[0m\n\u001b[0m\u001b[1;32m     20\u001b[0m \u001b[0;34m\u001b[0m\u001b[0m\n\u001b[1;32m     21\u001b[0m     \u001b[0;32mdef\u001b[0m \u001b[0mproj\u001b[0m\u001b[0;34m(\u001b[0m\u001b[0mself\u001b[0m\u001b[0;34m,\u001b[0m \u001b[0mx\u001b[0m\u001b[0;34m)\u001b[0m\u001b[0;34m:\u001b[0m\u001b[0;34m\u001b[0m\u001b[0m\n",
      "\u001b[0;32m/media/cern/QAPHY/Studies/GeoCLEF_2018/Code/IPYNB/Poincare/utils.py\u001b[0m in \u001b[0;36m__init__\u001b[0;34m(self, num_iter, num_negs, lr1, lr2, dp)\u001b[0m\n\u001b[1;32m     38\u001b[0m                 \u001b[0mself\u001b[0m\u001b[0;34m.\u001b[0m\u001b[0mlr1\u001b[0m\u001b[0;34m,\u001b[0m \u001b[0mself\u001b[0m\u001b[0;34m.\u001b[0m\u001b[0mlr2\u001b[0m \u001b[0;34m=\u001b[0m \u001b[0mlr1\u001b[0m\u001b[0;34m,\u001b[0m \u001b[0mlr2\u001b[0m\u001b[0;34m\u001b[0m\u001b[0m\n\u001b[1;32m     39\u001b[0m                 \u001b[0mself\u001b[0m\u001b[0;34m.\u001b[0m\u001b[0mpdata\u001b[0m \u001b[0;34m=\u001b[0m \u001b[0mmap\u001b[0m\u001b[0;34m(\u001b[0m\u001b[0;32mlambda\u001b[0m \u001b[0ml\u001b[0m\u001b[0;34m:\u001b[0m\u001b[0ml\u001b[0m\u001b[0;34m.\u001b[0m\u001b[0msplit\u001b[0m\u001b[0;34m(\u001b[0m\u001b[0;34m'\\t'\u001b[0m\u001b[0;34m)\u001b[0m\u001b[0;34m,\u001b[0m\u001b[0mfilter\u001b[0m\u001b[0;34m(\u001b[0m\u001b[0;32mNone\u001b[0m\u001b[0;34m,\u001b[0m\u001b[0mopen\u001b[0m\u001b[0;34m(\u001b[0m\u001b[0mdp\u001b[0m\u001b[0;34m)\u001b[0m\u001b[0;34m.\u001b[0m\u001b[0mread\u001b[0m\u001b[0;34m(\u001b[0m\u001b[0;34m)\u001b[0m\u001b[0;34m.\u001b[0m\u001b[0msplit\u001b[0m\u001b[0;34m(\u001b[0m\u001b[0;34m'\\n'\u001b[0m\u001b[0;34m)\u001b[0m\u001b[0;34m)\u001b[0m\u001b[0;34m)\u001b[0m\u001b[0;34m\u001b[0m\u001b[0m\n\u001b[0;32m---> 40\u001b[0;31m                 \u001b[0mself\u001b[0m\u001b[0;34m.\u001b[0m\u001b[0mpdict\u001b[0m \u001b[0;34m=\u001b[0m \u001b[0;34m{\u001b[0m\u001b[0mw\u001b[0m\u001b[0;34m:\u001b[0m\u001b[0mi\u001b[0m \u001b[0;32mfor\u001b[0m \u001b[0mi\u001b[0m\u001b[0;34m,\u001b[0m\u001b[0mw\u001b[0m \u001b[0;32min\u001b[0m \u001b[0menumerate\u001b[0m\u001b[0;34m(\u001b[0m\u001b[0mset\u001b[0m\u001b[0;34m(\u001b[0m\u001b[0mreduce\u001b[0m\u001b[0;34m(\u001b[0m\u001b[0moperator\u001b[0m\u001b[0;34m.\u001b[0m\u001b[0madd\u001b[0m\u001b[0;34m,\u001b[0m\u001b[0mself\u001b[0m\u001b[0;34m.\u001b[0m\u001b[0mpdata\u001b[0m\u001b[0;34m)\u001b[0m\u001b[0;34m)\u001b[0m\u001b[0;34m)\u001b[0m\u001b[0;34m}\u001b[0m\u001b[0;34m\u001b[0m\u001b[0m\n\u001b[0m\u001b[1;32m     41\u001b[0m         \u001b[0;32mdef\u001b[0m \u001b[0mdists\u001b[0m\u001b[0;34m(\u001b[0m\u001b[0mself\u001b[0m\u001b[0;34m,\u001b[0m\u001b[0mu\u001b[0m\u001b[0;34m,\u001b[0m\u001b[0mv\u001b[0m\u001b[0;34m)\u001b[0m\u001b[0;34m:\u001b[0m \u001b[0;32mpass\u001b[0m\u001b[0;34m\u001b[0m\u001b[0m\n\u001b[1;32m     42\u001b[0m         \u001b[0;32mdef\u001b[0m \u001b[0mtrain\u001b[0m\u001b[0;34m(\u001b[0m\u001b[0mself\u001b[0m\u001b[0;34m)\u001b[0m\u001b[0;34m:\u001b[0m \u001b[0;32mpass\u001b[0m\u001b[0;34m\u001b[0m\u001b[0m\n",
      "\u001b[0;31mNameError\u001b[0m: name 'reduce' is not defined"
     ]
    }
   ],
   "source": [
    "# -*- coding: utf-8 -*-\n",
    "\n",
    "import random\n",
    "import numpy as np\n",
    "import tensorflow as tf\n",
    "from utils import pplot, PoincareBase\n",
    "\n",
    "# caution! may not yield correct result.\n",
    "\n",
    "\n",
    "class PoincareTensor(PoincareBase):\n",
    "    eps = 1e-6\n",
    "\n",
    "    def __init__(self,\n",
    "                 num_iter=10,\n",
    "                 num_negs=10,\n",
    "                 lr1=0.2,\n",
    "                 lr2=0.001,\n",
    "                 dp='data/mammal_subtree.tsv'):  # dim=2\n",
    "        super(PoincareTensor, self).__init__(num_iter, num_negs, lr1, lr2, dp)\n",
    "\n",
    "    def proj(self, x):\n",
    "        return tf.clip_by_norm(x, 1. - self.eps, axes=1)\n",
    "\n",
    "    def dists(self, u, v):\n",
    "        uu, uv, vv = tf.norm(u)**2, tf.matmul(u,\n",
    "                                              tf.transpose(v)), tf.norm(v)**2\n",
    "        alpha, beta = tf.maximum(1 - uu, self.eps), tf.maximum(\n",
    "            1 - vv, self.eps)\n",
    "        gamma = tf.maximum(1 + 2 * (uu + vv - 2 * uv) / alpha / beta,\n",
    "                           1 + self.eps)\n",
    "        return tf.acosh(gamma)\n",
    "\n",
    "    def train(self):  # LEFT SAMPLING\n",
    "        ld = len(self.pdata)\n",
    "        lp = list(range(len(self.pdict)))\n",
    "        graph = tf.Graph()\n",
    "        with graph.as_default():\n",
    "            step = tf.Variable(0, trainable=False)\n",
    "            pembs = tf.Variable(\n",
    "                tf.random_uniform(\n",
    "                    [len(self.pdict), self.dim], minval=-0.001, maxval=0.001))\n",
    "            n1 = tf.placeholder(tf.int32, shape=(1, ), name='n1')\n",
    "            n2 = tf.placeholder(tf.int32, shape=(1, ), name='n2')\n",
    "            sp = tf.placeholder(tf.int32, shape=(self.num_negs, ), name='sp')\n",
    "            u, v, negs = [\n",
    "                tf.nn.embedding_lookup(pembs, x) for x in [n1, n2, sp]\n",
    "            ]\n",
    "            loss = -tf.log(\n",
    "                tf.exp(-self.dists(u, v)) / tf.reduce_sum(\n",
    "                    tf.exp(-self.dists(u, negs))))\n",
    "            learning_rate = tf.train.polynomial_decay(\n",
    "                self.lr1, step, self.num_iter * ld, self.lr2)\n",
    "            optimizer = tf.train.GradientDescentOptimizer(learning_rate)\n",
    "            grad_vars = optimizer.compute_gradients(loss)\n",
    "            rescaled = [(g * (1. - tf.reshape(tf.norm(v, axis=1),\n",
    "                                              (-1, 1))**2)**2 / 4., v)\n",
    "                        for g, v in grad_vars]\n",
    "            trainstep = optimizer.apply_gradients(\n",
    "                rescaled, global_step=step)\n",
    "            pembs = self.proj(pembs)\n",
    "            init = tf.global_variables_initializer()\n",
    "        with tf.Session(graph=graph) as session:\n",
    "            init.run()\n",
    "            for epoch in range(self.num_iter):\n",
    "                print(epoch)\n",
    "                random.shuffle(self.pdata)\n",
    "                for w1, w2 in self.pdata:\n",
    "                    i1, i2 = self.pdict[w1], self.pdict[w2]\n",
    "                    _, self.pembs = session.run([trainstep, pembs], feed_dict={n1: [i1], n2: [\n",
    "                                                i2], sp: [random.choice(lp) for _ in range(self.num_negs)]})\n",
    "        pplot(self.pdict, self.pembs, 'mammal_tensor')\n",
    "\n",
    "\n",
    "if __name__ == '__main__':\n",
    "    PoincareTensor(num_iter=100).train()"
   ]
  },
  {
   "cell_type": "code",
   "execution_count": 3,
   "metadata": {
    "ExecuteTime": {
     "end_time": "2018-05-23T09:04:14.423101Z",
     "start_time": "2018-05-23T09:04:14.415625Z"
    }
   },
   "outputs": [],
   "source": [
    "import operator"
   ]
  }
 ],
 "metadata": {
  "kernelspec": {
   "display_name": "Python 3",
   "language": "python",
   "name": "python3"
  },
  "language_info": {
   "codemirror_mode": {
    "name": "ipython",
    "version": 3
   },
   "file_extension": ".py",
   "mimetype": "text/x-python",
   "name": "python",
   "nbconvert_exporter": "python",
   "pygments_lexer": "ipython3",
   "version": "3.5.2"
  }
 },
 "nbformat": 4,
 "nbformat_minor": 2
}

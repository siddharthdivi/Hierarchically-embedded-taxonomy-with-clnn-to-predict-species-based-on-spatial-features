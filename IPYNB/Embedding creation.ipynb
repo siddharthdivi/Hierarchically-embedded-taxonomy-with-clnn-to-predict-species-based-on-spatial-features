{
 "cells": [
  {
   "cell_type": "code",
   "execution_count": 1,
   "metadata": {
    "ExecuteTime": {
     "end_time": "2018-05-22T05:26:59.039349Z",
     "start_time": "2018-05-22T05:26:57.658196Z"
    }
   },
   "outputs": [
    {
     "name": "stderr",
     "output_type": "stream",
     "text": [
      "Using TensorFlow backend.\n"
     ]
    }
   ],
   "source": [
    "import warnings\n",
    "warnings.filterwarnings(\"ignore\")\n",
    "\n",
    "import os\n",
    "import math\n",
    "import numpy as np\n",
    "import pandas as pd\n",
    "import pickle as pkl\n",
    "import tifffile as tif\n",
    "\n",
    "import keras.layers as layers\n",
    "import keras.models as models\n",
    "from keras.utils import Sequence"
   ]
  },
  {
   "cell_type": "markdown",
   "metadata": {},
   "source": [
    "## Data preprocess"
   ]
  },
  {
   "cell_type": "code",
   "execution_count": null,
   "metadata": {},
   "outputs": [],
   "source": [
    "class DataPreprocess:\n",
    "    \n",
    "    def __init__(self, data_dir, csv_file):\n",
    "        \n",
    "        self.path = data_dir\n",
    "        self.df = pd.read_csv(csv_file, low_memory=False)\n",
    "    \n",
    "    def creating_mapping(self):\n",
    "        self.classes = list(sorted(self.df['class'].unique()))\n",
    "        self.orders = list(sorted(self.df['order'].unique()))\n",
    "        self.families = list(sorted(self.df['family'].unique()))\n",
    "        self.genuses = list(sorted(self.df['genus'].unique()))\n",
    "        self.species = list(sorted(self.df['species_glc_id'].unique()))\n",
    "        all_names = self.classes + self.orders + self.families + self.genuses + self.species\n",
    "        all_encoded = {}\n",
    "        for i, val in enumerate(all_names):\n",
    "            all_encoded[str(val)] = int(i)\n",
    "    \n",
    "    def load_data(self):\n",
    "        \n",
    "        for cls in self.classes:\n",
    "            for ord in self.orders:\n",
    "                for fam in self.families:\n",
    "                    for gen in self.genuses:\n",
    "                        for spc in self.species:\n",
    "                            "
   ]
  }
 ],
 "metadata": {
  "kernelspec": {
   "display_name": "Python 3",
   "language": "python",
   "name": "python3"
  },
  "language_info": {
   "codemirror_mode": {
    "name": "ipython",
    "version": 3
   },
   "file_extension": ".py",
   "mimetype": "text/x-python",
   "name": "python",
   "nbconvert_exporter": "python",
   "pygments_lexer": "ipython3",
   "version": "3.5.2"
  }
 },
 "nbformat": 4,
 "nbformat_minor": 2
}

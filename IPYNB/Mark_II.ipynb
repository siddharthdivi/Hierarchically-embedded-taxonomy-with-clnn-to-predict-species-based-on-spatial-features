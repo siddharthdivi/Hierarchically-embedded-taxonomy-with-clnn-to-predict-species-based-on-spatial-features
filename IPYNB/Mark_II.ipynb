{
 "cells": [
  {
   "cell_type": "markdown",
   "metadata": {
    "colab_type": "text",
    "id": "V97eQYEAnOl_"
   },
   "source": [
    "## Libraries"
   ]
  },
  {
   "cell_type": "code",
   "execution_count": null,
   "metadata": {},
   "outputs": [],
   "source": [
    "#This code is for adaptive GPU usage\n",
    "import keras.backend as K\n",
    "cfg = K.tf.ConfigProto()\n",
    "cfg.gpu_options.allow_growth = True\n",
    "K.set_session(K.tf.Session(config=cfg))"
   ]
  },
  {
   "cell_type": "code",
   "execution_count": 1,
   "metadata": {
    "ExecuteTime": {
     "end_time": "2018-12-21T17:07:45.467206Z",
     "start_time": "2018-12-21T17:02:47.400808Z"
    },
    "colab": {
     "base_uri": "https://localhost:8080/",
     "height": 3855
    },
    "colab_type": "code",
    "id": "f_nFYDVYnAXK",
    "outputId": "b197cb05-5a0b-4308-c5db-84e25f9a1a53"
   },
   "outputs": [
    {
     "name": "stdout",
     "output_type": "stream",
     "text": [
      "NLTK Downloader\n",
      "---------------------------------------------------------------------------\n",
      "    d) Download   l) List    u) Update   c) Config   h) Help   q) Quit\n",
      "---------------------------------------------------------------------------\n",
      "Downloader> d\n",
      "\n",
      "Download which package (l=list; x=cancel)?\n",
      "  Identifier> all\n",
      "    Downloading collection 'all'\n",
      "       | \n",
      "       | Downloading package abc to /mnt/home/divi/nltk_data...\n",
      "       |   Unzipping corpora/abc.zip.\n",
      "       | Downloading package alpino to /mnt/home/divi/nltk_data...\n",
      "       |   Unzipping corpora/alpino.zip.\n",
      "       | Downloading package biocreative_ppi to\n",
      "       |     /mnt/home/divi/nltk_data...\n",
      "       |   Unzipping corpora/biocreative_ppi.zip.\n",
      "       | Downloading package brown to /mnt/home/divi/nltk_data...\n",
      "       |   Unzipping corpora/brown.zip.\n",
      "       | Downloading package brown_tei to /mnt/home/divi/nltk_data...\n",
      "       |   Unzipping corpora/brown_tei.zip.\n",
      "       | Downloading package cess_cat to /mnt/home/divi/nltk_data...\n",
      "       |   Unzipping corpora/cess_cat.zip.\n",
      "       | Downloading package cess_esp to /mnt/home/divi/nltk_data...\n",
      "       |   Unzipping corpora/cess_esp.zip.\n",
      "       | Downloading package chat80 to /mnt/home/divi/nltk_data...\n",
      "       |   Unzipping corpora/chat80.zip.\n",
      "       | Downloading package city_database to\n",
      "       |     /mnt/home/divi/nltk_data...\n",
      "       |   Unzipping corpora/city_database.zip.\n",
      "       | Downloading package cmudict to /mnt/home/divi/nltk_data...\n",
      "       |   Unzipping corpora/cmudict.zip.\n",
      "       | Downloading package comparative_sentences to\n",
      "       |     /mnt/home/divi/nltk_data...\n",
      "       |   Unzipping corpora/comparative_sentences.zip.\n",
      "       | Downloading package comtrans to /mnt/home/divi/nltk_data...\n",
      "       | Downloading package conll2000 to /mnt/home/divi/nltk_data...\n",
      "       |   Unzipping corpora/conll2000.zip.\n",
      "       | Downloading package conll2002 to /mnt/home/divi/nltk_data...\n",
      "       |   Unzipping corpora/conll2002.zip.\n",
      "       | Downloading package conll2007 to /mnt/home/divi/nltk_data...\n",
      "       | Downloading package crubadan to /mnt/home/divi/nltk_data...\n",
      "       |   Unzipping corpora/crubadan.zip.\n",
      "       | Downloading package dependency_treebank to\n",
      "       |     /mnt/home/divi/nltk_data...\n",
      "       |   Unzipping corpora/dependency_treebank.zip.\n",
      "       | Downloading package dolch to /mnt/home/divi/nltk_data...\n",
      "       |   Unzipping corpora/dolch.zip.\n",
      "       | Downloading package europarl_raw to\n",
      "       |     /mnt/home/divi/nltk_data...\n",
      "       |   Unzipping corpora/europarl_raw.zip.\n",
      "       | Downloading package floresta to /mnt/home/divi/nltk_data...\n",
      "       |   Unzipping corpora/floresta.zip.\n",
      "       | Downloading package framenet_v15 to\n",
      "       |     /mnt/home/divi/nltk_data...\n",
      "       |   Unzipping corpora/framenet_v15.zip.\n",
      "       | Downloading package framenet_v17 to\n",
      "       |     /mnt/home/divi/nltk_data...\n",
      "       |   Unzipping corpora/framenet_v17.zip.\n",
      "       | Downloading package gazetteers to /mnt/home/divi/nltk_data...\n",
      "       |   Unzipping corpora/gazetteers.zip.\n",
      "       | Downloading package genesis to /mnt/home/divi/nltk_data...\n",
      "       |   Unzipping corpora/genesis.zip.\n",
      "       | Downloading package gutenberg to /mnt/home/divi/nltk_data...\n",
      "       |   Unzipping corpora/gutenberg.zip.\n",
      "       | Downloading package ieer to /mnt/home/divi/nltk_data...\n",
      "       |   Unzipping corpora/ieer.zip.\n",
      "       | Downloading package inaugural to /mnt/home/divi/nltk_data...\n",
      "       |   Unzipping corpora/inaugural.zip.\n",
      "       | Downloading package indian to /mnt/home/divi/nltk_data...\n",
      "       |   Unzipping corpora/indian.zip.\n",
      "       | Downloading package jeita to /mnt/home/divi/nltk_data...\n",
      "       | Downloading package kimmo to /mnt/home/divi/nltk_data...\n",
      "       |   Unzipping corpora/kimmo.zip.\n",
      "       | Downloading package knbc to /mnt/home/divi/nltk_data...\n",
      "       | Downloading package lin_thesaurus to\n",
      "       |     /mnt/home/divi/nltk_data...\n",
      "       |   Unzipping corpora/lin_thesaurus.zip.\n",
      "       | Downloading package mac_morpho to /mnt/home/divi/nltk_data...\n",
      "       |   Unzipping corpora/mac_morpho.zip.\n",
      "       | Downloading package machado to /mnt/home/divi/nltk_data...\n",
      "       | Downloading package masc_tagged to\n",
      "       |     /mnt/home/divi/nltk_data...\n",
      "       | Downloading package moses_sample to\n",
      "       |     /mnt/home/divi/nltk_data...\n",
      "       |   Unzipping models/moses_sample.zip.\n",
      "       | Downloading package movie_reviews to\n",
      "       |     /mnt/home/divi/nltk_data...\n",
      "       |   Unzipping corpora/movie_reviews.zip.\n",
      "       | Downloading package names to /mnt/home/divi/nltk_data...\n",
      "       |   Unzipping corpora/names.zip.\n",
      "       | Downloading package nombank.1.0 to\n",
      "       |     /mnt/home/divi/nltk_data...\n",
      "       | Downloading package nps_chat to /mnt/home/divi/nltk_data...\n",
      "       |   Unzipping corpora/nps_chat.zip.\n",
      "       | Downloading package omw to /mnt/home/divi/nltk_data...\n",
      "       |   Unzipping corpora/omw.zip.\n",
      "       | Downloading package opinion_lexicon to\n",
      "       |     /mnt/home/divi/nltk_data...\n",
      "       |   Unzipping corpora/opinion_lexicon.zip.\n",
      "       | Downloading package paradigms to /mnt/home/divi/nltk_data...\n",
      "       |   Unzipping corpora/paradigms.zip.\n",
      "       | Downloading package pil to /mnt/home/divi/nltk_data...\n",
      "       |   Unzipping corpora/pil.zip.\n",
      "       | Downloading package pl196x to /mnt/home/divi/nltk_data...\n",
      "       |   Unzipping corpora/pl196x.zip.\n",
      "       | Downloading package ppattach to /mnt/home/divi/nltk_data...\n",
      "       |   Unzipping corpora/ppattach.zip.\n",
      "       | Downloading package problem_reports to\n",
      "       |     /mnt/home/divi/nltk_data...\n",
      "       |   Unzipping corpora/problem_reports.zip.\n",
      "       | Downloading package propbank to /mnt/home/divi/nltk_data...\n",
      "       | Downloading package ptb to /mnt/home/divi/nltk_data...\n",
      "       |   Unzipping corpora/ptb.zip.\n",
      "       | Downloading package product_reviews_1 to\n",
      "       |     /mnt/home/divi/nltk_data...\n",
      "       |   Unzipping corpora/product_reviews_1.zip.\n",
      "       | Downloading package product_reviews_2 to\n",
      "       |     /mnt/home/divi/nltk_data...\n",
      "       |   Unzipping corpora/product_reviews_2.zip.\n",
      "       | Downloading package pros_cons to /mnt/home/divi/nltk_data...\n",
      "       |   Unzipping corpora/pros_cons.zip.\n",
      "       | Downloading package qc to /mnt/home/divi/nltk_data...\n",
      "       |   Unzipping corpora/qc.zip.\n",
      "       | Downloading package reuters to /mnt/home/divi/nltk_data...\n",
      "       | Downloading package rte to /mnt/home/divi/nltk_data...\n",
      "       |   Unzipping corpora/rte.zip.\n",
      "       | Downloading package semcor to /mnt/home/divi/nltk_data...\n",
      "       | Downloading package senseval to /mnt/home/divi/nltk_data...\n",
      "       |   Unzipping corpora/senseval.zip.\n",
      "       | Downloading package sentiwordnet to\n",
      "       |     /mnt/home/divi/nltk_data...\n",
      "       |   Unzipping corpora/sentiwordnet.zip.\n",
      "       | Downloading package sentence_polarity to\n",
      "       |     /mnt/home/divi/nltk_data...\n",
      "       |   Unzipping corpora/sentence_polarity.zip.\n",
      "       | Downloading package shakespeare to\n",
      "       |     /mnt/home/divi/nltk_data...\n",
      "       |   Unzipping corpora/shakespeare.zip.\n",
      "       | Downloading package sinica_treebank to\n",
      "       |     /mnt/home/divi/nltk_data...\n",
      "       |   Unzipping corpora/sinica_treebank.zip.\n",
      "       | Downloading package smultron to /mnt/home/divi/nltk_data...\n",
      "       |   Unzipping corpora/smultron.zip.\n",
      "       | Downloading package state_union to\n",
      "       |     /mnt/home/divi/nltk_data...\n",
      "       |   Unzipping corpora/state_union.zip.\n",
      "       | Downloading package stopwords to /mnt/home/divi/nltk_data...\n",
      "       |   Unzipping corpora/stopwords.zip.\n",
      "       | Downloading package subjectivity to\n",
      "       |     /mnt/home/divi/nltk_data...\n",
      "       |   Unzipping corpora/subjectivity.zip.\n",
      "       | Downloading package swadesh to /mnt/home/divi/nltk_data...\n",
      "       |   Unzipping corpora/swadesh.zip.\n",
      "       | Downloading package switchboard to\n",
      "       |     /mnt/home/divi/nltk_data...\n",
      "       |   Unzipping corpora/switchboard.zip.\n",
      "       | Downloading package timit to /mnt/home/divi/nltk_data...\n",
      "       |   Unzipping corpora/timit.zip.\n",
      "       | Downloading package toolbox to /mnt/home/divi/nltk_data...\n",
      "       |   Unzipping corpora/toolbox.zip.\n",
      "       | Downloading package treebank to /mnt/home/divi/nltk_data...\n",
      "       |   Unzipping corpora/treebank.zip.\n"
     ]
    },
    {
     "name": "stdout",
     "output_type": "stream",
     "text": [
      "       | Downloading package twitter_samples to\n",
      "       |     /mnt/home/divi/nltk_data...\n",
      "       |   Unzipping corpora/twitter_samples.zip.\n",
      "       | Downloading package udhr to /mnt/home/divi/nltk_data...\n",
      "       |   Unzipping corpora/udhr.zip.\n",
      "       | Downloading package udhr2 to /mnt/home/divi/nltk_data...\n",
      "       |   Unzipping corpora/udhr2.zip.\n",
      "       | Downloading package unicode_samples to\n",
      "       |     /mnt/home/divi/nltk_data...\n",
      "       |   Unzipping corpora/unicode_samples.zip.\n",
      "       | Downloading package universal_treebanks_v20 to\n",
      "       |     /mnt/home/divi/nltk_data...\n",
      "       | Downloading package verbnet to /mnt/home/divi/nltk_data...\n",
      "       |   Unzipping corpora/verbnet.zip.\n",
      "       | Downloading package verbnet3 to /mnt/home/divi/nltk_data...\n",
      "       |   Unzipping corpora/verbnet3.zip.\n",
      "       | Downloading package webtext to /mnt/home/divi/nltk_data...\n",
      "       |   Unzipping corpora/webtext.zip.\n",
      "       | Downloading package wordnet to /mnt/home/divi/nltk_data...\n",
      "       |   Unzipping corpora/wordnet.zip.\n",
      "       | Downloading package wordnet_ic to /mnt/home/divi/nltk_data...\n",
      "       |   Unzipping corpora/wordnet_ic.zip.\n",
      "       | Downloading package words to /mnt/home/divi/nltk_data...\n",
      "       |   Unzipping corpora/words.zip.\n",
      "       | Downloading package ycoe to /mnt/home/divi/nltk_data...\n",
      "       |   Unzipping corpora/ycoe.zip.\n",
      "       | Downloading package rslp to /mnt/home/divi/nltk_data...\n",
      "       |   Unzipping stemmers/rslp.zip.\n",
      "       | Downloading package maxent_treebank_pos_tagger to\n",
      "       |     /mnt/home/divi/nltk_data...\n",
      "       |   Unzipping taggers/maxent_treebank_pos_tagger.zip.\n",
      "       | Downloading package universal_tagset to\n",
      "       |     /mnt/home/divi/nltk_data...\n",
      "       |   Unzipping taggers/universal_tagset.zip.\n",
      "       | Downloading package maxent_ne_chunker to\n",
      "       |     /mnt/home/divi/nltk_data...\n",
      "       |   Unzipping chunkers/maxent_ne_chunker.zip.\n",
      "       | Downloading package punkt to /mnt/home/divi/nltk_data...\n",
      "       |   Package punkt is already up-to-date!\n",
      "       | Downloading package book_grammars to\n",
      "       |     /mnt/home/divi/nltk_data...\n",
      "       |   Unzipping grammars/book_grammars.zip.\n",
      "       | Downloading package sample_grammars to\n",
      "       |     /mnt/home/divi/nltk_data...\n",
      "       |   Unzipping grammars/sample_grammars.zip.\n",
      "       | Downloading package spanish_grammars to\n",
      "       |     /mnt/home/divi/nltk_data...\n",
      "       |   Unzipping grammars/spanish_grammars.zip.\n",
      "       | Downloading package basque_grammars to\n",
      "       |     /mnt/home/divi/nltk_data...\n",
      "       |   Unzipping grammars/basque_grammars.zip.\n",
      "       | Downloading package large_grammars to\n",
      "       |     /mnt/home/divi/nltk_data...\n",
      "       |   Unzipping grammars/large_grammars.zip.\n",
      "       | Downloading package tagsets to /mnt/home/divi/nltk_data...\n",
      "       |   Unzipping help/tagsets.zip.\n",
      "       | Downloading package snowball_data to\n",
      "       |     /mnt/home/divi/nltk_data...\n",
      "       | Downloading package bllip_wsj_no_aux to\n",
      "       |     /mnt/home/divi/nltk_data...\n",
      "       |   Unzipping models/bllip_wsj_no_aux.zip.\n",
      "       | Downloading package word2vec_sample to\n",
      "       |     /mnt/home/divi/nltk_data...\n",
      "       |   Unzipping models/word2vec_sample.zip.\n",
      "       | Downloading package panlex_swadesh to\n",
      "       |     /mnt/home/divi/nltk_data...\n",
      "       | Downloading package mte_teip5 to /mnt/home/divi/nltk_data...\n",
      "       |   Unzipping corpora/mte_teip5.zip.\n",
      "       | Downloading package averaged_perceptron_tagger to\n",
      "       |     /mnt/home/divi/nltk_data...\n",
      "       |   Unzipping taggers/averaged_perceptron_tagger.zip.\n",
      "       | Downloading package averaged_perceptron_tagger_ru to\n",
      "       |     /mnt/home/divi/nltk_data...\n",
      "       |   Unzipping taggers/averaged_perceptron_tagger_ru.zip.\n",
      "       | Downloading package perluniprops to\n",
      "       |     /mnt/home/divi/nltk_data...\n",
      "       |   Unzipping misc/perluniprops.zip.\n",
      "       | Downloading package nonbreaking_prefixes to\n",
      "       |     /mnt/home/divi/nltk_data...\n",
      "       |   Unzipping corpora/nonbreaking_prefixes.zip.\n",
      "       | Downloading package vader_lexicon to\n",
      "       |     /mnt/home/divi/nltk_data...\n",
      "       | Downloading package porter_test to\n",
      "       |     /mnt/home/divi/nltk_data...\n",
      "       |   Unzipping stemmers/porter_test.zip.\n",
      "       | Downloading package wmt15_eval to /mnt/home/divi/nltk_data...\n",
      "       |   Unzipping models/wmt15_eval.zip.\n",
      "       | Downloading package mwa_ppdb to /mnt/home/divi/nltk_data...\n",
      "       |   Unzipping misc/mwa_ppdb.zip.\n",
      "       | \n",
      "     Done downloading collection all\n",
      "\n",
      "---------------------------------------------------------------------------\n",
      "    d) Download   l) List    u) Update   c) Config   h) Help   q) Quit\n",
      "---------------------------------------------------------------------------\n",
      "Downloader> q\n"
     ]
    }
   ],
   "source": [
    "import os\n",
    "import tensorflow as tf\n",
    "import pickle\n",
    "import math\n",
    "import pandas as pd\n",
    "import numpy as np\n",
    "import zipfile\n",
    "from __future__ import division\n",
    "import nltk\n",
    "#nltk.download()\n",
    "from nltk.corpus import wordnet as wn\n",
    "from nltk.corpus import brown\n",
    "import math\n",
    "import numpy as np\n",
    "import sys"
   ]
  },
  {
   "cell_type": "code",
   "execution_count": 2,
   "metadata": {
    "ExecuteTime": {
     "end_time": "2018-12-21T17:07:45.479334Z",
     "start_time": "2018-12-21T17:07:45.470862Z"
    },
    "colab": {},
    "colab_type": "code",
    "id": "rKc66D2qrl_U"
   },
   "outputs": [],
   "source": [
    "from nltk.tokenize import sent_tokenize, word_tokenize\n",
    "from nltk.stem import WordNetLemmatizer\n",
    "from nltk.corpus import stopwords\n",
    "\n",
    "stop_words = set(stopwords.words('english'))\n",
    "\n",
    "lemmatizer = WordNetLemmatizer()"
   ]
  },
  {
   "cell_type": "code",
   "execution_count": 3,
   "metadata": {
    "ExecuteTime": {
     "end_time": "2018-12-21T17:07:51.413900Z",
     "start_time": "2018-12-21T17:07:51.409943Z"
    },
    "colab": {
     "base_uri": "https://localhost:8080/",
     "height": 124
    },
    "colab_type": "code",
    "id": "EpUReTYMnSN1",
    "outputId": "d2913104-8bd4-4517-beb8-07cf0fa8b9c4"
   },
   "outputs": [],
   "source": [
    "# drive.mount('/content/gdrive/')"
   ]
  },
  {
   "cell_type": "code",
   "execution_count": 4,
   "metadata": {
    "ExecuteTime": {
     "end_time": "2018-12-21T17:07:52.398380Z",
     "start_time": "2018-12-21T17:07:52.394422Z"
    },
    "colab": {
     "base_uri": "https://localhost:8080/",
     "height": 139
    },
    "colab_type": "code",
    "id": "eViqoqEHnYSP",
    "outputId": "04c5d516-25be-47be-ce2c-6a0a626d5170"
   },
   "outputs": [],
   "source": [
    "# !ls 'gdrive/My Drive/Microsoft AI'"
   ]
  },
  {
   "cell_type": "markdown",
   "metadata": {
    "colab_type": "text",
    "id": "yvc5-qwznp52"
   },
   "source": [
    "## Loading Data"
   ]
  },
  {
   "cell_type": "code",
   "execution_count": 13,
   "metadata": {
    "ExecuteTime": {
     "end_time": "2018-12-23T15:29:08.084384Z",
     "start_time": "2018-12-23T15:26:10.667018Z"
    },
    "colab": {
     "base_uri": "https://localhost:8080/",
     "height": 34
    },
    "colab_type": "code",
    "id": "F3Dua-VjniF0",
    "outputId": "45dbe96e-3ffd-4898-f94e-35e39fe017a9"
   },
   "outputs": [
    {
     "data": {
      "text/plain": [
       "False"
      ]
     },
     "execution_count": 13,
     "metadata": {},
     "output_type": "execute_result"
    }
   ],
   "source": [
    "archive = zipfile.ZipFile('data.zip', 'r')\n",
    "data = pd.read_csv(archive.open(\"data.tsv\"),delimiter='\\t',header=None)\n",
    "data.columns = ['queryID','query','response','label','labelID']\n",
    "data.isnull().values.any()"
   ]
  },
  {
   "cell_type": "code",
   "execution_count": 15,
   "metadata": {
    "ExecuteTime": {
     "end_time": "2018-12-23T15:29:51.325108Z",
     "start_time": "2018-12-23T15:29:51.315512Z"
    },
    "colab": {
     "base_uri": "https://localhost:8080/",
     "height": 34
    },
    "colab_type": "code",
    "id": "-Wa2s78mmb3i",
    "outputId": "66c77492-f085-4947-eb6c-33ee7f6766fa"
   },
   "outputs": [
    {
     "data": {
      "text/plain": [
       "5241880"
      ]
     },
     "execution_count": 15,
     "metadata": {},
     "output_type": "execute_result"
    }
   ],
   "source": [
    "len(data)"
   ]
  },
  {
   "cell_type": "code",
   "execution_count": 16,
   "metadata": {
    "ExecuteTime": {
     "end_time": "2018-12-23T15:31:28.574606Z",
     "start_time": "2018-12-23T15:30:35.626909Z"
    }
   },
   "outputs": [
    {
     "data": {
      "text/html": [
       "<div>\n",
       "<style scoped>\n",
       "    .dataframe tbody tr th:only-of-type {\n",
       "        vertical-align: middle;\n",
       "    }\n",
       "\n",
       "    .dataframe tbody tr th {\n",
       "        vertical-align: top;\n",
       "    }\n",
       "\n",
       "    .dataframe thead th {\n",
       "        text-align: right;\n",
       "    }\n",
       "</style>\n",
       "<table border=\"1\" class=\"dataframe\">\n",
       "  <thead>\n",
       "    <tr style=\"text-align: right;\">\n",
       "      <th></th>\n",
       "      <th>0</th>\n",
       "      <th>1</th>\n",
       "      <th>2</th>\n",
       "      <th>3</th>\n",
       "      <th>4</th>\n",
       "    </tr>\n",
       "  </thead>\n",
       "  <tbody>\n",
       "    <tr>\n",
       "      <th>0</th>\n",
       "      <td>131</td>\n",
       "      <td>. corporation ?</td>\n",
       "      <td>company incorporated specific nation , often w...</td>\n",
       "      <td>0</td>\n",
       "      <td>0</td>\n",
       "    </tr>\n",
       "    <tr>\n",
       "      <th>1</th>\n",
       "      <td>131</td>\n",
       "      <td>. corporation ?</td>\n",
       "      <td>today , growing community 2,100 certified b co...</td>\n",
       "      <td>0</td>\n",
       "      <td>1</td>\n",
       "    </tr>\n",
       "    <tr>\n",
       "      <th>2</th>\n",
       "      <td>131</td>\n",
       "      <td>. corporation ?</td>\n",
       "      <td>corporation definition , association individua...</td>\n",
       "      <td>0</td>\n",
       "      <td>2</td>\n",
       "    </tr>\n",
       "    <tr>\n",
       "      <th>3</th>\n",
       "      <td>131</td>\n",
       "      <td>. corporation ?</td>\n",
       "      <td>example corporation sentence . 1 work consulta...</td>\n",
       "      <td>0</td>\n",
       "      <td>3</td>\n",
       "    </tr>\n",
       "    <tr>\n",
       "      <th>4</th>\n",
       "      <td>131</td>\n",
       "      <td>. corporation ?</td>\n",
       "      <td>1 : government-owned corporation ( utility rai...</td>\n",
       "      <td>0</td>\n",
       "      <td>4</td>\n",
       "    </tr>\n",
       "  </tbody>\n",
       "</table>\n",
       "</div>"
      ],
      "text/plain": [
       "     0                1                                                  2  3  \\\n",
       "0  131  . corporation ?  company incorporated specific nation , often w...  0   \n",
       "1  131  . corporation ?  today , growing community 2,100 certified b co...  0   \n",
       "2  131  . corporation ?  corporation definition , association individua...  0   \n",
       "3  131  . corporation ?  example corporation sentence . 1 work consulta...  0   \n",
       "4  131  . corporation ?  1 : government-owned corporation ( utility rai...  0   \n",
       "\n",
       "   4  \n",
       "0  0  \n",
       "1  1  \n",
       "2  2  \n",
       "3  3  \n",
       "4  4  "
      ]
     },
     "execution_count": 16,
     "metadata": {},
     "output_type": "execute_result"
    }
   ],
   "source": [
    "# sample = data.iloc[:500].copy(deep = True)\n",
    "# sample.to_csv('gdrive/My Drive/Microsoft AI/Sample_Raw_Data.csv',index=False)\n",
    "sample = pd.read_csv('Clean_data_latest.csv')\n",
    "sample.head()"
   ]
  },
  {
   "cell_type": "code",
   "execution_count": 17,
   "metadata": {
    "ExecuteTime": {
     "end_time": "2018-12-23T15:31:50.252472Z",
     "start_time": "2018-12-23T15:31:50.242571Z"
    }
   },
   "outputs": [
    {
     "data": {
      "text/plain": [
       "5241830"
      ]
     },
     "execution_count": 17,
     "metadata": {},
     "output_type": "execute_result"
    }
   ],
   "source": [
    "len(sample)"
   ]
  },
  {
   "cell_type": "code",
   "execution_count": 0,
   "metadata": {
    "colab": {},
    "colab_type": "code",
    "id": "JyE77hGTmvZJ"
   },
   "outputs": [],
   "source": [
    "df1 = data.iloc[:2620940].copy(deep = True)\n",
    "df2 = data.iloc[2620940:].copy(deep = True)"
   ]
  },
  {
   "cell_type": "code",
   "execution_count": 0,
   "metadata": {
    "colab": {},
    "colab_type": "code",
    "id": "NYXU-HPooGOk"
   },
   "outputs": [],
   "source": [
    "#data.head()"
   ]
  },
  {
   "cell_type": "code",
   "execution_count": 0,
   "metadata": {
    "colab": {
     "base_uri": "https://localhost:8080/",
     "height": 206
    },
    "colab_type": "code",
    "id": "3Zl0iYeQnsyO",
    "outputId": "c733c6a8-c1e5-4e95-c1a7-bd897a429c78"
   },
   "outputs": [
    {
     "data": {
      "text/html": [
       "<div>\n",
       "<style scoped>\n",
       "    .dataframe tbody tr th:only-of-type {\n",
       "        vertical-align: middle;\n",
       "    }\n",
       "\n",
       "    .dataframe tbody tr th {\n",
       "        vertical-align: top;\n",
       "    }\n",
       "\n",
       "    .dataframe thead th {\n",
       "        text-align: right;\n",
       "    }\n",
       "</style>\n",
       "<table border=\"1\" class=\"dataframe\">\n",
       "  <thead>\n",
       "    <tr style=\"text-align: right;\">\n",
       "      <th></th>\n",
       "      <th>queryID</th>\n",
       "      <th>query</th>\n",
       "      <th>response</th>\n",
       "      <th>label</th>\n",
       "      <th>labelID</th>\n",
       "    </tr>\n",
       "  </thead>\n",
       "  <tbody>\n",
       "    <tr>\n",
       "      <th>0</th>\n",
       "      <td>131</td>\n",
       "      <td>. what is a corporation?</td>\n",
       "      <td>A company is incorporated in a specific nation...</td>\n",
       "      <td>0</td>\n",
       "      <td>0</td>\n",
       "    </tr>\n",
       "    <tr>\n",
       "      <th>1</th>\n",
       "      <td>131</td>\n",
       "      <td>. what is a corporation?</td>\n",
       "      <td>Today, there is a growing community of more th...</td>\n",
       "      <td>0</td>\n",
       "      <td>1</td>\n",
       "    </tr>\n",
       "    <tr>\n",
       "      <th>2</th>\n",
       "      <td>131</td>\n",
       "      <td>. what is a corporation?</td>\n",
       "      <td>Corporation definition, an association of indi...</td>\n",
       "      <td>0</td>\n",
       "      <td>2</td>\n",
       "    </tr>\n",
       "    <tr>\n",
       "      <th>3</th>\n",
       "      <td>131</td>\n",
       "      <td>. what is a corporation?</td>\n",
       "      <td>Examples of corporation in a Sentence. 1  He w...</td>\n",
       "      <td>0</td>\n",
       "      <td>3</td>\n",
       "    </tr>\n",
       "    <tr>\n",
       "      <th>4</th>\n",
       "      <td>131</td>\n",
       "      <td>. what is a corporation?</td>\n",
       "      <td>1: a government-owned corporation (as a utilit...</td>\n",
       "      <td>0</td>\n",
       "      <td>4</td>\n",
       "    </tr>\n",
       "  </tbody>\n",
       "</table>\n",
       "</div>"
      ],
      "text/plain": [
       "   queryID                     query  \\\n",
       "0      131  . what is a corporation?   \n",
       "1      131  . what is a corporation?   \n",
       "2      131  . what is a corporation?   \n",
       "3      131  . what is a corporation?   \n",
       "4      131  . what is a corporation?   \n",
       "\n",
       "                                            response  label  labelID  \n",
       "0  A company is incorporated in a specific nation...      0        0  \n",
       "1  Today, there is a growing community of more th...      0        1  \n",
       "2  Corporation definition, an association of indi...      0        2  \n",
       "3  Examples of corporation in a Sentence. 1  He w...      0        3  \n",
       "4  1: a government-owned corporation (as a utilit...      0        4  "
      ]
     },
     "execution_count": 21,
     "metadata": {
      "tags": []
     },
     "output_type": "execute_result"
    }
   ],
   "source": [
    "# sample = data.iloc[:500].copy(deep = True)\n",
    "# sample.to_csv('gdrive/My Drive/Microsoft AI/Sample_Raw_Data.csv',index=False)\n",
    "sample = pd.read_csv('gdrive/My Drive/Microsoft AI/Sample_Raw_Data.csv')\n",
    "sample.head()"
   ]
  },
  {
   "cell_type": "markdown",
   "metadata": {
    "colab_type": "text",
    "id": "7wDkzcpUo7NU"
   },
   "source": [
    "## Cleaning"
   ]
  },
  {
   "cell_type": "code",
   "execution_count": 8,
   "metadata": {
    "ExecuteTime": {
     "end_time": "2018-12-21T17:09:15.733486Z",
     "start_time": "2018-12-21T17:09:15.474591Z"
    },
    "colab": {
     "base_uri": "https://localhost:8080/",
     "height": 206
    },
    "colab_type": "code",
    "id": "Tb-1IB-3yPb9",
    "outputId": "f175cdf3-3d40-462d-b513-4f6a5253b135"
   },
   "outputs": [
    {
     "data": {
      "text/html": [
       "<div>\n",
       "<style scoped>\n",
       "    .dataframe tbody tr th:only-of-type {\n",
       "        vertical-align: middle;\n",
       "    }\n",
       "\n",
       "    .dataframe tbody tr th {\n",
       "        vertical-align: top;\n",
       "    }\n",
       "\n",
       "    .dataframe thead th {\n",
       "        text-align: right;\n",
       "    }\n",
       "</style>\n",
       "<table border=\"1\" class=\"dataframe\">\n",
       "  <thead>\n",
       "    <tr style=\"text-align: right;\">\n",
       "      <th></th>\n",
       "      <th>queryID</th>\n",
       "      <th>query</th>\n",
       "      <th>response</th>\n",
       "      <th>label</th>\n",
       "      <th>labelID</th>\n",
       "    </tr>\n",
       "  </thead>\n",
       "  <tbody>\n",
       "    <tr>\n",
       "      <th>0</th>\n",
       "      <td>131</td>\n",
       "      <td>. what is a corporation?</td>\n",
       "      <td>A company is incorporated in a specific nation...</td>\n",
       "      <td>0</td>\n",
       "      <td>0</td>\n",
       "    </tr>\n",
       "    <tr>\n",
       "      <th>1</th>\n",
       "      <td>131</td>\n",
       "      <td>. what is a corporation?</td>\n",
       "      <td>Today, there is a growing community of more th...</td>\n",
       "      <td>0</td>\n",
       "      <td>1</td>\n",
       "    </tr>\n",
       "    <tr>\n",
       "      <th>2</th>\n",
       "      <td>131</td>\n",
       "      <td>. what is a corporation?</td>\n",
       "      <td>Corporation definition, an association of indi...</td>\n",
       "      <td>0</td>\n",
       "      <td>2</td>\n",
       "    </tr>\n",
       "    <tr>\n",
       "      <th>3</th>\n",
       "      <td>131</td>\n",
       "      <td>. what is a corporation?</td>\n",
       "      <td>Examples of corporation in a Sentence. 1  He w...</td>\n",
       "      <td>0</td>\n",
       "      <td>3</td>\n",
       "    </tr>\n",
       "    <tr>\n",
       "      <th>4</th>\n",
       "      <td>131</td>\n",
       "      <td>. what is a corporation?</td>\n",
       "      <td>1: a government-owned corporation (as a utilit...</td>\n",
       "      <td>0</td>\n",
       "      <td>4</td>\n",
       "    </tr>\n",
       "  </tbody>\n",
       "</table>\n",
       "</div>"
      ],
      "text/plain": [
       "   queryID                     query  \\\n",
       "0      131  . what is a corporation?   \n",
       "1      131  . what is a corporation?   \n",
       "2      131  . what is a corporation?   \n",
       "3      131  . what is a corporation?   \n",
       "4      131  . what is a corporation?   \n",
       "\n",
       "                                            response  label  labelID  \n",
       "0  A company is incorporated in a specific nation...      0        0  \n",
       "1  Today, there is a growing community of more th...      0        1  \n",
       "2  Corporation definition, an association of indi...      0        2  \n",
       "3  Examples of corporation in a Sentence. 1  He w...      0        3  \n",
       "4  1: a government-owned corporation (as a utilit...      0        4  "
      ]
     },
     "execution_count": 8,
     "metadata": {},
     "output_type": "execute_result"
    }
   ],
   "source": [
    "temp = data.copy(deep = True)\n",
    "temp.head()"
   ]
  },
  {
   "cell_type": "code",
   "execution_count": 9,
   "metadata": {
    "ExecuteTime": {
     "end_time": "2018-12-21T17:09:20.130714Z",
     "start_time": "2018-12-21T17:09:20.121493Z"
    },
    "colab": {},
    "colab_type": "code",
    "id": "0EprDk7HsNKY"
   },
   "outputs": [],
   "source": [
    "def clean(df,column):\n",
    "  #Lowercase conversion\n",
    "  df[column] = df[column].apply(lambda x: \" \".join(x.lower() for x in x.split()))\n",
    "  print(column+\": Converted to lowercase\")\n",
    "  #Tokenization\n",
    "  df[column] = df[column].apply(word_tokenize)\n",
    "  print(column+\": Tokenized\")\n",
    "  #Removing Stop Words\n",
    "  #df[column] = [w for w in word_tokens if not w in stop_words]\n",
    "  #df[column] = df[column].apply(lambda x: [item for item in x if item not in stop_words])\n",
    "  df[column] = df[column].apply(lambda x: \" \".join(word for word in x if word not in stop_words))\n",
    "  print(column+\": StopWords Removed\")\n",
    "  #Lemmatization - root words\n",
    "  df[column] = df[column].apply(lambda x: \" \".join([lemmatizer.lemmatize(word) for word in x.split()]))\n",
    "  print(column+\": Root words Lemmatized\")\n",
    "  return df[column]#.apply(word_tokenize)\n",
    "\n",
    "  "
   ]
  },
  {
   "cell_type": "code",
   "execution_count": 10,
   "metadata": {
    "ExecuteTime": {
     "end_time": "2018-12-21T18:30:20.264124Z",
     "start_time": "2018-12-21T17:09:22.769042Z"
    },
    "colab": {
     "base_uri": "https://localhost:8080/",
     "height": 104
    },
    "colab_type": "code",
    "id": "q5uFWo0zzuY9",
    "outputId": "3989f66d-7384-406c-d75d-3dd0bab4447c"
   },
   "outputs": [
    {
     "name": "stdout",
     "output_type": "stream",
     "text": [
      "query: Converted to lowercase\n",
      "query: Tokenized\n",
      "query: StopWords Removed\n",
      "query: Root words Lemmatized\n",
      "response: Converted to lowercase\n",
      "response: Tokenized\n",
      "response: StopWords Removed\n",
      "response: Root words Lemmatized\n"
     ]
    },
    {
     "data": {
      "text/html": [
       "<div>\n",
       "<style scoped>\n",
       "    .dataframe tbody tr th:only-of-type {\n",
       "        vertical-align: middle;\n",
       "    }\n",
       "\n",
       "    .dataframe tbody tr th {\n",
       "        vertical-align: top;\n",
       "    }\n",
       "\n",
       "    .dataframe thead th {\n",
       "        text-align: right;\n",
       "    }\n",
       "</style>\n",
       "<table border=\"1\" class=\"dataframe\">\n",
       "  <thead>\n",
       "    <tr style=\"text-align: right;\">\n",
       "      <th></th>\n",
       "      <th>queryID</th>\n",
       "      <th>query</th>\n",
       "      <th>response</th>\n",
       "      <th>label</th>\n",
       "      <th>labelID</th>\n",
       "    </tr>\n",
       "  </thead>\n",
       "  <tbody>\n",
       "    <tr>\n",
       "      <th>0</th>\n",
       "      <td>131</td>\n",
       "      <td>. corporation ?</td>\n",
       "      <td>company incorporated specific nation , often w...</td>\n",
       "      <td>0</td>\n",
       "      <td>0</td>\n",
       "    </tr>\n",
       "    <tr>\n",
       "      <th>1</th>\n",
       "      <td>131</td>\n",
       "      <td>. corporation ?</td>\n",
       "      <td>today , growing community 2,100 certified b co...</td>\n",
       "      <td>0</td>\n",
       "      <td>1</td>\n",
       "    </tr>\n",
       "    <tr>\n",
       "      <th>2</th>\n",
       "      <td>131</td>\n",
       "      <td>. corporation ?</td>\n",
       "      <td>corporation definition , association individua...</td>\n",
       "      <td>0</td>\n",
       "      <td>2</td>\n",
       "    </tr>\n",
       "    <tr>\n",
       "      <th>3</th>\n",
       "      <td>131</td>\n",
       "      <td>. corporation ?</td>\n",
       "      <td>example corporation sentence . 1 work consulta...</td>\n",
       "      <td>0</td>\n",
       "      <td>3</td>\n",
       "    </tr>\n",
       "    <tr>\n",
       "      <th>4</th>\n",
       "      <td>131</td>\n",
       "      <td>. corporation ?</td>\n",
       "      <td>1 : government-owned corporation ( utility rai...</td>\n",
       "      <td>0</td>\n",
       "      <td>4</td>\n",
       "    </tr>\n",
       "  </tbody>\n",
       "</table>\n",
       "</div>"
      ],
      "text/plain": [
       "   queryID            query  \\\n",
       "0      131  . corporation ?   \n",
       "1      131  . corporation ?   \n",
       "2      131  . corporation ?   \n",
       "3      131  . corporation ?   \n",
       "4      131  . corporation ?   \n",
       "\n",
       "                                            response  label  labelID  \n",
       "0  company incorporated specific nation , often w...      0        0  \n",
       "1  today , growing community 2,100 certified b co...      0        1  \n",
       "2  corporation definition , association individua...      0        2  \n",
       "3  example corporation sentence . 1 work consulta...      0        3  \n",
       "4  1 : government-owned corporation ( utility rai...      0        4  "
      ]
     },
     "execution_count": 10,
     "metadata": {},
     "output_type": "execute_result"
    }
   ],
   "source": [
    "temp['query']= clean(temp,'query')\n",
    "temp['response'] = clean(temp,'response')\n",
    "temp.head()"
   ]
  },
  {
   "cell_type": "code",
   "execution_count": 0,
   "metadata": {
    "colab": {
     "base_uri": "https://localhost:8080/",
     "height": 72
    },
    "colab_type": "code",
    "id": "RmEN0pQtyvjT",
    "outputId": "615978c4-ab7e-446d-fc36-018d5597f906"
   },
   "outputs": [
    {
     "name": "stdout",
     "output_type": "stream",
     "text": [
      "A company is incorporated in a specific nation, often within the bounds of a smaller subset of that nation, such as a state or province. The corporation is then governed by the laws of incorporation in that state. A corporation may issue stock, either private or public, or may be classified as a non-stock corporation. If stock is issued, the corporation will usually be governed by its shareholders, either directly or indirectly. \n",
      " company incorporated specific nation , often within bound smaller subset nation , state province . corporation governed law incorporation state . corporation may issue stock , either private public , may classified non-stock corporation . stock issued , corporation usually governed shareholder , either directly indirectly .\n"
     ]
    }
   ],
   "source": [
    "print(sample['response'][0] ,'\\n', temp['response'][0])"
   ]
  },
  {
   "cell_type": "code",
   "execution_count": 11,
   "metadata": {
    "ExecuteTime": {
     "end_time": "2018-12-21T18:32:15.500743Z",
     "start_time": "2018-12-21T18:30:20.266110Z"
    },
    "colab": {},
    "colab_type": "code",
    "id": "-Ky157yhLvbl"
   },
   "outputs": [],
   "source": [
    "temp.to_csv(\"Clean_data_latest.tsv\",sep='\\t', index=False,header=None)\n",
    "temp.to_csv(\"Clean_data_latest.csv\", index=False,header=None)"
   ]
  },
  {
   "cell_type": "code",
   "execution_count": 12,
   "metadata": {
    "ExecuteTime": {
     "end_time": "2018-12-21T18:32:15.515716Z",
     "start_time": "2018-12-21T18:32:15.510016Z"
    }
   },
   "outputs": [
    {
     "data": {
      "text/plain": [
       "5241880"
      ]
     },
     "execution_count": 12,
     "metadata": {},
     "output_type": "execute_result"
    }
   ],
   "source": [
    "len(temp)"
   ]
  },
  {
   "cell_type": "markdown",
   "metadata": {
    "colab_type": "text",
    "id": "TKH2Bb_X4gAF"
   },
   "source": [
    "## Feature Extraction"
   ]
  },
  {
   "cell_type": "code",
   "execution_count": 0,
   "metadata": {
    "colab": {
     "base_uri": "https://localhost:8080/",
     "height": 363
    },
    "colab_type": "code",
    "id": "bqlrcYG9u2hU",
    "outputId": "979d7ff6-880e-4855-c5dd-c4d8b14baaf4"
   },
   "outputs": [
    {
     "data": {
      "text/html": [
       "<div>\n",
       "<style scoped>\n",
       "    .dataframe tbody tr th:only-of-type {\n",
       "        vertical-align: middle;\n",
       "    }\n",
       "\n",
       "    .dataframe tbody tr th {\n",
       "        vertical-align: top;\n",
       "    }\n",
       "\n",
       "    .dataframe thead th {\n",
       "        text-align: right;\n",
       "    }\n",
       "</style>\n",
       "<table border=\"1\" class=\"dataframe\">\n",
       "  <thead>\n",
       "    <tr style=\"text-align: right;\">\n",
       "      <th></th>\n",
       "      <th>queryID</th>\n",
       "      <th>query</th>\n",
       "      <th>response</th>\n",
       "      <th>label</th>\n",
       "      <th>labelID</th>\n",
       "    </tr>\n",
       "  </thead>\n",
       "  <tbody>\n",
       "    <tr>\n",
       "      <th>0</th>\n",
       "      <td>131</td>\n",
       "      <td>. corporation ?</td>\n",
       "      <td>company incorporated specific nation , often w...</td>\n",
       "      <td>0</td>\n",
       "      <td>0</td>\n",
       "    </tr>\n",
       "    <tr>\n",
       "      <th>1</th>\n",
       "      <td>131</td>\n",
       "      <td>. corporation ?</td>\n",
       "      <td>today , growing community 2,100 certified b co...</td>\n",
       "      <td>0</td>\n",
       "      <td>1</td>\n",
       "    </tr>\n",
       "    <tr>\n",
       "      <th>2</th>\n",
       "      <td>131</td>\n",
       "      <td>. corporation ?</td>\n",
       "      <td>corporation definition , association individua...</td>\n",
       "      <td>0</td>\n",
       "      <td>2</td>\n",
       "    </tr>\n",
       "    <tr>\n",
       "      <th>3</th>\n",
       "      <td>131</td>\n",
       "      <td>. corporation ?</td>\n",
       "      <td>example corporation sentence . 1 work consulta...</td>\n",
       "      <td>0</td>\n",
       "      <td>3</td>\n",
       "    </tr>\n",
       "    <tr>\n",
       "      <th>4</th>\n",
       "      <td>131</td>\n",
       "      <td>. corporation ?</td>\n",
       "      <td>1 : government-owned corporation ( utility rai...</td>\n",
       "      <td>0</td>\n",
       "      <td>4</td>\n",
       "    </tr>\n",
       "    <tr>\n",
       "      <th>5</th>\n",
       "      <td>131</td>\n",
       "      <td>. corporation ?</td>\n",
       "      <td>mcdonald 's corporation one recognizable corpo...</td>\n",
       "      <td>1</td>\n",
       "      <td>5</td>\n",
       "    </tr>\n",
       "    <tr>\n",
       "      <th>6</th>\n",
       "      <td>131</td>\n",
       "      <td>. corporation ?</td>\n",
       "      <td>corporation owned stockholder ( shareholder ) ...</td>\n",
       "      <td>0</td>\n",
       "      <td>6</td>\n",
       "    </tr>\n",
       "    <tr>\n",
       "      <th>7</th>\n",
       "      <td>131</td>\n",
       "      <td>. corporation ?</td>\n",
       "      <td>association organized group people share commo...</td>\n",
       "      <td>0</td>\n",
       "      <td>7</td>\n",
       "    </tr>\n",
       "    <tr>\n",
       "      <th>8</th>\n",
       "      <td>131</td>\n",
       "      <td>. corporation ?</td>\n",
       "      <td>b corp certification shine light company leadi...</td>\n",
       "      <td>0</td>\n",
       "      <td>8</td>\n",
       "    </tr>\n",
       "    <tr>\n",
       "      <th>9</th>\n",
       "      <td>131</td>\n",
       "      <td>. corporation ?</td>\n",
       "      <td>llcs offer greater flexibility come income tax...</td>\n",
       "      <td>0</td>\n",
       "      <td>9</td>\n",
       "    </tr>\n",
       "  </tbody>\n",
       "</table>\n",
       "</div>"
      ],
      "text/plain": [
       "   queryID            query  \\\n",
       "0      131  . corporation ?   \n",
       "1      131  . corporation ?   \n",
       "2      131  . corporation ?   \n",
       "3      131  . corporation ?   \n",
       "4      131  . corporation ?   \n",
       "5      131  . corporation ?   \n",
       "6      131  . corporation ?   \n",
       "7      131  . corporation ?   \n",
       "8      131  . corporation ?   \n",
       "9      131  . corporation ?   \n",
       "\n",
       "                                            response  label  labelID  \n",
       "0  company incorporated specific nation , often w...      0        0  \n",
       "1  today , growing community 2,100 certified b co...      0        1  \n",
       "2  corporation definition , association individua...      0        2  \n",
       "3  example corporation sentence . 1 work consulta...      0        3  \n",
       "4  1 : government-owned corporation ( utility rai...      0        4  \n",
       "5  mcdonald 's corporation one recognizable corpo...      1        5  \n",
       "6  corporation owned stockholder ( shareholder ) ...      0        6  \n",
       "7  association organized group people share commo...      0        7  \n",
       "8  b corp certification shine light company leadi...      0        8  \n",
       "9  llcs offer greater flexibility come income tax...      0        9  "
      ]
     },
     "execution_count": 67,
     "metadata": {
      "tags": []
     },
     "output_type": "execute_result"
    }
   ],
   "source": [
    "tempf = temp.copy(deep = True)\n",
    "tempf.head(10)"
   ]
  },
  {
   "cell_type": "code",
   "execution_count": 0,
   "metadata": {
    "colab": {},
    "colab_type": "code",
    "id": "5jz-3-YmLtUO"
   },
   "outputs": [],
   "source": []
  },
  {
   "cell_type": "code",
   "execution_count": 0,
   "metadata": {
    "colab": {
     "base_uri": "https://localhost:8080/",
     "height": 363
    },
    "colab_type": "code",
    "id": "4U6_nXs7xcba",
    "outputId": "6b94e66f-5869-4b33-ba96-11a187e5f882"
   },
   "outputs": [
    {
     "data": {
      "text/html": [
       "<div>\n",
       "<style scoped>\n",
       "    .dataframe tbody tr th:only-of-type {\n",
       "        vertical-align: middle;\n",
       "    }\n",
       "\n",
       "    .dataframe tbody tr th {\n",
       "        vertical-align: top;\n",
       "    }\n",
       "\n",
       "    .dataframe thead th {\n",
       "        text-align: right;\n",
       "    }\n",
       "</style>\n",
       "<table border=\"1\" class=\"dataframe\">\n",
       "  <thead>\n",
       "    <tr style=\"text-align: right;\">\n",
       "      <th></th>\n",
       "      <th>0</th>\n",
       "      <th>1</th>\n",
       "      <th>2</th>\n",
       "      <th>3</th>\n",
       "      <th>4</th>\n",
       "      <th>5</th>\n",
       "      <th>6</th>\n",
       "      <th>7</th>\n",
       "      <th>8</th>\n",
       "      <th>9</th>\n",
       "      <th>10</th>\n",
       "    </tr>\n",
       "  </thead>\n",
       "  <tbody>\n",
       "    <tr>\n",
       "      <th>0</th>\n",
       "      <td>1135787</td>\n",
       "      <td>17.352767</td>\n",
       "      <td>12.778355</td>\n",
       "      <td>10.567963</td>\n",
       "      <td>17.590332</td>\n",
       "      <td>7.879177</td>\n",
       "      <td>7.288547</td>\n",
       "      <td>2.737757</td>\n",
       "      <td>3.989637</td>\n",
       "      <td>4.548654</td>\n",
       "      <td>12.860450</td>\n",
       "    </tr>\n",
       "    <tr>\n",
       "      <th>1</th>\n",
       "      <td>281922</td>\n",
       "      <td>3.825710</td>\n",
       "      <td>6.209002</td>\n",
       "      <td>5.246799</td>\n",
       "      <td>2.336146</td>\n",
       "      <td>0.000000</td>\n",
       "      <td>0.000000</td>\n",
       "      <td>0.000000</td>\n",
       "      <td>2.658957</td>\n",
       "      <td>0.000000</td>\n",
       "      <td>0.000000</td>\n",
       "    </tr>\n",
       "    <tr>\n",
       "      <th>2</th>\n",
       "      <td>120233</td>\n",
       "      <td>9.169234</td>\n",
       "      <td>0.000000</td>\n",
       "      <td>8.920807</td>\n",
       "      <td>0.000000</td>\n",
       "      <td>0.000000</td>\n",
       "      <td>6.718768</td>\n",
       "      <td>5.173019</td>\n",
       "      <td>8.437319</td>\n",
       "      <td>5.022307</td>\n",
       "      <td>9.674624</td>\n",
       "    </tr>\n",
       "    <tr>\n",
       "      <th>3</th>\n",
       "      <td>319757</td>\n",
       "      <td>0.000000</td>\n",
       "      <td>0.000000</td>\n",
       "      <td>0.000000</td>\n",
       "      <td>0.000000</td>\n",
       "      <td>2.568677</td>\n",
       "      <td>0.000000</td>\n",
       "      <td>0.000000</td>\n",
       "      <td>3.094255</td>\n",
       "      <td>0.000000</td>\n",
       "      <td>0.000000</td>\n",
       "    </tr>\n",
       "    <tr>\n",
       "      <th>4</th>\n",
       "      <td>193633</td>\n",
       "      <td>0.000000</td>\n",
       "      <td>0.000000</td>\n",
       "      <td>3.909650</td>\n",
       "      <td>0.000000</td>\n",
       "      <td>0.000000</td>\n",
       "      <td>0.000000</td>\n",
       "      <td>0.000000</td>\n",
       "      <td>0.000000</td>\n",
       "      <td>0.000000</td>\n",
       "      <td>0.000000</td>\n",
       "    </tr>\n",
       "    <tr>\n",
       "      <th>5</th>\n",
       "      <td>50229</td>\n",
       "      <td>7.685039</td>\n",
       "      <td>0.000000</td>\n",
       "      <td>6.015412</td>\n",
       "      <td>5.503310</td>\n",
       "      <td>3.918687</td>\n",
       "      <td>0.000000</td>\n",
       "      <td>8.957478</td>\n",
       "      <td>4.974003</td>\n",
       "      <td>0.000000</td>\n",
       "      <td>0.000000</td>\n",
       "    </tr>\n",
       "    <tr>\n",
       "      <th>6</th>\n",
       "      <td>130810</td>\n",
       "      <td>0.000000</td>\n",
       "      <td>0.000000</td>\n",
       "      <td>0.000000</td>\n",
       "      <td>0.000000</td>\n",
       "      <td>0.000000</td>\n",
       "      <td>0.000000</td>\n",
       "      <td>0.000000</td>\n",
       "      <td>0.000000</td>\n",
       "      <td>3.170028</td>\n",
       "      <td>0.000000</td>\n",
       "    </tr>\n",
       "    <tr>\n",
       "      <th>7</th>\n",
       "      <td>138208</td>\n",
       "      <td>5.914187</td>\n",
       "      <td>7.451903</td>\n",
       "      <td>7.514478</td>\n",
       "      <td>2.963889</td>\n",
       "      <td>10.851555</td>\n",
       "      <td>9.207414</td>\n",
       "      <td>6.086954</td>\n",
       "      <td>8.906415</td>\n",
       "      <td>6.455549</td>\n",
       "      <td>6.682578</td>\n",
       "    </tr>\n",
       "    <tr>\n",
       "      <th>8</th>\n",
       "      <td>334554</td>\n",
       "      <td>0.000000</td>\n",
       "      <td>0.000000</td>\n",
       "      <td>0.000000</td>\n",
       "      <td>0.000000</td>\n",
       "      <td>0.000000</td>\n",
       "      <td>3.891863</td>\n",
       "      <td>0.000000</td>\n",
       "      <td>0.000000</td>\n",
       "      <td>5.139703</td>\n",
       "      <td>0.000000</td>\n",
       "    </tr>\n",
       "    <tr>\n",
       "      <th>9</th>\n",
       "      <td>204203</td>\n",
       "      <td>0.000000</td>\n",
       "      <td>0.000000</td>\n",
       "      <td>0.000000</td>\n",
       "      <td>0.000000</td>\n",
       "      <td>0.000000</td>\n",
       "      <td>0.000000</td>\n",
       "      <td>0.000000</td>\n",
       "      <td>0.000000</td>\n",
       "      <td>0.000000</td>\n",
       "      <td>0.000000</td>\n",
       "    </tr>\n",
       "  </tbody>\n",
       "</table>\n",
       "</div>"
      ],
      "text/plain": [
       "        0          1          2          3          4          5         6   \\\n",
       "0  1135787  17.352767  12.778355  10.567963  17.590332   7.879177  7.288547   \n",
       "1   281922   3.825710   6.209002   5.246799   2.336146   0.000000  0.000000   \n",
       "2   120233   9.169234   0.000000   8.920807   0.000000   0.000000  6.718768   \n",
       "3   319757   0.000000   0.000000   0.000000   0.000000   2.568677  0.000000   \n",
       "4   193633   0.000000   0.000000   3.909650   0.000000   0.000000  0.000000   \n",
       "5    50229   7.685039   0.000000   6.015412   5.503310   3.918687  0.000000   \n",
       "6   130810   0.000000   0.000000   0.000000   0.000000   0.000000  0.000000   \n",
       "7   138208   5.914187   7.451903   7.514478   2.963889  10.851555  9.207414   \n",
       "8   334554   0.000000   0.000000   0.000000   0.000000   0.000000  3.891863   \n",
       "9   204203   0.000000   0.000000   0.000000   0.000000   0.000000  0.000000   \n",
       "\n",
       "         7         8         9          10  \n",
       "0  2.737757  3.989637  4.548654  12.860450  \n",
       "1  0.000000  2.658957  0.000000   0.000000  \n",
       "2  5.173019  8.437319  5.022307   9.674624  \n",
       "3  0.000000  3.094255  0.000000   0.000000  \n",
       "4  0.000000  0.000000  0.000000   0.000000  \n",
       "5  8.957478  4.974003  0.000000   0.000000  \n",
       "6  0.000000  0.000000  3.170028   0.000000  \n",
       "7  6.086954  8.906415  6.455549   6.682578  \n",
       "8  0.000000  0.000000  5.139703   0.000000  \n",
       "9  0.000000  0.000000  0.000000   0.000000  "
      ]
     },
     "execution_count": 8,
     "metadata": {
      "tags": []
     },
     "output_type": "execute_result"
    }
   ],
   "source": [
    "co = pd.read_csv(\"gdrive/My Drive/Microsoft AI/Data/submission_answer.tsv\",delimiter='\\t',header=None)\n",
    "co.head(10)"
   ]
  },
  {
   "cell_type": "code",
   "execution_count": 0,
   "metadata": {
    "colab": {
     "base_uri": "https://localhost:8080/",
     "height": 34
    },
    "colab_type": "code",
    "id": "IRlAyqCccCxJ",
    "outputId": "dd0de11e-9f46-480d-eaf2-c78c65ff8546"
   },
   "outputs": [
    {
     "data": {
      "text/plain": [
       "10417"
      ]
     },
     "execution_count": 9,
     "metadata": {
      "tags": []
     },
     "output_type": "execute_result"
    }
   ],
   "source": [
    "len(co)"
   ]
  },
  {
   "cell_type": "code",
   "execution_count": 0,
   "metadata": {
    "colab": {
     "base_uri": "https://localhost:8080/",
     "height": 363
    },
    "colab_type": "code",
    "id": "zN6CQstNbkHV",
    "outputId": "2e04b49c-622b-482f-b53a-f0e4d998a211"
   },
   "outputs": [
    {
     "data": {
      "text/html": [
       "<div>\n",
       "<style scoped>\n",
       "    .dataframe tbody tr th:only-of-type {\n",
       "        vertical-align: middle;\n",
       "    }\n",
       "\n",
       "    .dataframe tbody tr th {\n",
       "        vertical-align: top;\n",
       "    }\n",
       "\n",
       "    .dataframe thead th {\n",
       "        text-align: right;\n",
       "    }\n",
       "</style>\n",
       "<table border=\"1\" class=\"dataframe\">\n",
       "  <thead>\n",
       "    <tr style=\"text-align: right;\">\n",
       "      <th></th>\n",
       "      <th>0</th>\n",
       "      <th>1</th>\n",
       "      <th>2</th>\n",
       "      <th>3</th>\n",
       "      <th>4</th>\n",
       "      <th>5</th>\n",
       "      <th>6</th>\n",
       "      <th>7</th>\n",
       "      <th>8</th>\n",
       "      <th>9</th>\n",
       "      <th>10</th>\n",
       "    </tr>\n",
       "  </thead>\n",
       "  <tbody>\n",
       "    <tr>\n",
       "      <th>0</th>\n",
       "      <td>1135787</td>\n",
       "      <td>27.367275</td>\n",
       "      <td>36.495855</td>\n",
       "      <td>32.915477</td>\n",
       "      <td>30.555301</td>\n",
       "      <td>13.866893</td>\n",
       "      <td>26.627313</td>\n",
       "      <td>16.511408</td>\n",
       "      <td>8.397489</td>\n",
       "      <td>17.608676</td>\n",
       "      <td>36.688660</td>\n",
       "    </tr>\n",
       "    <tr>\n",
       "      <th>1</th>\n",
       "      <td>281922</td>\n",
       "      <td>11.744009</td>\n",
       "      <td>11.575771</td>\n",
       "      <td>8.146057</td>\n",
       "      <td>2.169596</td>\n",
       "      <td>1.034630</td>\n",
       "      <td>13.514372</td>\n",
       "      <td>2.190186</td>\n",
       "      <td>5.789057</td>\n",
       "      <td>10.278486</td>\n",
       "      <td>9.164840</td>\n",
       "    </tr>\n",
       "    <tr>\n",
       "      <th>2</th>\n",
       "      <td>120233</td>\n",
       "      <td>14.281651</td>\n",
       "      <td>0.000000</td>\n",
       "      <td>23.911319</td>\n",
       "      <td>0.000000</td>\n",
       "      <td>10.886682</td>\n",
       "      <td>10.715390</td>\n",
       "      <td>8.659164</td>\n",
       "      <td>20.936059</td>\n",
       "      <td>8.447720</td>\n",
       "      <td>14.982256</td>\n",
       "    </tr>\n",
       "    <tr>\n",
       "      <th>3</th>\n",
       "      <td>319757</td>\n",
       "      <td>-0.158872</td>\n",
       "      <td>-0.474097</td>\n",
       "      <td>6.921238</td>\n",
       "      <td>7.171402</td>\n",
       "      <td>11.052829</td>\n",
       "      <td>9.210453</td>\n",
       "      <td>19.166688</td>\n",
       "      <td>12.897403</td>\n",
       "      <td>7.666373</td>\n",
       "      <td>-0.472748</td>\n",
       "    </tr>\n",
       "    <tr>\n",
       "      <th>4</th>\n",
       "      <td>193633</td>\n",
       "      <td>14.829290</td>\n",
       "      <td>0.000000</td>\n",
       "      <td>21.061208</td>\n",
       "      <td>9.554759</td>\n",
       "      <td>7.337612</td>\n",
       "      <td>11.054364</td>\n",
       "      <td>12.213071</td>\n",
       "      <td>21.539519</td>\n",
       "      <td>9.041871</td>\n",
       "      <td>0.000000</td>\n",
       "    </tr>\n",
       "    <tr>\n",
       "      <th>5</th>\n",
       "      <td>50229</td>\n",
       "      <td>21.427538</td>\n",
       "      <td>3.578754</td>\n",
       "      <td>25.514792</td>\n",
       "      <td>28.052387</td>\n",
       "      <td>21.650233</td>\n",
       "      <td>11.975166</td>\n",
       "      <td>22.662141</td>\n",
       "      <td>16.703877</td>\n",
       "      <td>10.587768</td>\n",
       "      <td>11.500565</td>\n",
       "    </tr>\n",
       "    <tr>\n",
       "      <th>6</th>\n",
       "      <td>130810</td>\n",
       "      <td>10.302322</td>\n",
       "      <td>10.982077</td>\n",
       "      <td>0.483935</td>\n",
       "      <td>14.947725</td>\n",
       "      <td>0.728160</td>\n",
       "      <td>0.000000</td>\n",
       "      <td>16.132513</td>\n",
       "      <td>0.541912</td>\n",
       "      <td>4.051781</td>\n",
       "      <td>13.366268</td>\n",
       "    </tr>\n",
       "    <tr>\n",
       "      <th>7</th>\n",
       "      <td>138208</td>\n",
       "      <td>6.312909</td>\n",
       "      <td>9.123455</td>\n",
       "      <td>8.563088</td>\n",
       "      <td>3.501763</td>\n",
       "      <td>13.356172</td>\n",
       "      <td>11.197807</td>\n",
       "      <td>6.877595</td>\n",
       "      <td>10.856327</td>\n",
       "      <td>7.652591</td>\n",
       "      <td>7.576421</td>\n",
       "    </tr>\n",
       "    <tr>\n",
       "      <th>8</th>\n",
       "      <td>334554</td>\n",
       "      <td>0.000000</td>\n",
       "      <td>11.326957</td>\n",
       "      <td>6.975564</td>\n",
       "      <td>11.078372</td>\n",
       "      <td>7.559637</td>\n",
       "      <td>4.457489</td>\n",
       "      <td>13.616845</td>\n",
       "      <td>0.000000</td>\n",
       "      <td>15.751821</td>\n",
       "      <td>8.652441</td>\n",
       "    </tr>\n",
       "    <tr>\n",
       "      <th>9</th>\n",
       "      <td>204203</td>\n",
       "      <td>0.000000</td>\n",
       "      <td>0.000000</td>\n",
       "      <td>0.000000</td>\n",
       "      <td>17.796476</td>\n",
       "      <td>0.000000</td>\n",
       "      <td>22.761483</td>\n",
       "      <td>0.000000</td>\n",
       "      <td>12.312443</td>\n",
       "      <td>0.000000</td>\n",
       "      <td>15.289334</td>\n",
       "    </tr>\n",
       "  </tbody>\n",
       "</table>\n",
       "</div>"
      ],
      "text/plain": [
       "        0          1          2          3          4          5          6   \\\n",
       "0  1135787  27.367275  36.495855  32.915477  30.555301  13.866893  26.627313   \n",
       "1   281922  11.744009  11.575771   8.146057   2.169596   1.034630  13.514372   \n",
       "2   120233  14.281651   0.000000  23.911319   0.000000  10.886682  10.715390   \n",
       "3   319757  -0.158872  -0.474097   6.921238   7.171402  11.052829   9.210453   \n",
       "4   193633  14.829290   0.000000  21.061208   9.554759   7.337612  11.054364   \n",
       "5    50229  21.427538   3.578754  25.514792  28.052387  21.650233  11.975166   \n",
       "6   130810  10.302322  10.982077   0.483935  14.947725   0.728160   0.000000   \n",
       "7   138208   6.312909   9.123455   8.563088   3.501763  13.356172  11.197807   \n",
       "8   334554   0.000000  11.326957   6.975564  11.078372   7.559637   4.457489   \n",
       "9   204203   0.000000   0.000000   0.000000  17.796476   0.000000  22.761483   \n",
       "\n",
       "          7          8          9          10  \n",
       "0  16.511408   8.397489  17.608676  36.688660  \n",
       "1   2.190186   5.789057  10.278486   9.164840  \n",
       "2   8.659164  20.936059   8.447720  14.982256  \n",
       "3  19.166688  12.897403   7.666373  -0.472748  \n",
       "4  12.213071  21.539519   9.041871   0.000000  \n",
       "5  22.662141  16.703877  10.587768  11.500565  \n",
       "6  16.132513   0.541912   4.051781  13.366268  \n",
       "7   6.877595  10.856327   7.652591   7.576421  \n",
       "8  13.616845   0.000000  15.751821   8.652441  \n",
       "9   0.000000  12.312443   0.000000  15.289334  "
      ]
     },
     "execution_count": 10,
     "metadata": {
      "tags": []
     },
     "output_type": "execute_result"
    }
   ],
   "source": [
    "an = pd.read_csv(\"gdrive/My Drive/Microsoft AI/Data/answer.tsv\",delimiter='\\t',header=None)\n",
    "an.head(10)"
   ]
  },
  {
   "cell_type": "code",
   "execution_count": 0,
   "metadata": {
    "colab": {
     "base_uri": "https://localhost:8080/",
     "height": 34
    },
    "colab_type": "code",
    "id": "KcPmiDjTciyC",
    "outputId": "ba1886eb-d70f-45d5-98ec-6253039fd580"
   },
   "outputs": [
    {
     "data": {
      "text/plain": [
       "10417"
      ]
     },
     "execution_count": 11,
     "metadata": {
      "tags": []
     },
     "output_type": "execute_result"
    }
   ],
   "source": [
    "len(an)"
   ]
  },
  {
   "cell_type": "code",
   "execution_count": 0,
   "metadata": {
    "colab": {},
    "colab_type": "code",
    "id": "JNcJKwDtjKLG"
   },
   "outputs": [],
   "source": [
    "# ev = pd.read_csv(\"gdrive/My Drive/Microsoft AI/Data/eval1_unlabelled.tsv\",delimiter='\\t',header=None)\n",
    "# ev.head(10)\n",
    "# co.to_csv(\"gdrive/My Drive/Microsoft AI/Data/data_test.tsv\", sep='\\t', index=False,header=None )"
   ]
  },
  {
   "cell_type": "code",
   "execution_count": 0,
   "metadata": {
    "colab": {},
    "colab_type": "code",
    "id": "zAKJKF_1qtpe"
   },
   "outputs": [],
   "source": [
    "# co = pd.read_csv(\"gdrive/My Drive/Microsoft AI/Data/data_test.tsv\",delimiter='\\t',header=None)\n",
    "# co.head(10)"
   ]
  },
  {
   "cell_type": "markdown",
   "metadata": {
    "colab_type": "text",
    "id": "jcR57JMqFY76"
   },
   "source": [
    "### BM25 -TFID"
   ]
  },
  {
   "cell_type": "markdown",
   "metadata": {
    "colab_type": "text",
    "id": "Ba2uEnaDPN8R"
   },
   "source": [
    "Save cleaned file as tsv and run BM-25.ipynb to get answers.tsv which is the BM-25 feature"
   ]
  },
  {
   "cell_type": "code",
   "execution_count": 0,
   "metadata": {
    "colab": {},
    "colab_type": "code",
    "id": "IZilucTeqwv5"
   },
   "outputs": [],
   "source": [
    "with open('gdrive/My Drive/Microsoft AI/Data/docIDFDict.pickle', 'rb') as f:\n",
    "  docIDFDict  = pickle.load(f)\n",
    "\n",
    "avgDocLength = 56.337881256343145\n",
    "\n",
    "#The following GetBM25Score method will take Query and passage as input and outputs their similarity score based on the term frequency(TF) and IDF values.\n",
    "def GetBM25Score(Query, Passage, k1=1.5, b=0.75, delimiter=' ') :\n",
    "    \n",
    "    #global docIDFDict,avgDocLength\n",
    "\n",
    "    query_words= Query.strip().lower().split(delimiter)\n",
    "    passage_words = Passage.strip().lower().split(delimiter)\n",
    "    passageLen = len(passage_words)\n",
    "    docTF = {}\n",
    "    for word in set(query_words):   #Find Term Frequency of all query unique words\n",
    "        docTF[word] = passage_words.count(word)\n",
    "    commonWords = set(query_words) & set(passage_words)\n",
    "    tmp_score = []\n",
    "    for word in commonWords :   \n",
    "        numer = (docTF[word] * (k1+1))   #Numerator part of BM25 Formula\n",
    "        denom = ((docTF[word]) + k1*(1 - b + b*passageLen/avgDocLength)) #Denominator part of BM25 Formula \n",
    "        if(word in docIDFDict) :\n",
    "            tmp_score.append(docIDFDict[word] * numer / denom)\n",
    "\n",
    "    score = sum(tmp_score)\n",
    "    return score"
   ]
  },
  {
   "cell_type": "code",
   "execution_count": 0,
   "metadata": {
    "colab": {
     "base_uri": "https://localhost:8080/",
     "height": 191
    },
    "colab_type": "code",
    "id": "bEo1VLoDq5WM",
    "outputId": "00778845-f27b-49fe-8b84-06abd1b8274d"
   },
   "outputs": [
    {
     "name": "stdout",
     "output_type": "stream",
     "text": [
      "0 20.86015288831061\n",
      "1 6.28060735050483\n",
      "2 16.84416051497076\n",
      "3 22.14220213166373\n",
      "4 12.032298052844576\n",
      "5 20.467823037536004\n",
      "6 12.517690030542287\n",
      "7 9.533295211588246\n",
      "8 0\n",
      "9 7.8631336178339994\n"
     ]
    }
   ],
   "source": [
    "for i in range(10):\n",
    "  print( i,GetBM25Score(tempf['query'][i],tempf['response'][i]))"
   ]
  },
  {
   "cell_type": "code",
   "execution_count": 0,
   "metadata": {
    "colab": {
     "base_uri": "https://localhost:8080/",
     "height": 363
    },
    "colab_type": "code",
    "id": "Mhg1lFkpNltC",
    "outputId": "2ac00faa-6b02-4010-9fda-607ba458f2d5"
   },
   "outputs": [
    {
     "data": {
      "text/html": [
       "<div>\n",
       "<style scoped>\n",
       "    .dataframe tbody tr th:only-of-type {\n",
       "        vertical-align: middle;\n",
       "    }\n",
       "\n",
       "    .dataframe tbody tr th {\n",
       "        vertical-align: top;\n",
       "    }\n",
       "\n",
       "    .dataframe thead th {\n",
       "        text-align: right;\n",
       "    }\n",
       "</style>\n",
       "<table border=\"1\" class=\"dataframe\">\n",
       "  <thead>\n",
       "    <tr style=\"text-align: right;\">\n",
       "      <th></th>\n",
       "      <th>0</th>\n",
       "      <th>1</th>\n",
       "      <th>2</th>\n",
       "      <th>3</th>\n",
       "      <th>4</th>\n",
       "      <th>5</th>\n",
       "      <th>6</th>\n",
       "      <th>7</th>\n",
       "      <th>8</th>\n",
       "      <th>9</th>\n",
       "      <th>10</th>\n",
       "    </tr>\n",
       "  </thead>\n",
       "  <tbody>\n",
       "    <tr>\n",
       "      <th>0</th>\n",
       "      <td>131</td>\n",
       "      <td>20.860153</td>\n",
       "      <td>6.280607</td>\n",
       "      <td>16.844161</td>\n",
       "      <td>22.142202</td>\n",
       "      <td>12.032298</td>\n",
       "      <td>20.467823</td>\n",
       "      <td>12.517690</td>\n",
       "      <td>9.533295</td>\n",
       "      <td>0.000000</td>\n",
       "      <td>7.863134</td>\n",
       "    </tr>\n",
       "    <tr>\n",
       "      <th>1</th>\n",
       "      <td>226969</td>\n",
       "      <td>13.013185</td>\n",
       "      <td>15.959825</td>\n",
       "      <td>10.611629</td>\n",
       "      <td>15.769753</td>\n",
       "      <td>7.186772</td>\n",
       "      <td>21.399558</td>\n",
       "      <td>15.619361</td>\n",
       "      <td>7.550264</td>\n",
       "      <td>16.690253</td>\n",
       "      <td>9.697560</td>\n",
       "    </tr>\n",
       "    <tr>\n",
       "      <th>2</th>\n",
       "      <td>18122</td>\n",
       "      <td>25.812820</td>\n",
       "      <td>39.057990</td>\n",
       "      <td>30.549143</td>\n",
       "      <td>17.960894</td>\n",
       "      <td>16.593171</td>\n",
       "      <td>36.159711</td>\n",
       "      <td>16.236718</td>\n",
       "      <td>28.926180</td>\n",
       "      <td>25.919034</td>\n",
       "      <td>21.841173</td>\n",
       "    </tr>\n",
       "    <tr>\n",
       "      <th>3</th>\n",
       "      <td>35300</td>\n",
       "      <td>29.032277</td>\n",
       "      <td>22.821485</td>\n",
       "      <td>17.855621</td>\n",
       "      <td>11.656895</td>\n",
       "      <td>20.690911</td>\n",
       "      <td>21.818315</td>\n",
       "      <td>26.443924</td>\n",
       "      <td>0.000000</td>\n",
       "      <td>23.372704</td>\n",
       "      <td>26.890020</td>\n",
       "    </tr>\n",
       "    <tr>\n",
       "      <th>4</th>\n",
       "      <td>90447</td>\n",
       "      <td>24.525248</td>\n",
       "      <td>24.525248</td>\n",
       "      <td>22.668690</td>\n",
       "      <td>5.195704</td>\n",
       "      <td>17.456777</td>\n",
       "      <td>0.000000</td>\n",
       "      <td>0.000000</td>\n",
       "      <td>20.607037</td>\n",
       "      <td>0.000000</td>\n",
       "      <td>0.000000</td>\n",
       "    </tr>\n",
       "    <tr>\n",
       "      <th>5</th>\n",
       "      <td>226977</td>\n",
       "      <td>30.273876</td>\n",
       "      <td>0.000000</td>\n",
       "      <td>32.206855</td>\n",
       "      <td>35.426650</td>\n",
       "      <td>14.980646</td>\n",
       "      <td>22.086062</td>\n",
       "      <td>12.911696</td>\n",
       "      <td>13.435371</td>\n",
       "      <td>29.333579</td>\n",
       "      <td>21.987032</td>\n",
       "    </tr>\n",
       "    <tr>\n",
       "      <th>6</th>\n",
       "      <td>154713</td>\n",
       "      <td>14.921140</td>\n",
       "      <td>13.834921</td>\n",
       "      <td>10.621379</td>\n",
       "      <td>10.811288</td>\n",
       "      <td>0.000000</td>\n",
       "      <td>17.782968</td>\n",
       "      <td>11.008112</td>\n",
       "      <td>0.000000</td>\n",
       "      <td>3.913028</td>\n",
       "      <td>17.111956</td>\n",
       "    </tr>\n",
       "    <tr>\n",
       "      <th>7</th>\n",
       "      <td>139430</td>\n",
       "      <td>31.128784</td>\n",
       "      <td>55.366975</td>\n",
       "      <td>58.696991</td>\n",
       "      <td>27.378438</td>\n",
       "      <td>55.813671</td>\n",
       "      <td>32.267185</td>\n",
       "      <td>56.892025</td>\n",
       "      <td>49.489101</td>\n",
       "      <td>32.119828</td>\n",
       "      <td>63.629769</td>\n",
       "    </tr>\n",
       "    <tr>\n",
       "      <th>8</th>\n",
       "      <td>57679</td>\n",
       "      <td>15.305510</td>\n",
       "      <td>0.000000</td>\n",
       "      <td>0.000000</td>\n",
       "      <td>11.196903</td>\n",
       "      <td>13.635169</td>\n",
       "      <td>14.775157</td>\n",
       "      <td>14.775157</td>\n",
       "      <td>10.488667</td>\n",
       "      <td>13.324114</td>\n",
       "      <td>15.791364</td>\n",
       "    </tr>\n",
       "    <tr>\n",
       "      <th>9</th>\n",
       "      <td>39439</td>\n",
       "      <td>26.583603</td>\n",
       "      <td>20.654649</td>\n",
       "      <td>0.000000</td>\n",
       "      <td>0.000000</td>\n",
       "      <td>14.878544</td>\n",
       "      <td>4.343485</td>\n",
       "      <td>17.191411</td>\n",
       "      <td>24.701346</td>\n",
       "      <td>17.859964</td>\n",
       "      <td>4.302454</td>\n",
       "    </tr>\n",
       "  </tbody>\n",
       "</table>\n",
       "</div>"
      ],
      "text/plain": [
       "       0          1          2          3          4          5          6   \\\n",
       "0     131  20.860153   6.280607  16.844161  22.142202  12.032298  20.467823   \n",
       "1  226969  13.013185  15.959825  10.611629  15.769753   7.186772  21.399558   \n",
       "2   18122  25.812820  39.057990  30.549143  17.960894  16.593171  36.159711   \n",
       "3   35300  29.032277  22.821485  17.855621  11.656895  20.690911  21.818315   \n",
       "4   90447  24.525248  24.525248  22.668690   5.195704  17.456777   0.000000   \n",
       "5  226977  30.273876   0.000000  32.206855  35.426650  14.980646  22.086062   \n",
       "6  154713  14.921140  13.834921  10.621379  10.811288   0.000000  17.782968   \n",
       "7  139430  31.128784  55.366975  58.696991  27.378438  55.813671  32.267185   \n",
       "8   57679  15.305510   0.000000   0.000000  11.196903  13.635169  14.775157   \n",
       "9   39439  26.583603  20.654649   0.000000   0.000000  14.878544   4.343485   \n",
       "\n",
       "          7          8          9          10  \n",
       "0  12.517690   9.533295   0.000000   7.863134  \n",
       "1  15.619361   7.550264  16.690253   9.697560  \n",
       "2  16.236718  28.926180  25.919034  21.841173  \n",
       "3  26.443924   0.000000  23.372704  26.890020  \n",
       "4   0.000000  20.607037   0.000000   0.000000  \n",
       "5  12.911696  13.435371  29.333579  21.987032  \n",
       "6  11.008112   0.000000   3.913028  17.111956  \n",
       "7  56.892025  49.489101  32.119828  63.629769  \n",
       "8  14.775157  10.488667  13.324114  15.791364  \n",
       "9  17.191411  24.701346  17.859964   4.302454  "
      ]
     },
     "execution_count": 60,
     "metadata": {
      "tags": []
     },
     "output_type": "execute_result"
    }
   ],
   "source": [
    "co = pd.read_csv(\"gdrive/My Drive/Microsoft AI/Data/answer.tsv\",delimiter='\\t',header=None)\n",
    "co.head(10)"
   ]
  },
  {
   "cell_type": "code",
   "execution_count": 0,
   "metadata": {
    "colab": {
     "base_uri": "https://localhost:8080/",
     "height": 34
    },
    "colab_type": "code",
    "id": "COEAEYHAkM3Y",
    "outputId": "cf539821-7b41-42fe-b2ac-af515b0ee263"
   },
   "outputs": [
    {
     "data": {
      "text/plain": [
       "'. corporation ?'"
      ]
     },
     "execution_count": 47,
     "metadata": {
      "tags": []
     },
     "output_type": "execute_result"
    }
   ],
   "source": [
    "q1 = tempf['query'][0]\n",
    "q1"
   ]
  },
  {
   "cell_type": "code",
   "execution_count": 0,
   "metadata": {
    "colab": {
     "base_uri": "https://localhost:8080/",
     "height": 54
    },
    "colab_type": "code",
    "id": "25qk19jmAoW6",
    "outputId": "4a428ef2-7a56-401f-f0d0-63cd5ac6bc05"
   },
   "outputs": [
    {
     "data": {
      "text/plain": [
       "'company incorporated specific nation , often within bound smaller subset nation , state province . corporation governed law incorporation state . corporation may issue stock , either private public , may classified non-stock corporation . stock issued , corporation usually governed shareholder , either directly indirectly .'"
      ]
     },
     "execution_count": 48,
     "metadata": {
      "tags": []
     },
     "output_type": "execute_result"
    }
   ],
   "source": [
    "a1 = tempf['response'][0]\n",
    "a1"
   ]
  },
  {
   "cell_type": "code",
   "execution_count": 0,
   "metadata": {
    "colab": {},
    "colab_type": "code",
    "id": "FUeqOjaCAqpS"
   },
   "outputs": [],
   "source": []
  },
  {
   "cell_type": "code",
   "execution_count": 0,
   "metadata": {
    "colab": {},
    "colab_type": "code",
    "id": "aDvJvZfVA_L9"
   },
   "outputs": [],
   "source": []
  },
  {
   "cell_type": "markdown",
   "metadata": {
    "colab_type": "text",
    "id": "wWFinqmtiQN3"
   },
   "source": [
    "### Named Entity Recognition"
   ]
  },
  {
   "cell_type": "code",
   "execution_count": 0,
   "metadata": {
    "colab": {},
    "colab_type": "code",
    "id": "YUZUX_VBzUcx"
   },
   "outputs": [],
   "source": [
    "# from nltk.tag import StanfordNERTagger\n",
    "# st = StanfordNERTagger('/usr/share/stanford-ner/classifiers/english.all.3class.distsim.crf.ser.gz','/usr/share/stanford-ner/stanford-ner.jar',encoding='utf-8')"
   ]
  },
  {
   "cell_type": "code",
   "execution_count": 0,
   "metadata": {
    "colab": {},
    "colab_type": "code",
    "id": "ejqt4Ts53bt1"
   },
   "outputs": [],
   "source": [
    "import spacy\n",
    "from spacy import displacy\n",
    "from collections import Counter\n",
    "import en_core_web_sm\n",
    "nlp = en_core_web_sm.load()\n",
    "#https://spacy.io/api/annotation#section-named-entities"
   ]
  },
  {
   "cell_type": "code",
   "execution_count": 0,
   "metadata": {
    "colab": {
     "base_uri": "https://localhost:8080/",
     "height": 34
    },
    "colab_type": "code",
    "id": "0VtnvJM7ycDF",
    "outputId": "6baab003-3050-42ba-b6b9-339aa48305a4"
   },
   "outputs": [
    {
     "name": "stdout",
     "output_type": "stream",
     "text": [
      "[('European', 'NORP'), ('Google', 'ORG'), ('$5.1 billion', 'MONEY'), ('Wednesday', 'DATE')]\n"
     ]
    }
   ],
   "source": [
    "doc = nlp('European authorities fined Google a record $5.1 billion on Wednesday for abusing its power in the mobile phone market and ordered the company to alter its practices')\n",
    "print([(X.text, X.label_) for X in doc.ents])"
   ]
  },
  {
   "cell_type": "code",
   "execution_count": 0,
   "metadata": {
    "colab": {
     "base_uri": "https://localhost:8080/",
     "height": 34
    },
    "colab_type": "code",
    "id": "r8OEISgupHBx",
    "outputId": "b7530ea1-2e69-4bb2-a516-6344a54a04a4"
   },
   "outputs": [
    {
     "data": {
      "text/plain": [
       "'ORG'"
      ]
     },
     "execution_count": 76,
     "metadata": {
      "tags": []
     },
     "output_type": "execute_result"
    }
   ],
   "source": [
    "doc.ents[1].label_"
   ]
  },
  {
   "cell_type": "code",
   "execution_count": 0,
   "metadata": {
    "colab": {
     "base_uri": "https://localhost:8080/",
     "height": 86
    },
    "colab_type": "code",
    "id": "lG78XrmspLjp",
    "outputId": "99239974-b202-4d83-cb60-1c2f842ec4f9"
   },
   "outputs": [
    {
     "name": "stdout",
     "output_type": "stream",
     "text": [
      "European NORP\n",
      "Google ORG\n",
      "$5.1 billion MONEY\n",
      "Wednesday DATE\n"
     ]
    }
   ],
   "source": [
    "for i in range(len(doc.ents)):\n",
    "  print(doc.ents[i].text,doc.ents[i].label_)"
   ]
  },
  {
   "cell_type": "code",
   "execution_count": 0,
   "metadata": {
    "colab": {},
    "colab_type": "code",
    "id": "UVtuK5Gnr5SY"
   },
   "outputs": [],
   "source": [
    "def NER(df):\n",
    "  for i in tempf.index:\n",
    "    qdoc = nlp(tempf['query'][i])\n",
    "    \n",
    "  "
   ]
  },
  {
   "cell_type": "code",
   "execution_count": 0,
   "metadata": {
    "colab": {},
    "colab_type": "code",
    "id": "RnSUVTvlr6YU"
   },
   "outputs": [],
   "source": []
  }
 ],
 "metadata": {
  "colab": {
   "collapsed_sections": [
    "V97eQYEAnOl_",
    "yvc5-qwznp52",
    "7wDkzcpUo7NU",
    "jcR57JMqFY76"
   ],
   "name": "Mark_II.ipynb",
   "provenance": [],
   "version": "0.3.2"
  },
  "kernelspec": {
   "display_name": "Python 3",
   "language": "python",
   "name": "python3"
  },
  "language_info": {
   "codemirror_mode": {
    "name": "ipython",
    "version": 3
   },
   "file_extension": ".py",
   "mimetype": "text/x-python",
   "name": "python",
   "nbconvert_exporter": "python",
   "pygments_lexer": "ipython3",
   "version": "3.6.6"
  }
 },
 "nbformat": 4,
 "nbformat_minor": 1
}
